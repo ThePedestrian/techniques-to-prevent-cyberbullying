{
 "cells": [
  {
   "cell_type": "markdown",
   "metadata": {},
   "source": [
    "# YikYak Topic Modeling, Sentiment and Cyberbullying Analysis\n",
    "\n",
    "----"
   ]
  },
  {
   "cell_type": "markdown",
   "metadata": {},
   "source": [
    "# Table of Contents\n",
    "\n",
    "<ul>\n",
    "<li><a href=\"#Imports\">Imports</a></li>\n",
    "<li><a href=\"#Read-the-data\">Read the data</a><ul style=\"margin:0\">\n",
    "<li><a href=\"#Normalize-Function\">Normalize Function</a></li>\n",
    "<li><a href=\"#Prepare-data\">Prepare data</a></li>\n",
    "</ul>\n",
    "</li>\n",
    "<li><a href=\"#EDA\">EDA</a></li>\n",
    "<li><a href=\"#Topic-Modeling\">Topic Modeling</a><ul style=\"margin:0\">\n",
    "<li><a href=\"#Bag-of-words\">Bag of words</a></li>\n",
    "<li><a href=\"#TF-IDF\">TF-IDF</a></li>\n",
    "</ul>\n",
    "</li>\n",
    "<li><a href=\"#Classifying-Bullying-Trace\">Classifying Bullying Trace</a></li>\n",
    "<li><a href=\"#Sentiment-Analysis\">Sentiment Analysis</a></li>\n",
    "<li><a href=\"#Word-Cloud\">Word Cloud</a></li>\n",
    "</ul>"
   ]
  },
  {
   "cell_type": "markdown",
   "metadata": {},
   "source": [
    "# Imports"
   ]
  },
  {
   "cell_type": "code",
   "execution_count": 1,
   "metadata": {
    "collapsed": true
   },
   "outputs": [],
   "source": [
    "%matplotlib inline"
   ]
  },
  {
   "cell_type": "code",
   "execution_count": 2,
   "metadata": {
    "collapsed": true
   },
   "outputs": [],
   "source": [
    "import numpy as np\n",
    "\n",
    "# setup for tokenization and stopwords\n",
    "import nltk\n",
    "from nltk.corpus import stopwords\n",
    "from nltk.tokenize.toktok import ToktokTokenizer\n",
    "from nltk.stem import WordNetLemmatizer \n",
    "from nltk.stem import PorterStemmer\n",
    "from nltk.corpus import stopwords\n",
    "from nltk.tokenize import wordpunct_tokenize\n",
    "from gensim import corpora, models, similarities\n",
    "import re\n",
    "from bs4 import BeautifulSoup\n",
    "import contractions\n",
    "import unicodedata\n",
    "\n",
    "import gensim\n",
    "import pyLDAvis.gensim\n",
    "\n",
    "import pandas as pd\n",
    "\n",
    "from datetime import datetime\n",
    "\n",
    "import subprocess\n",
    "import os\n",
    "\n",
    "import matplotlib.pyplot as plt\n",
    "\n",
    "from scipy import stats"
   ]
  },
  {
   "cell_type": "markdown",
   "metadata": {},
   "source": [
    "# Read the data"
   ]
  },
  {
   "cell_type": "code",
   "execution_count": 3,
   "metadata": {},
   "outputs": [
    {
     "name": "stdout",
     "output_type": "stream",
     "text": [
      "<class 'pandas.core.frame.DataFrame'>\n",
      "RangeIndex: 6633 entries, 0 to 6632\n",
      "Data columns (total 7 columns):\n",
      "yak_id           6633 non-null object\n",
      "user_id          6633 non-null object\n",
      "post_contents    6633 non-null object\n",
      "score            6633 non-null int64\n",
      "latitue          6633 non-null float64\n",
      "longitude        6633 non-null float64\n",
      "timestamp        6633 non-null datetime64[ns]\n",
      "dtypes: datetime64[ns](1), float64(2), int64(1), object(3)\n",
      "memory usage: 362.8+ KB\n",
      "None\n"
     ]
    },
    {
     "data": {
      "text/html": [
       "<div>\n",
       "<style>\n",
       "    .dataframe thead tr:only-child th {\n",
       "        text-align: right;\n",
       "    }\n",
       "\n",
       "    .dataframe thead th {\n",
       "        text-align: left;\n",
       "    }\n",
       "\n",
       "    .dataframe tbody tr th {\n",
       "        vertical-align: top;\n",
       "    }\n",
       "</style>\n",
       "<table border=\"1\" class=\"dataframe\">\n",
       "  <thead>\n",
       "    <tr style=\"text-align: right;\">\n",
       "      <th></th>\n",
       "      <th>yak_id</th>\n",
       "      <th>user_id</th>\n",
       "      <th>post_contents</th>\n",
       "      <th>score</th>\n",
       "      <th>latitue</th>\n",
       "      <th>longitude</th>\n",
       "      <th>timestamp</th>\n",
       "    </tr>\n",
       "  </thead>\n",
       "  <tbody>\n",
       "    <tr>\n",
       "      <th>0</th>\n",
       "      <td>R/54b705a67b0d579d657138442156b</td>\n",
       "      <td>54b9505b467d4</td>\n",
       "      <td>upvote.</td>\n",
       "      <td>42</td>\n",
       "      <td>42.815096</td>\n",
       "      <td>-77.833656</td>\n",
       "      <td>2015-01-14 19:11:18</td>\n",
       "    </tr>\n",
       "    <tr>\n",
       "      <th>1</th>\n",
       "      <td>R/54b700744579a56e8a3e81a76238c</td>\n",
       "      <td>54b9505b46882</td>\n",
       "      <td>I skipped all the suspense and just bought mys...</td>\n",
       "      <td>21</td>\n",
       "      <td>42.782899</td>\n",
       "      <td>-77.824663</td>\n",
       "      <td>2015-01-14 18:49:08</td>\n",
       "    </tr>\n",
       "    <tr>\n",
       "      <th>2</th>\n",
       "      <td>R/54b43524c26981ecfe2f665646c50</td>\n",
       "      <td>54b9505b46fec</td>\n",
       "      <td>How could I live without Wegmans</td>\n",
       "      <td>21</td>\n",
       "      <td>42.820356</td>\n",
       "      <td>-77.781153</td>\n",
       "      <td>2015-01-12 15:57:08</td>\n",
       "    </tr>\n",
       "    <tr>\n",
       "      <th>3</th>\n",
       "      <td>R/54b5de2c7670b2f6a02d0aeaec243</td>\n",
       "      <td>54b9505b46c8d</td>\n",
       "      <td>Why do we live where the air hurts your face?</td>\n",
       "      <td>16</td>\n",
       "      <td>42.808792</td>\n",
       "      <td>-77.827142</td>\n",
       "      <td>2015-01-13 22:10:36</td>\n",
       "    </tr>\n",
       "    <tr>\n",
       "      <th>4</th>\n",
       "      <td>R/54b6efe2e5b9e84c29aac56688259</td>\n",
       "      <td>54b9505b469d6</td>\n",
       "      <td>Anyone else looking forward to the new season ...</td>\n",
       "      <td>15</td>\n",
       "      <td>42.804032</td>\n",
       "      <td>-77.828611</td>\n",
       "      <td>2015-01-14 17:38:26</td>\n",
       "    </tr>\n",
       "    <tr>\n",
       "      <th>5</th>\n",
       "      <td>R/54b84f6b185568502f9c32f086f65</td>\n",
       "      <td>54b9505b458f1</td>\n",
       "      <td>Welcome to Geneseo transfers. We pride ourselv...</td>\n",
       "      <td>14</td>\n",
       "      <td>42.791956</td>\n",
       "      <td>-77.817910</td>\n",
       "      <td>2015-01-15 18:38:19</td>\n",
       "    </tr>\n",
       "    <tr>\n",
       "      <th>6</th>\n",
       "      <td>R/54b80fb10dac285ddb67fe40b295d</td>\n",
       "      <td>54b9505b45f08</td>\n",
       "      <td>'Where's the red one with the sickle and hamme...</td>\n",
       "      <td>14</td>\n",
       "      <td>42.815852</td>\n",
       "      <td>-77.821682</td>\n",
       "      <td>2015-01-15 14:06:25</td>\n",
       "    </tr>\n",
       "    <tr>\n",
       "      <th>7</th>\n",
       "      <td>R/54b5e2f72c02b2253c4f7a46b46d7</td>\n",
       "      <td>54b9505b46be0</td>\n",
       "      <td>Literally watching a show called big giant swo...</td>\n",
       "      <td>13</td>\n",
       "      <td>42.785129</td>\n",
       "      <td>-77.811152</td>\n",
       "      <td>2015-01-13 22:31:03</td>\n",
       "    </tr>\n",
       "    <tr>\n",
       "      <th>8</th>\n",
       "      <td>R/54b806af522330ed9962283fccbb2</td>\n",
       "      <td>54b9505b45fb6</td>\n",
       "      <td>Only person in my suite for the next few days....</td>\n",
       "      <td>12</td>\n",
       "      <td>42.819234</td>\n",
       "      <td>-77.820048</td>\n",
       "      <td>2015-01-15 13:27:59</td>\n",
       "    </tr>\n",
       "    <tr>\n",
       "      <th>9</th>\n",
       "      <td>R/54b8953e210c26760c6029492c067</td>\n",
       "      <td>54b9505b44ecf</td>\n",
       "      <td>roommates are coming back soon which means I h...</td>\n",
       "      <td>8</td>\n",
       "      <td>42.782657</td>\n",
       "      <td>-77.822605</td>\n",
       "      <td>2015-01-15 23:36:14</td>\n",
       "    </tr>\n",
       "  </tbody>\n",
       "</table>\n",
       "</div>"
      ],
      "text/plain": [
       "                            yak_id        user_id  \\\n",
       "0  R/54b705a67b0d579d657138442156b  54b9505b467d4   \n",
       "1  R/54b700744579a56e8a3e81a76238c  54b9505b46882   \n",
       "2  R/54b43524c26981ecfe2f665646c50  54b9505b46fec   \n",
       "3  R/54b5de2c7670b2f6a02d0aeaec243  54b9505b46c8d   \n",
       "4  R/54b6efe2e5b9e84c29aac56688259  54b9505b469d6   \n",
       "5  R/54b84f6b185568502f9c32f086f65  54b9505b458f1   \n",
       "6  R/54b80fb10dac285ddb67fe40b295d  54b9505b45f08   \n",
       "7  R/54b5e2f72c02b2253c4f7a46b46d7  54b9505b46be0   \n",
       "8  R/54b806af522330ed9962283fccbb2  54b9505b45fb6   \n",
       "9  R/54b8953e210c26760c6029492c067  54b9505b44ecf   \n",
       "\n",
       "                                       post_contents  score    latitue  \\\n",
       "0                                            upvote.     42  42.815096   \n",
       "1  I skipped all the suspense and just bought mys...     21  42.782899   \n",
       "2                  How could I live without Wegmans      21  42.820356   \n",
       "3      Why do we live where the air hurts your face?     16  42.808792   \n",
       "4  Anyone else looking forward to the new season ...     15  42.804032   \n",
       "5  Welcome to Geneseo transfers. We pride ourselv...     14  42.791956   \n",
       "6  'Where's the red one with the sickle and hamme...     14  42.815852   \n",
       "7  Literally watching a show called big giant swo...     13  42.785129   \n",
       "8  Only person in my suite for the next few days....     12  42.819234   \n",
       "9  roommates are coming back soon which means I h...      8  42.782657   \n",
       "\n",
       "   longitude           timestamp  \n",
       "0 -77.833656 2015-01-14 19:11:18  \n",
       "1 -77.824663 2015-01-14 18:49:08  \n",
       "2 -77.781153 2015-01-12 15:57:08  \n",
       "3 -77.827142 2015-01-13 22:10:36  \n",
       "4 -77.828611 2015-01-14 17:38:26  \n",
       "5 -77.817910 2015-01-15 18:38:19  \n",
       "6 -77.821682 2015-01-15 14:06:25  \n",
       "7 -77.811152 2015-01-13 22:31:03  \n",
       "8 -77.820048 2015-01-15 13:27:59  \n",
       "9 -77.822605 2015-01-15 23:36:14  "
      ]
     },
     "execution_count": 3,
     "metadata": {},
     "output_type": "execute_result"
    }
   ],
   "source": [
    "df = pd.read_csv('./data/yaks.csv',parse_dates=['timestamp'])\n",
    "print(df.info())\n",
    "df.head(10)"
   ]
  },
  {
   "cell_type": "code",
   "execution_count": 4,
   "metadata": {},
   "outputs": [
    {
     "data": {
      "text/html": [
       "<div>\n",
       "<style>\n",
       "    .dataframe thead tr:only-child th {\n",
       "        text-align: right;\n",
       "    }\n",
       "\n",
       "    .dataframe thead th {\n",
       "        text-align: left;\n",
       "    }\n",
       "\n",
       "    .dataframe tbody tr th {\n",
       "        vertical-align: top;\n",
       "    }\n",
       "</style>\n",
       "<table border=\"1\" class=\"dataframe\">\n",
       "  <thead>\n",
       "    <tr style=\"text-align: right;\">\n",
       "      <th></th>\n",
       "      <th>post_contents</th>\n",
       "      <th>timestamp</th>\n",
       "    </tr>\n",
       "  </thead>\n",
       "  <tbody>\n",
       "    <tr>\n",
       "      <th>0</th>\n",
       "      <td>upvote.</td>\n",
       "      <td>2015-01-14 19:11:18</td>\n",
       "    </tr>\n",
       "    <tr>\n",
       "      <th>1</th>\n",
       "      <td>I skipped all the suspense and just bought mys...</td>\n",
       "      <td>2015-01-14 18:49:08</td>\n",
       "    </tr>\n",
       "    <tr>\n",
       "      <th>2</th>\n",
       "      <td>How could I live without Wegmans</td>\n",
       "      <td>2015-01-12 15:57:08</td>\n",
       "    </tr>\n",
       "    <tr>\n",
       "      <th>3</th>\n",
       "      <td>Why do we live where the air hurts your face?</td>\n",
       "      <td>2015-01-13 22:10:36</td>\n",
       "    </tr>\n",
       "    <tr>\n",
       "      <th>4</th>\n",
       "      <td>Anyone else looking forward to the new season ...</td>\n",
       "      <td>2015-01-14 17:38:26</td>\n",
       "    </tr>\n",
       "  </tbody>\n",
       "</table>\n",
       "</div>"
      ],
      "text/plain": [
       "                                       post_contents           timestamp\n",
       "0                                            upvote. 2015-01-14 19:11:18\n",
       "1  I skipped all the suspense and just bought mys... 2015-01-14 18:49:08\n",
       "2                  How could I live without Wegmans  2015-01-12 15:57:08\n",
       "3      Why do we live where the air hurts your face? 2015-01-13 22:10:36\n",
       "4  Anyone else looking forward to the new season ... 2015-01-14 17:38:26"
      ]
     },
     "execution_count": 4,
     "metadata": {},
     "output_type": "execute_result"
    }
   ],
   "source": [
    "df[['post_contents', 'timestamp']].head()"
   ]
  },
  {
   "cell_type": "code",
   "execution_count": 5,
   "metadata": {},
   "outputs": [
    {
     "data": {
      "text/plain": [
       "count                    6633\n",
       "unique                   6613\n",
       "top       2015-03-02 01:08:32\n",
       "freq                        2\n",
       "first     2015-01-12 15:57:08\n",
       "last      2015-03-04 12:09:42\n",
       "Name: timestamp, dtype: object"
      ]
     },
     "execution_count": 5,
     "metadata": {},
     "output_type": "execute_result"
    }
   ],
   "source": [
    "df['timestamp'].describe()"
   ]
  },
  {
   "cell_type": "code",
   "execution_count": 29,
   "metadata": {},
   "outputs": [
    {
     "name": "stdout",
     "output_type": "stream",
     "text": [
      "Total count 246\n"
     ]
    },
    {
     "data": {
      "text/html": [
       "<div>\n",
       "<style>\n",
       "    .dataframe thead tr:only-child th {\n",
       "        text-align: right;\n",
       "    }\n",
       "\n",
       "    .dataframe thead th {\n",
       "        text-align: left;\n",
       "    }\n",
       "\n",
       "    .dataframe tbody tr th {\n",
       "        vertical-align: top;\n",
       "    }\n",
       "</style>\n",
       "<table border=\"1\" class=\"dataframe\">\n",
       "  <thead>\n",
       "    <tr style=\"text-align: right;\">\n",
       "      <th></th>\n",
       "      <th>yak_id</th>\n",
       "      <th>user_id</th>\n",
       "      <th>post_contents</th>\n",
       "      <th>score</th>\n",
       "      <th>latitue</th>\n",
       "      <th>longitude</th>\n",
       "      <th>timestamp</th>\n",
       "    </tr>\n",
       "  </thead>\n",
       "  <tbody>\n",
       "    <tr>\n",
       "      <th>3318</th>\n",
       "      <td>R/54d6f171ac39cc28cca6a52bce09b</td>\n",
       "      <td>54d74668461ce</td>\n",
       "      <td>Freedom non-boner</td>\n",
       "      <td>5</td>\n",
       "      <td>42.80</td>\n",
       "      <td>-77.83</td>\n",
       "      <td>2015-02-08 00:17:37</td>\n",
       "    </tr>\n",
       "    <tr>\n",
       "      <th>3319</th>\n",
       "      <td>R/54d6f1ecd6474b2876d1717c2cfbf</td>\n",
       "      <td>54d746684611e</td>\n",
       "      <td>Those thirsty Arabs</td>\n",
       "      <td>-3</td>\n",
       "      <td>42.78</td>\n",
       "      <td>-77.83</td>\n",
       "      <td>2015-02-08 00:19:40</td>\n",
       "    </tr>\n",
       "    <tr>\n",
       "      <th>3320</th>\n",
       "      <td>R/54d6f4589391678957297fbd205c7</td>\n",
       "      <td>54d748c0479df</td>\n",
       "      <td>Superbad is a god damn classic</td>\n",
       "      <td>11</td>\n",
       "      <td>42.81</td>\n",
       "      <td>-77.81</td>\n",
       "      <td>2015-02-08 00:30:00</td>\n",
       "    </tr>\n",
       "    <tr>\n",
       "      <th>3321</th>\n",
       "      <td>R/54d6f3d2db87d784bd33d19d114da</td>\n",
       "      <td>54d748c047a6c</td>\n",
       "      <td>Shut. The. Fuck. Up. People.</td>\n",
       "      <td>4</td>\n",
       "      <td>42.81</td>\n",
       "      <td>-77.84</td>\n",
       "      <td>2015-02-08 00:27:46</td>\n",
       "    </tr>\n",
       "    <tr>\n",
       "      <th>3322</th>\n",
       "      <td>R/54d6f25fcb877d7ddca751f88c658</td>\n",
       "      <td>54d748c047bd0</td>\n",
       "      <td>I just fucked whats-her-name and UOENO</td>\n",
       "      <td>3</td>\n",
       "      <td>42.81</td>\n",
       "      <td>-77.80</td>\n",
       "      <td>2015-02-08 00:21:35</td>\n",
       "    </tr>\n",
       "    <tr>\n",
       "      <th>3323</th>\n",
       "      <td>R/54d6f320e34055ef898f27ea635ec</td>\n",
       "      <td>54d748c047b1e</td>\n",
       "      <td>Freedom Boner!</td>\n",
       "      <td>-1</td>\n",
       "      <td>42.80</td>\n",
       "      <td>-77.81</td>\n",
       "      <td>2015-02-08 00:24:48</td>\n",
       "    </tr>\n",
       "    <tr>\n",
       "      <th>3324</th>\n",
       "      <td>R/54d6f5b98ce3fd665331b7f1a04f4</td>\n",
       "      <td>54d74b184b0f4</td>\n",
       "      <td>Dear pledges You might be hammered tonight but...</td>\n",
       "      <td>56</td>\n",
       "      <td>42.79</td>\n",
       "      <td>-77.80</td>\n",
       "      <td>2015-02-08 00:35:53</td>\n",
       "    </tr>\n",
       "    <tr>\n",
       "      <th>3325</th>\n",
       "      <td>R/54d6f7f085a879dd8c90715377395</td>\n",
       "      <td>54d74d7058a23</td>\n",
       "      <td>Well I've already seen two of my pledge sister...</td>\n",
       "      <td>10</td>\n",
       "      <td>42.82</td>\n",
       "      <td>-77.82</td>\n",
       "      <td>2015-02-08 00:45:20</td>\n",
       "    </tr>\n",
       "    <tr>\n",
       "      <th>3326</th>\n",
       "      <td>R/54d6f7967c192e8b493578ebf5a7f</td>\n",
       "      <td>54d74d7058ad4</td>\n",
       "      <td>It's gonna be a long night</td>\n",
       "      <td>3</td>\n",
       "      <td>42.80</td>\n",
       "      <td>-77.82</td>\n",
       "      <td>2015-02-08 00:43:50</td>\n",
       "    </tr>\n",
       "    <tr>\n",
       "      <th>3327</th>\n",
       "      <td>R/54d6f77076237c6bc24027572fe93</td>\n",
       "      <td>54d74d7058b85</td>\n",
       "      <td>Uhhyup</td>\n",
       "      <td>1</td>\n",
       "      <td>42.78</td>\n",
       "      <td>-77.82</td>\n",
       "      <td>2015-02-08 00:43:12</td>\n",
       "    </tr>\n",
       "  </tbody>\n",
       "</table>\n",
       "</div>"
      ],
      "text/plain": [
       "                               yak_id        user_id  \\\n",
       "3318  R/54d6f171ac39cc28cca6a52bce09b  54d74668461ce   \n",
       "3319  R/54d6f1ecd6474b2876d1717c2cfbf  54d746684611e   \n",
       "3320  R/54d6f4589391678957297fbd205c7  54d748c0479df   \n",
       "3321  R/54d6f3d2db87d784bd33d19d114da  54d748c047a6c   \n",
       "3322  R/54d6f25fcb877d7ddca751f88c658  54d748c047bd0   \n",
       "3323  R/54d6f320e34055ef898f27ea635ec  54d748c047b1e   \n",
       "3324  R/54d6f5b98ce3fd665331b7f1a04f4  54d74b184b0f4   \n",
       "3325  R/54d6f7f085a879dd8c90715377395  54d74d7058a23   \n",
       "3326  R/54d6f7967c192e8b493578ebf5a7f  54d74d7058ad4   \n",
       "3327  R/54d6f77076237c6bc24027572fe93  54d74d7058b85   \n",
       "\n",
       "                                          post_contents  score  latitue  \\\n",
       "3318                                  Freedom non-boner      5    42.80   \n",
       "3319                                Those thirsty Arabs     -3    42.78   \n",
       "3320                    Superbad is a god damn classic      11    42.81   \n",
       "3321                      Shut. The. Fuck. Up. People.       4    42.81   \n",
       "3322             I just fucked whats-her-name and UOENO      3    42.81   \n",
       "3323                                     Freedom Boner!     -1    42.80   \n",
       "3324  Dear pledges You might be hammered tonight but...     56    42.79   \n",
       "3325  Well I've already seen two of my pledge sister...     10    42.82   \n",
       "3326                         It's gonna be a long night      3    42.80   \n",
       "3327                                             Uhhyup      1    42.78   \n",
       "\n",
       "      longitude           timestamp  \n",
       "3318     -77.83 2015-02-08 00:17:37  \n",
       "3319     -77.83 2015-02-08 00:19:40  \n",
       "3320     -77.81 2015-02-08 00:30:00  \n",
       "3321     -77.84 2015-02-08 00:27:46  \n",
       "3322     -77.80 2015-02-08 00:21:35  \n",
       "3323     -77.81 2015-02-08 00:24:48  \n",
       "3324     -77.80 2015-02-08 00:35:53  \n",
       "3325     -77.82 2015-02-08 00:45:20  \n",
       "3326     -77.82 2015-02-08 00:43:50  \n",
       "3327     -77.82 2015-02-08 00:43:12  "
      ]
     },
     "execution_count": 29,
     "metadata": {},
     "output_type": "execute_result"
    }
   ],
   "source": [
    "date_min = pd.Timestamp(datetime(2015, 2, 8, 0, 0, 0))\n",
    "#date_max = pd.Timestamp(datetime(2015, 2, 20, 23, 59, 59))\n",
    "date_max = pd.Timestamp(datetime(2015, 2, 16, 0, 0, 0))\n",
    "\n",
    "df2 = df[(df['timestamp'] >= date_min) & (df['timestamp'] < date_max)]\n",
    "print(\"Total count\", len(df2))\n",
    "df2.head(10)"
   ]
  },
  {
   "cell_type": "markdown",
   "metadata": {},
   "source": [
    "### Normalize Function"
   ]
  },
  {
   "cell_type": "code",
   "execution_count": 7,
   "metadata": {
    "collapsed": true
   },
   "outputs": [],
   "source": [
    "tokenizer = ToktokTokenizer()\n",
    "lemmatizer = WordNetLemmatizer() \n",
    "stemmer = PorterStemmer()\n",
    "\n",
    "STOP_WORDS = set(stopwords.words(\"english\"))\n",
    "STOP_WORDS.update(['.',  ',', '\"', \"'\", '’', '&', '/', '\\\\', '-', '?', '!', ':', ';', '(', ')', '[', ']', '{', '}', '%'])\n",
    "STOP_WORDS.update([\"a\",\"able\",\"about\",\"across\",\"after\",\"all\",\"almost\",\"also\",\"am\",\"among\",\"an\",\"and\",\"any\",\"are\",\"as\",\"at\",\n",
    "                   \"be\",\"because\",\"been\",\"but\",\"by\",\"can\",\"cannot\",\"could\",\"dear\",\"did\",\"do\",\"does\",\"either\",\"else\",\"ever\",\n",
    "                   \"every\",\"for\",\"from\",\"get\",\"got\",\"had\",\"has\",\"have\",\"he\",\"her\",\"hers\",\"him\",\"his\",\"how\",\"however\",\n",
    "                   \"i\",\"if\",\"in\",\"into\",\"is\",\"it\",\"its\",\"just\",\"least\",\"let\",\"like\",\"likely\",\"may\",\"me\",\"might\",\"most\",\n",
    "                   \"must\",\"my\",\"neither\",\"no\",\"nor\",\"not\",\"of\",\"off\",\"often\",\"on\",\"only\",\"or\",\"other\",\"our\",\"own\",\"rather\",\n",
    "                   \"said\",\"say\",\"says\",\"she\",\"should\",\"since\",\"so\",\"some\",\"than\",\"that\",\"the\",\"their\",\"them\",\"then\",\"there\",\n",
    "                   \"these\",\"they\",\"this\",\"tis\",\"to\",\"too\",\"twas\",\"us\",\"wants\",\"was\",\"we\",\"were\",\"what\",\"when\",\"where\",\n",
    "                   \"which\",\"while\",\"who\",\"whom\",\"why\",\"will\",\"with\",\"would\",\"yet\",\"you\",\"your\"])\n",
    "STOP_WORDS = list(STOP_WORDS)\n",
    "\n",
    "STEM_WORDS = False\n",
    "\n",
    "## Cleaning Text - strip HTML\n",
    "def strip_html_tags(text):\n",
    "    soup = BeautifulSoup(text, \"html.parser\")\n",
    "    stripped_text = soup.get_text()\n",
    "    return stripped_text\n",
    "\n",
    "\n",
    "## Removing accented characters\n",
    "def remove_accented_chars(text):\n",
    "    text = unicodedata.normalize('NFKD', text).encode('ascii', 'ignore').decode('utf-8', 'ignore')\n",
    "    return text\n",
    "\n",
    "\n",
    "## Expanding Contractions\n",
    "def expand_contractions(text):\n",
    "    return contractions.fix(text)\n",
    "\n",
    "\n",
    "## Removing Special Characters\n",
    "def remove_special_characters(text):\n",
    "    text = re.sub(r'[^a-zA-z0-9\\s]', '', text)\n",
    "    return text\n",
    "\n",
    "\n",
    "## Lemmatizing text\n",
    "def stem_text(text):\n",
    "    return [stemmer.stem(a) for a in text]\n",
    "\n",
    "\n",
    "## Removing Stopwords\n",
    "def remove_stopwords(word_list):\n",
    "    return [word for word in word_list if word not in STOP_WORDS]\n",
    "\n",
    "\n",
    "## Normalize text corpus - tying it all together\n",
    "def normalize_corpus(corpus, html_stripping=False, contraction_expansion=True,\n",
    "                     accented_char_removal=False, \n",
    "                     stem=True, special_char_removal=False, \n",
    "                     stopword_removal=True):\n",
    "    \n",
    "    if isinstance(corpus, str):\n",
    "        corpus = [corpus]\n",
    "    \n",
    "    normalized_corpus = []\n",
    "    \n",
    "    for doc in corpus:\n",
    "        \n",
    "        if doc is None:\n",
    "            continue\n",
    "            \n",
    "        doc = doc.lower()\n",
    "        \n",
    "        if html_stripping:\n",
    "            doc = strip_html_tags(doc)\n",
    "        \n",
    "        if accented_char_removal:\n",
    "            doc = remove_accented_chars(doc)\n",
    "            \n",
    "        if contraction_expansion:\n",
    "            doc = expand_contractions(doc)\n",
    "            \n",
    "        # remove extra newlines\n",
    "        doc = re.sub(r'[\\r|\\n|\\r\\n]+', ' ',doc)\n",
    "        # insert spaces between special characters to isolate them    \n",
    "        special_char_pattern = re.compile(r'([{.(-)!}])')\n",
    "        doc = special_char_pattern.sub(\" \\\\1 \", doc)\n",
    "        \n",
    "        # remove extra whitespace\n",
    "        doc = re.sub(' +', ' ', doc)\n",
    "        \n",
    "        if special_char_removal:\n",
    "            doc = remove_special_characters(doc) \n",
    "            \n",
    "        doc = tokenizer.tokenize(doc)\n",
    "        \n",
    "        if stem:\n",
    "            doc = stem_text(doc)\n",
    "        \n",
    "        if stopword_removal:\n",
    "            doc = remove_stopwords(doc)\n",
    "            \n",
    "        normalized_corpus.append(' '.join(doc))\n",
    "        \n",
    "    return normalized_corpus[0] if (len(normalized_corpus) == 1) else normalized_corpus\n"
   ]
  },
  {
   "cell_type": "markdown",
   "metadata": {},
   "source": [
    "### Prepare data"
   ]
  },
  {
   "cell_type": "code",
   "execution_count": 30,
   "metadata": {},
   "outputs": [
    {
     "data": {
      "text/plain": [
       "[['freedom'],\n",
       " ['god', 'classic'],\n",
       " ['fuck', 'people'],\n",
       " ['fucked'],\n",
       " ['freedom'],\n",
       " ['pledges', 'tonight', 'next', '6', 'weeks', 'fun'],\n",
       " ['well', 'already', 'two', 'pledge', 'tonight', 'going', 'great', 'semester'],\n",
       " ['going', 'long', 'night'],\n",
       " ['congrats', 'pledges', 'friends'],\n",
       " ['show', 'things'],\n",
       " ['pledges', 'fun', 'next', '6', 'weeks'],\n",
       " ['sports', 'greek', 'life', 'day', 'better', 'drama'],\n",
       " ['see', 'person', 'wanted', 'see', 'long', 'time', 'want'],\n",
       " ['family', 'perfect', 'love', 'perfect', 'little', 'life'],\n",
       " ['need', 'someone', 'sleep'],\n",
       " ['probably', 'leave', 'go', 'bed'],\n",
       " ['think', 'guy', 'good'],\n",
       " ['much',\n",
       "  'people',\n",
       "  'go',\n",
       "  'good',\n",
       "  'time',\n",
       "  'without',\n",
       "  'paying',\n",
       "  'dues',\n",
       "  'semester'],\n",
       " ['need', 'daga', 'snuggle', 'buddy'],\n",
       " ['wish', 'ur', 'alcoholic', 'mom', 'leave', 'family', 'alone'],\n",
       " ['lesbian', 'looking', 'try', 'dick', 'first', 'time'],\n",
       " ['dad', 'away', 'mom', 'home', 'alone', 'feel'],\n",
       " ['look', 'go'],\n",
       " ['geneseo', 'alone', 'long'],\n",
       " ['wish',\n",
       "  'love',\n",
       "  'boyfriend',\n",
       "  'death',\n",
       "  'go',\n",
       "  'love',\n",
       "  'someone',\n",
       "  'cuddle',\n",
       "  'sometimes'],\n",
       " ['girls', 'want', 'smoke', 'cuddle', 'house'],\n",
       " ['told', 'guys', 'period', 'order', 'period'],\n",
       " ['things'],\n",
       " ['girl', 'party'],\n",
       " ['anyone', 'want', 'smoke', 'sex'],\n",
       " ['someone', 'really'],\n",
       " ['end', 'night', 'getting'],\n",
       " ['need'],\n",
       " ['look', 'alive'],\n",
       " ['girls', 'guy', 'stretch', 'marks'],\n",
       " ['high', 'rn'],\n",
       " ['someone', 'many', 'friends', 'still', 'feel', 'alone'],\n",
       " ['time', 'go', 'feel', 'go', 'home', 'alone', 'wish', 'lonely'],\n",
       " ['think', 'alcoholic'],\n",
       " ['college'],\n",
       " ['girls'],\n",
       " ['honestly',\n",
       "  'hate',\n",
       "  'girls',\n",
       "  'great',\n",
       "  'guy',\n",
       "  'girl',\n",
       "  'still',\n",
       "  'one',\n",
       "  'trying'],\n",
       " ['weird', 'statesmen', 'butt'],\n",
       " ['want', 'statesmen', 'high', 'friends', 'sleep'],\n",
       " ['weird', 'ur', 'butt'],\n",
       " ['actually', 'fucked'],\n",
       " ['supposed', 'cute', 'guy', 'around', 'statesmen', 'make'],\n",
       " ['wanted', 'go', 'home', 'hockey', 'guy'],\n",
       " ['sure', 'beer', 'shits', 'period', 'shits'],\n",
       " ['stop'],\n",
       " ['worst', 'life'],\n",
       " ['bids', 'night', 'right'],\n",
       " ['think', 'last', 'night'],\n",
       " ['think', 'geneseo', 'whole', 'drunk', 'fuck', 'last', 'night'],\n",
       " ['ok',\n",
       "  'greek',\n",
       "  'life',\n",
       "  'sports',\n",
       "  'make',\n",
       "  'bad',\n",
       "  'friends',\n",
       "  'pay',\n",
       "  'dues',\n",
       "  'alcohol',\n",
       "  'end'],\n",
       " ['pay', 'beer', 'friends'],\n",
       " ['pretty', 'sure', 'still', 'drunk', 'last', 'night'],\n",
       " ['taste'],\n",
       " ['congrats', 'bids', 'house'],\n",
       " ['someone', 'woke', 'today', 'realized', 'giving', 'back', 'girl', 'know'],\n",
       " ['college', 'thinks'],\n",
       " ['guys', 'care', 'girl', 'stretch', 'marks'],\n",
       " ['weird', 'make', 'give', 'random', 'girls', 'valentine', 'day'],\n",
       " ['nice', 'horny', 'girlfriend'],\n",
       " ['want', 'sex', 'already'],\n",
       " ['still', 'drunk', 'right'],\n",
       " ['creature', 'even', 'pledge', 'hungover'],\n",
       " ['bids', 'night', 'holy'],\n",
       " ['picked', 'cas', 'semester', 'already', 'hate', 'life'],\n",
       " ['see', 'hot', 'girl', 'try', 'find', 'boyfriend'],\n",
       " ['feel', 'much', 'work', 'studying', 'still', 'always'],\n",
       " ['love'],\n",
       " ['sex', 'times', 'already', 'today'],\n",
       " ['birthday', 'last', 'night', 'sleep', 'forever'],\n",
       " ['think', 'geneseo'],\n",
       " ['everyone', 'daga'],\n",
       " ['day'],\n",
       " ['death', 'alone', 'die', 'last', 'human'],\n",
       " ['mom',\n",
       "  'used',\n",
       "  'crust',\n",
       "  'lunch',\n",
       "  'crust',\n",
       "  'favorite',\n",
       "  'much',\n",
       "  'thank',\n",
       "  'god',\n",
       "  'im'],\n",
       " ['favorite'],\n",
       " ['anyone', 'know'],\n",
       " ['years', 'old', 'still', 'girls', 'make', 'shower'],\n",
       " ['still', 'alive', 'balls'],\n",
       " ['sucks',\n",
       "  'always',\n",
       "  'feeling',\n",
       "  'lonely',\n",
       "  'feel',\n",
       "  'friends',\n",
       "  'still',\n",
       "  'feel',\n",
       "  'know'],\n",
       " ['dream', 'last', 'night', 'home', 'senior'],\n",
       " ['want', 'make', 'face', 'hard'],\n",
       " ['anyone', 'south'],\n",
       " ['much', 'alcohol'],\n",
       " ['love', 'butt', 'cute', 'creature'],\n",
       " ['last', 'night', 'whole'],\n",
       " ['please', 'conversation', 'trying', 'poop'],\n",
       " ['think', 'sober', 'person', 'statesmen', 'last', 'night', 'lot'],\n",
       " ['want'],\n",
       " ['ate', 'lunch', 'honestly', 'best', 'semester'],\n",
       " ['people', 'take', 'one', 'look', 'plans', 'plans'],\n",
       " ['girls'],\n",
       " ['lot', 'hope'],\n",
       " ['excited', 'valentine', 'go', 'night', 'long', 'even'],\n",
       " ['saw', 'group', 'guys', 'last', 'night', 'girl', 'fake'],\n",
       " ['girls', 'hard'],\n",
       " ['please', 'sit', 'face'],\n",
       " ['sometimes', 'need', 'sunday', 'alone', 'last', 'night'],\n",
       " ['petition', 'day'],\n",
       " ['fuck', 'buddy', '8', 'feelings', 'try', 'talk'],\n",
       " ['want', 'lot', 'guys', 'hate'],\n",
       " ['nice', 'party'],\n",
       " ['sucks', 'feeling', 'someone', 'even', 'never', 'life'],\n",
       " ['anyone', 'want', 'put', 'group'],\n",
       " ['anyone', 'actually', 'good', 'giving', 'south'],\n",
       " ['pretty', 'much', 'geneseo', 'right'],\n",
       " ['fuck', 'boys', 'fuck', 'boys', 'long'],\n",
       " ['food'],\n",
       " ['look',\n",
       "  'studying',\n",
       "  'something',\n",
       "  'really',\n",
       "  'watching',\n",
       "  'story',\n",
       "  'trying',\n",
       "  'cry'],\n",
       " ['one', 'balls', 'go'],\n",
       " ['ready', 'study', 'poop'],\n",
       " ['dunno',\n",
       "  'people',\n",
       "  'problem',\n",
       "  'girls',\n",
       "  'dunno',\n",
       "  'without',\n",
       "  'probably',\n",
       "  'find',\n",
       "  'girlfriend',\n",
       "  'make',\n",
       "  'go',\n",
       "  'something'],\n",
       " ['people', 'problem', 'greek', 'life', 'wrong', 'people', 'week'],\n",
       " ['tell', 'hungover', 'sick'],\n",
       " ['new'],\n",
       " ['okay'],\n",
       " ['even', 'sleep', 'work', 'sunday', 'still', 'fucking', 'sucks'],\n",
       " ['bad', 'people', 'horses', 'horses', 'bad', 'people'],\n",
       " ['late', 'rush', 'apo'],\n",
       " ['one', 'learning', 'good', 'time', 'without', 'getting', 'drunk'],\n",
       " ['classic', 'sunday'],\n",
       " ['guys', 'pull', 'today'],\n",
       " ['going', 'conversation', 'people', 'go', 'study'],\n",
       " ['coming', 'back'],\n",
       " ['rush', 'apo', 'even', 'senior'],\n",
       " ['hope'],\n",
       " ['self', 'watching', 'netflix', 'day', 'sunday'],\n",
       " ['party'],\n",
       " ['fix', 'fix'],\n",
       " ['want', 'go', 'home'],\n",
       " ['never', 'pass'],\n",
       " ['spend', 'lot', 'time', 'people', 'sometimes', 'really', 'need'],\n",
       " ['know'],\n",
       " ['think', 'shit', 'calling', 'girl', 'girl', 'lesbian', 'self'],\n",
       " ['supposed', 'little'],\n",
       " ['wear', 'night'],\n",
       " ['last', 'night', 'bids', 'best', 'woke', 'sleep', 'next'],\n",
       " ['horny', 'put'],\n",
       " ['calling', 'home', 'weird', 'way', 'bad', 'day', 'little', 'better'],\n",
       " ['pull', 'shit', 'fake'],\n",
       " ['anyone', 'fucked', 'people', 'really', 'two', 'classes'],\n",
       " ['way', 'life', 'one', 'long', 'never'],\n",
       " ['today', 'first', 'day', 'times'],\n",
       " ['yo', 'nice', 'girlfriend'],\n",
       " ['think', 'picked', 'wrong', 'school'],\n",
       " ['saw',\n",
       "  'jesus',\n",
       "  'dream',\n",
       "  'last',\n",
       "  'night',\n",
       "  'told',\n",
       "  'stop',\n",
       "  'going',\n",
       "  'statesmen'],\n",
       " ['make', 'time', 'go'],\n",
       " ['shit'],\n",
       " ['anorexia', 'much', 'dangerous', 'weight', 'anorexia', 'dangerous'],\n",
       " ['looking', 'someone', 'find', 'attractive'],\n",
       " ['need', 'valentine', 'need', '8'],\n",
       " ['waiting', 'day', 'shower'],\n",
       " ['found'],\n",
       " ['relationship', 'waiting'],\n",
       " ['everyone'],\n",
       " ['think', 'tell', 'ready'],\n",
       " ['tight', 'tight', 'tight'],\n",
       " ['stop', 'trying', 'help', 'weight'],\n",
       " ['hate',\n",
       "  'much',\n",
       "  'watch',\n",
       "  'netflix',\n",
       "  'everyday',\n",
       "  'try',\n",
       "  'sleep',\n",
       "  'actually',\n",
       "  'pass',\n",
       "  'semester'],\n",
       " ['late', 'night', 'without'],\n",
       " ['long', 'watch'],\n",
       " ['life'],\n",
       " ['next', 'week', 'people', 'come', 'know'],\n",
       " ['friends', 'hours', 'bid', 'night', 'talk'],\n",
       " ['saw', 'jesus', 'told', 'okay', 'pay'],\n",
       " ['food', 'pledge'],\n",
       " ['shower', 'sex', 'rn'],\n",
       " ['fucking', 'one', 'thinks', 'ok'],\n",
       " ['vodka', 'potatoes', 'potatoes', 'vodka'],\n",
       " ['hate', 'long', 'fall', 'much', 'life'],\n",
       " ['yo', 'fuck', 'want', 'random', 'girlfriend', 'hot'],\n",
       " ['want', 'fucking', 'bad', 'wish', 'something', 'show', 'okay'],\n",
       " ['first', 'time', 'sex', 'girl'],\n",
       " ['girls', 'want'],\n",
       " ['crave', 'sex', 'relationship'],\n",
       " ['petition', 'chipotle', 'geneseo', 'chipotle', 'work'],\n",
       " ['valentine', 'worst', 'new', 'drunk', 'girl'],\n",
       " ['actually', 'paying', 'girls', 'take'],\n",
       " ['sick', 'people'],\n",
       " ['boyfriend', 'go', 'home', 'cuddle', 'old', 'valentine', 'day', 'think'],\n",
       " ['girl', 'found', 'find', 'attractive'],\n",
       " ['birthday',\n",
       "  'coming',\n",
       "  'im',\n",
       "  'even',\n",
       "  'excited',\n",
       "  'friends',\n",
       "  'even',\n",
       "  'want',\n",
       "  'spend',\n",
       "  'time',\n",
       "  'well',\n",
       "  'go',\n",
       "  'away'],\n",
       " ['want',\n",
       "  'come',\n",
       "  'snuggle',\n",
       "  'watch',\n",
       "  'netflix',\n",
       "  'talk',\n",
       "  'life',\n",
       "  'hours',\n",
       "  'know'],\n",
       " ['tired', 'learning', 'shit', 'tired', 'shit', 'life', 'shit', 'everyday'],\n",
       " ['bed', 'ate', 'help'],\n",
       " ['guy', 'girl', 'friends'],\n",
       " ['fuck'],\n",
       " ['snow', 'coming', 'classes', 'tomorrow'],\n",
       " ['love', 'hockey', 'boys'],\n",
       " ['mom'],\n",
       " ['wish', 'still', 'fall'],\n",
       " ['friends',\n",
       "  'much',\n",
       "  'drama',\n",
       "  'right',\n",
       "  'one',\n",
       "  'come',\n",
       "  'care',\n",
       "  'sick',\n",
       "  'cry',\n",
       "  'need',\n",
       "  'someone'],\n",
       " ['many', 'people', 'feeling', 'sad', 'anyone', 'love', 'love', 'first'],\n",
       " ['love'],\n",
       " ['really', 'accidentally', 'human', 'life', 'accidentally', 'make'],\n",
       " ['sex',\n",
       "  'great',\n",
       "  'sex',\n",
       "  'better',\n",
       "  'wear',\n",
       "  'want',\n",
       "  'late',\n",
       "  'text',\n",
       "  'think',\n",
       "  'late',\n",
       "  'text'],\n",
       " ['sad', 'crave', 'someone'],\n",
       " ['used', 'put', 'dick', 'talk'],\n",
       " ['want', 'mom', 'know'],\n",
       " ['bed', '1'],\n",
       " ['dick', 'snow', 'day', 'around'],\n",
       " ['snow', 'day', 'school'],\n",
       " ['need', 'person', 'sit', 'talk', 'hours', 'end', 'feelings', 'things'],\n",
       " ['week', 'day', 'week', 'great'],\n",
       " ['person', 'bids', 'first', 'time', 'one', 'bid', '1', 'years', 'give'],\n",
       " ['want', 'taste'],\n",
       " ['shower', 'felt', 'end', 'shower', 'realized', 'shit', 'cas', 'thank'],\n",
       " ['things',\n",
       "  'weird',\n",
       "  'best',\n",
       "  'girl',\n",
       "  'relationship',\n",
       "  'romantic',\n",
       "  'relationship',\n",
       "  'little',\n",
       "  'feeling'],\n",
       " ['someone', 'eat', 'lunch', 'tomorrow', 'even', 'eat', 'alone'],\n",
       " ['know', 'know'],\n",
       " ['everyone', 'college', 'fun', 'feel', 'people', 'know', 'forever', 'alone'],\n",
       " ['sunday', 'shit', 'much'],\n",
       " ['love',\n",
       "  'romantic',\n",
       "  'sober',\n",
       "  'kiss',\n",
       "  'girls',\n",
       "  'kiss',\n",
       "  'statesmen',\n",
       "  'drunk',\n",
       "  'need'],\n",
       " ['want', 'fuck', 'dad'],\n",
       " ['hot'],\n",
       " ['want', 'go', 'school'],\n",
       " ['still'],\n",
       " ['even', 'life', 'sucks', 'still', 'story'],\n",
       " ['always', 'felt', 'work'],\n",
       " ['always', 'one', 'care', 'much'],\n",
       " ['everyone'],\n",
       " ['girl', 'holy', 'shit', 'guy', 'dick', 'sure'],\n",
       " ['sometimes', 'wish', 'tell', 'sex', 'ten', 'order', 'ten'],\n",
       " ['die', 'getting']]"
      ]
     },
     "execution_count": 30,
     "metadata": {},
     "output_type": "execute_result"
    }
   ],
   "source": [
    "def get_parsed_comments(df):\n",
    "    comments = []\n",
    "    for index, row in df.iterrows():\n",
    "        comments.append(row['post_contents'])\n",
    "    \n",
    "    results = []\n",
    "    for comment in comments:\n",
    "        results.append(normalize_corpus(comment, stem=STEM_WORDS).split(' '))\n",
    "    return results\n",
    "\n",
    "def get_corpra(texts):\n",
    "    all_words = []\n",
    "    for t in texts:\n",
    "        all_words += t\n",
    "        \n",
    "    all_tokens = all_words\n",
    "    \n",
    "    # remove words that appear only once\n",
    "    tokens_once = set(word for word in set(all_tokens) if all_tokens.count(word) == 1)\n",
    "    \n",
    "    results = []\n",
    "    #texts = [[words for words in texts if words not in tokens_once] for words in all_tokens]\n",
    "    i = 0\n",
    "    for text in texts:\n",
    "        r = []\n",
    "        for t in text:\n",
    "            if t not in tokens_once and t:\n",
    "                r.append(t)\n",
    "        if len(r) > 0:\n",
    "            results.append(r)\n",
    "    \n",
    "    return results\n",
    "\n",
    "\n",
    "texts = get_parsed_comments(df2)\n",
    "texts = get_corpra(texts)\n",
    "texts"
   ]
  },
  {
   "cell_type": "markdown",
   "metadata": {},
   "source": [
    "# EDA"
   ]
  },
  {
   "cell_type": "code",
   "execution_count": 9,
   "metadata": {
    "collapsed": true
   },
   "outputs": [],
   "source": [
    "def get_all_yaks(df):\n",
    "    comments = []\n",
    "    for index, row in df.iterrows():\n",
    "        comments.append(row['post_contents'])\n",
    "    return comments\n",
    "\n",
    "all_yaks = get_all_yaks(df)\n",
    "num_characters = np.array([len(yak) for yak in all_yaks])\n",
    "num_words = np.array([len(yak.split(' ')) for yak in all_yaks])"
   ]
  },
  {
   "cell_type": "code",
   "execution_count": 22,
   "metadata": {},
   "outputs": [
    {
     "data": {
      "image/png": "[encoded data removed]",
      "text/plain": [
       "<matplotlib.figure.Figure at 0x1a2691bdd8>"
      ]
     },
     "metadata": {},
     "output_type": "display_data"
    },
    {
     "data": {
      "text/plain": [
       "DescribeResult(nobs=6633, minmax=(1, 266), mean=69.82632293080054, variance=1847.3947412569785, skewness=0.9444439039622454, kurtosis=0.5451726410780102)"
      ]
     },
     "execution_count": 22,
     "metadata": {},
     "output_type": "execute_result"
    }
   ],
   "source": [
    "plt.hist(num_characters, bins='auto', color='red', alpha=0.9, rwidth=0.85)\n",
    "plt.title('Distribution of characters in yak')\n",
    "plt.ylabel('Frequency');\n",
    "plt.xlabel('Number of characters');\n",
    "plt.show()\n",
    "plt.close()\n",
    "\n",
    "stats.describe(num_characters)"
   ]
  },
  {
   "cell_type": "code",
   "execution_count": 23,
   "metadata": {},
   "outputs": [
    {
     "data": {
      "image/png": "[encoded data removed]",
      "text/plain": [
       "<matplotlib.figure.Figure at 0x1a2768e860>"
      ]
     },
     "metadata": {},
     "output_type": "display_data"
    },
    {
     "data": {
      "text/plain": [
       "DescribeResult(nobs=6633, minmax=(1, 55), mean=13.78818031056837, variance=69.97729091320092, skewness=0.9333202315389606, kurtosis=0.6141180862936952)"
      ]
     },
     "execution_count": 23,
     "metadata": {},
     "output_type": "execute_result"
    }
   ],
   "source": [
    "plt.hist(num_words, bins='auto', color='red', alpha=0.9, rwidth=0.85)\n",
    "plt.title('Distribution of words in yak')\n",
    "plt.ylabel('Frequency');\n",
    "plt.xlabel('Number of words');\n",
    "plt.show()\n",
    "plt.close()\n",
    "\n",
    "stats.describe(num_words)"
   ]
  },
  {
   "cell_type": "markdown",
   "metadata": {},
   "source": [
    "# Topic Modeling"
   ]
  },
  {
   "cell_type": "code",
   "execution_count": 12,
   "metadata": {
    "collapsed": true
   },
   "outputs": [],
   "source": [
    "def get_terms_only(s):\n",
    "    s = s.replace('+', '')\n",
    "    s = s.replace('-', '')\n",
    "    s = s.replace('.', '')\n",
    "    s = s.replace('*', '')\n",
    "    s = s.replace('/', '')\n",
    "    s = ''.join([i for i in s if not i.isdigit()])\n",
    "    s = s.split('\"')\n",
    "    return [x for x in s if x.strip()]"
   ]
  },
  {
   "cell_type": "markdown",
   "metadata": {},
   "source": [
    "### Bag of words"
   ]
  },
  {
   "cell_type": "code",
   "execution_count": 31,
   "metadata": {},
   "outputs": [
    {
     "name": "stdout",
     "output_type": "stream",
     "text": [
      "['much', 'fuck', 'girl', 'want', 'think', 'anyone', 'tight', 'good', 'ten', 'hot']\n",
      "['need', 'girls', 'one', 'want', 'life', 'night', 'trying', 'kiss', 'accidentally', 'plans']\n",
      "['know', 'life', 'feel', 'please', 'fix', 'want', 'day', 'still', 'fucked', 'really']\n",
      "['night', 'know', 'still', 'even', 'sleep', 'day', 'last', 'period', 'week', 'bids']\n",
      "['first', 'chipotle', 'feelings', 'time', 'try', 'talk', 'times', 'girl', 'sex', 'today']\n",
      "['night', 'guys', 'going', 'last', 'go', 'friends', 'girl', 'saw', 'semester', 'people']\n",
      "['even', 'alone', 'go', 'want', 'weird', 'home', 'sex', 'girls', 'away', 'late']\n",
      "['go', 'shit', 'friends', 'make', 'statesmen', 'guy', 'want', 'someone', 'tired', 'think']\n",
      "['love', 'people', 'still', 'go', 'sometimes', 'shower', 'need', 'night', 'really', 'anorexia']\n",
      "['people', 'much', 'life', 'someone', 'hate', 'long', 'fun', 'alone', 'know', 'love']\n"
     ]
    },
    {
     "data": {
      "text/html": [
       "\n",
       "<link rel=\"stylesheet\" type=\"text/css\" href=\"https://cdn.rawgit.com/bmabey/pyLDAvis/files/ldavis.v1.0.0.css\">\n",
       "\n",
       "\n",
       "<div id=\"ldavis_el852161123880343764747618596\"></div>\n",
       "<script type=\"text/javascript\">\n",
       "\n",
       "var ldavis_el852161123880343764747618596_data = {\"mdsDat\": {\"Freq\": [13.915628798350294, 13.068014997174052, 11.20592582273148, 11.094397181189152, 10.452557434407112, 9.776617651153014, 9.108479040777247, 8.980841636453883, 7.158968158897437, 5.23856927886633], \"cluster\": [1, 1, 1, 1, 1, 1, 1, 1, 1, 1], \"topics\": [1, 2, 3, 4, 5, 6, 7, 8, 9, 10], \"x\": [0.046663905071735484, 0.029801323102456877, 0.07667365921124285, 0.16667782184628707, -0.04175293051731517, -0.13954961029837623, -0.06622017151888122, -0.08079351949427056, 0.008849279698752092, -0.00034975710163109413], \"y\": [-0.0537430771811978, 0.036267533652386136, 0.14046673561946688, -0.016401299752521872, 0.10005936056824229, 0.05073250148022161, -0.061886663799300544, -0.017395290051637775, -0.09976216888676283, -0.0783376316488963]}, \"tinfo\": {\"Category\": [\"Default\", \"Default\", \"Default\", \"Default\", \"Default\", \"Default\", \"Default\", \"Default\", \"Default\", \"Default\", \"Default\", \"Default\", \"Default\", \"Default\", \"Default\", \"Default\", \"Default\", \"Default\", \"Default\", \"Default\", \"Default\", \"Default\", \"Default\", \"Default\", \"Default\", \"Default\", \"Default\", \"Default\", \"Default\", \"Default\", \"Topic1\", \"Topic1\", \"Topic1\", \"Topic1\", \"Topic1\", \"Topic1\", \"Topic1\", \"Topic1\", \"Topic1\", \"Topic1\", \"Topic1\", \"Topic1\", \"Topic1\", \"Topic1\", \"Topic1\", \"Topic1\", \"Topic1\", \"Topic1\", \"Topic1\", \"Topic1\", \"Topic1\", \"Topic1\", \"Topic1\", \"Topic1\", \"Topic1\", \"Topic1\", \"Topic1\", \"Topic1\", \"Topic1\", \"Topic1\", \"Topic1\", \"Topic1\", \"Topic1\", \"Topic1\", \"Topic1\", \"Topic1\", \"Topic1\", \"Topic1\", \"Topic1\", \"Topic1\", \"Topic1\", \"Topic1\", \"Topic1\", \"Topic2\", \"Topic2\", \"Topic2\", \"Topic2\", \"Topic2\", \"Topic2\", \"Topic2\", \"Topic2\", \"Topic2\", \"Topic2\", \"Topic2\", \"Topic2\", \"Topic2\", \"Topic2\", \"Topic2\", \"Topic2\", \"Topic2\", \"Topic2\", \"Topic2\", \"Topic2\", \"Topic2\", \"Topic2\", \"Topic2\", \"Topic2\", \"Topic2\", \"Topic2\", \"Topic2\", \"Topic2\", \"Topic2\", \"Topic2\", \"Topic2\", \"Topic2\", \"Topic2\", \"Topic2\", \"Topic2\", \"Topic2\", \"Topic2\", \"Topic2\", \"Topic2\", \"Topic2\", \"Topic2\", \"Topic2\", \"Topic2\", \"Topic2\", \"Topic2\", \"Topic3\", \"Topic3\", \"Topic3\", \"Topic3\", \"Topic3\", \"Topic3\", \"Topic3\", \"Topic3\", \"Topic3\", \"Topic3\", \"Topic3\", \"Topic3\", \"Topic3\", \"Topic3\", \"Topic3\", \"Topic3\", \"Topic3\", \"Topic3\", \"Topic3\", \"Topic3\", \"Topic3\", \"Topic3\", \"Topic3\", \"Topic3\", \"Topic3\", \"Topic3\", \"Topic3\", \"Topic3\", \"Topic3\", \"Topic3\", \"Topic3\", \"Topic3\", \"Topic3\", \"Topic3\", \"Topic3\", \"Topic3\", \"Topic3\", \"Topic3\", \"Topic3\", \"Topic3\", \"Topic3\", \"Topic3\", \"Topic3\", \"Topic3\", \"Topic3\", \"Topic3\", \"Topic4\", \"Topic4\", \"Topic4\", \"Topic4\", \"Topic4\", \"Topic4\", \"Topic4\", \"Topic4\", \"Topic4\", \"Topic4\", \"Topic4\", \"Topic4\", \"Topic4\", \"Topic4\", \"Topic4\", \"Topic4\", \"Topic4\", \"Topic4\", \"Topic4\", \"Topic4\", \"Topic4\", \"Topic4\", \"Topic4\", \"Topic4\", \"Topic4\", \"Topic4\", \"Topic4\", \"Topic4\", \"Topic4\", \"Topic4\", \"Topic4\", \"Topic4\", \"Topic4\", \"Topic4\", \"Topic4\", \"Topic4\", \"Topic4\", \"Topic4\", \"Topic4\", \"Topic4\", \"Topic4\", \"Topic4\", \"Topic4\", \"Topic4\", \"Topic5\", \"Topic5\", \"Topic5\", \"Topic5\", \"Topic5\", \"Topic5\", \"Topic5\", \"Topic5\", \"Topic5\", \"Topic5\", \"Topic5\", \"Topic5\", \"Topic5\", \"Topic5\", \"Topic5\", \"Topic5\", \"Topic5\", \"Topic5\", \"Topic5\", \"Topic5\", \"Topic5\", \"Topic5\", \"Topic5\", \"Topic5\", \"Topic5\", \"Topic5\", \"Topic5\", \"Topic5\", \"Topic5\", \"Topic5\", \"Topic5\", \"Topic5\", \"Topic5\", \"Topic5\", \"Topic5\", \"Topic5\", \"Topic5\", \"Topic5\", \"Topic5\", \"Topic5\", \"Topic5\", \"Topic5\", \"Topic5\", \"Topic5\", \"Topic5\", \"Topic5\", \"Topic5\", \"Topic6\", \"Topic6\", \"Topic6\", \"Topic6\", \"Topic6\", \"Topic6\", \"Topic6\", \"Topic6\", \"Topic6\", \"Topic6\", \"Topic6\", \"Topic6\", \"Topic6\", \"Topic6\", \"Topic6\", \"Topic6\", \"Topic6\", \"Topic6\", \"Topic6\", \"Topic6\", \"Topic6\", \"Topic6\", \"Topic6\", \"Topic6\", \"Topic6\", \"Topic6\", \"Topic6\", \"Topic6\", \"Topic6\", \"Topic6\", \"Topic6\", \"Topic6\", \"Topic6\", \"Topic6\", \"Topic6\", \"Topic6\", \"Topic6\", \"Topic6\", \"Topic6\", \"Topic6\", \"Topic6\", \"Topic6\", \"Topic6\", \"Topic6\", \"Topic6\", \"Topic6\", \"Topic6\", \"Topic7\", \"Topic7\", \"Topic7\", \"Topic7\", \"Topic7\", \"Topic7\", \"Topic7\", \"Topic7\", \"Topic7\", \"Topic7\", \"Topic7\", \"Topic7\", \"Topic7\", \"Topic7\", \"Topic7\", \"Topic7\", \"Topic7\", \"Topic7\", \"Topic7\", \"Topic7\", \"Topic7\", \"Topic7\", \"Topic7\", \"Topic7\", \"Topic7\", \"Topic7\", \"Topic7\", \"Topic7\", \"Topic7\", \"Topic7\", \"Topic7\", \"Topic7\", \"Topic7\", \"Topic7\", \"Topic7\", \"Topic7\", \"Topic7\", \"Topic7\", \"Topic7\", \"Topic7\", \"Topic7\", \"Topic7\", \"Topic7\", \"Topic7\", \"Topic7\", \"Topic7\", \"Topic7\", \"Topic7\", \"Topic8\", \"Topic8\", \"Topic8\", \"Topic8\", \"Topic8\", \"Topic8\", \"Topic8\", \"Topic8\", \"Topic8\", \"Topic8\", \"Topic8\", \"Topic8\", \"Topic8\", \"Topic8\", \"Topic8\", \"Topic8\", \"Topic8\", \"Topic8\", \"Topic8\", \"Topic8\", \"Topic8\", \"Topic8\", \"Topic8\", \"Topic8\", \"Topic8\", \"Topic8\", \"Topic8\", \"Topic8\", \"Topic8\", \"Topic8\", \"Topic8\", \"Topic8\", \"Topic8\", \"Topic8\", \"Topic8\", \"Topic8\", \"Topic8\", \"Topic8\", \"Topic8\", \"Topic8\", \"Topic8\", \"Topic8\", \"Topic8\", \"Topic8\", \"Topic8\", \"Topic8\", \"Topic8\", \"Topic8\", \"Topic8\", \"Topic8\", \"Topic8\", \"Topic8\", \"Topic8\", \"Topic9\", \"Topic9\", \"Topic9\", \"Topic9\", \"Topic9\", \"Topic9\", \"Topic9\", \"Topic9\", \"Topic9\", \"Topic9\", \"Topic9\", \"Topic9\", \"Topic9\", \"Topic9\", \"Topic9\", \"Topic9\", \"Topic9\", \"Topic9\", \"Topic9\", \"Topic9\", \"Topic9\", \"Topic9\", \"Topic9\", \"Topic9\", \"Topic9\", \"Topic9\", \"Topic9\", \"Topic9\", \"Topic9\", \"Topic9\", \"Topic9\", \"Topic9\", \"Topic9\", \"Topic9\", \"Topic9\", \"Topic9\", \"Topic9\", \"Topic9\", \"Topic9\", \"Topic9\", \"Topic9\", \"Topic10\", \"Topic10\", \"Topic10\", \"Topic10\", \"Topic10\", \"Topic10\", \"Topic10\", \"Topic10\", \"Topic10\", \"Topic10\", \"Topic10\", \"Topic10\", \"Topic10\", \"Topic10\", \"Topic10\", \"Topic10\", \"Topic10\", \"Topic10\", \"Topic10\", \"Topic10\", \"Topic10\", \"Topic10\", \"Topic10\", \"Topic10\", \"Topic10\", \"Topic10\", \"Topic10\", \"Topic10\", \"Topic10\", \"Topic10\", \"Topic10\", \"Topic10\", \"Topic10\", \"Topic10\", \"Topic10\", \"Topic10\", \"Topic10\"], \"Freq\": [15.0, 8.0, 8.0, 10.0, 11.0, 6.0, 4.0, 7.0, 13.0, 8.0, 8.0, 9.0, 7.0, 8.0, 4.0, 8.0, 4.0, 6.0, 3.0, 5.0, 2.0, 2.0, 8.0, 7.0, 12.0, 6.0, 4.0, 4.0, 3.0, 9.0, 2.55035472457219, 1.727648285577197, 1.7276380021245956, 1.727637754330557, 1.7276397366828657, 1.7272744882699826, 1.7276451881517148, 1.727283904443449, 1.7275277337774226, 1.7276630293224933, 1.7276106208833313, 2.550369096626428, 1.7275791510404301, 1.7276605513821075, 1.7275917885363983, 1.7273713757390716, 1.7276223911001645, 0.904987812376363, 0.9049844052083323, 0.9049660684494767, 0.904957209812597, 0.9049583248857707, 0.9049381296716256, 0.9049396783843667, 0.9048881991728495, 0.9048396315412855, 0.9049741217557309, 0.9049662542950057, 0.9049617320538013, 0.9049509530131226, 3.3730795003260385, 4.195795355494497, 2.550358937070846, 1.7276304444064186, 2.550346795162955, 3.3730775179737296, 2.5504421958678125, 1.7276835962276964, 1.727735880769839, 1.7277735454637049, 1.7276874370352946, 1.7277353851817618, 0.9050553982003887, 2.503366634196461, 1.6958359537499978, 1.6958359537499978, 1.6958121019308243, 1.6958091931723887, 1.6957460149391632, 2.5033496470471963, 1.6958157087912846, 2.5033438295303245, 4.117902324264873, 2.503454595051559, 1.695790693468737, 1.6958280419270524, 1.695846774331379, 6.541011659204482, 0.8883198752708821, 0.8883016664430741, 0.8882947435979969, 0.8882679830203877, 0.8882418623696343, 0.8883031789974607, 0.8882719971070291, 0.8883089965143323, 0.8883299395750699, 0.8882827013380727, 0.8882954998751902, 0.8882941618463097, 0.8882854937461712, 0.8879844954232359, 0.88831271972513, 1.6958083787200264, 1.695813614485211, 1.6958292054304267, 3.3107732851832226, 2.5034573874596577, 1.6958741166606752, 2.503276113633939, 2.503422947759778, 2.5034099165219854, 1.6957469457418628, 1.6958954087724252, 1.6958586420657968, 1.695865972137055, 1.69594683562157, 0.8883889873713164, 1.734512817629572, 1.7345052350084107, 1.7345068313497078, 1.734482487144927, 1.734135083370142, 2.560447233569216, 1.7344330005647162, 1.7342550085100878, 1.7345110217456128, 1.7345122190015856, 3.386411780450843, 3.3864357255702995, 2.560434063753515, 0.908550964573884, 0.9085440803520402, 0.9085030743349706, 0.9085345023042575, 0.9085117544407736, 0.9084902038332625, 0.9085412867547702, 0.9085582478810521, 0.9085376949868518, 0.9085164436933338, 0.9085605426216666, 0.908535300474906, 0.9085270194544273, 0.9084864125226819, 0.9084776326455478, 0.9085108564987939, 0.9085803971165496, 1.7344533539162545, 2.560401538299586, 1.7344270142848521, 1.7344300074247843, 2.560497518320075, 2.560480158108469, 1.7344954574179658, 1.7345072304350322, 1.7344888725101153, 1.7345866484145636, 1.7344076586466246, 0.9086070360619452, 0.908606736747952, 0.9085719165534086, 0.9085718167820775, 0.908571018611429, 2.515457452651852, 1.7040955093127066, 1.7040516517288253, 1.7040791121079222, 1.7040269571433067, 1.7040103623818381, 1.7039716412717447, 1.704079902334659, 1.7040810876747636, 1.7038007547399554, 1.7040808901180795, 3.3270228793756718, 1.704111906517491, 2.5154669353726913, 0.8926399241052743, 0.8926228354520953, 0.8926163160815184, 0.8926007091034706, 0.8926187855400702, 0.8926128588395458, 0.8926057467989164, 0.8925917202743417, 0.8925268229035985, 0.8925731499460317, 0.8925171426260752, 0.8924793105210606, 0.8926235269004898, 0.8926581980985581, 0.8926123649478354, 0.8926029810053382, 3.3270244598291447, 1.703973221725218, 2.515483925247528, 2.5156032494847547, 2.5155548480971377, 0.8926972155436776, 0.8926968204303094, 0.8926789415503938, 0.8926588895469526, 0.8926478263726402, 0.8926444679090096, 0.8926378497600906, 0.892636960755012, 0.8926354790798808, 1.502114290922184, 1.5021020065061355, 1.50207780992907, 1.5020111762783814, 1.5017486434172194, 2.2173652020459222, 1.5020900943451185, 1.5020312780500975, 1.5020249497145572, 2.9327012665081797, 2.217303593838163, 0.786801306271897, 2.9325505032203094, 0.7867916276410708, 0.7868002825705596, 0.7867664073626678, 0.7867973045303054, 0.7867954432551465, 0.7867088008965, 0.7867889287920904, 0.7867766443760417, 0.7867527269902499, 0.7868063317148261, 0.7868119155403027, 0.7868021438457186, 0.7867822282015183, 0.7867715258693547, 0.786829876845586, 0.7868325756945664, 0.7868249444664149, 2.217387351220313, 3.647868885568557, 1.5020847897109157, 1.5020620821539772, 2.2172181613083697, 1.5018729765978336, 1.5021173620261963, 1.5020413289359555, 1.5021061013114851, 1.5020529619056986, 1.5020980978283018, 0.786927686855186, 0.7868755711507369, 0.7868608670769817, 0.7868408583690235, 0.7868346230972412, 0.7868321103757767, 1.6396719309613492, 1.6396693195943675, 1.6396663600451218, 1.6396064726956756, 4.762633036640342, 1.6396451209270042, 1.6395829703928406, 4.7623134053217875, 1.6397036155473934, 3.201237179136618, 0.8589032341642837, 0.858902102571925, 0.8588065265403961, 0.8588770334489011, 0.8588739868540891, 0.8588405613567238, 0.8588923534685268, 0.8588632802494643, 0.8588624097938038, 0.8588277656585137, 0.8588371665796477, 0.8588609300191808, 0.8588739868540891, 0.8588698957124845, 0.8587704896760492, 0.8587897267461474, 0.8589018414352269, 0.8588803411804111, 0.8588678066188992, 0.8588570129687083, 1.6395720026515175, 2.4202267568026166, 2.4204509861807755, 1.6395189048562238, 1.639643205924551, 1.6397553206136304, 0.8589688665210896, 0.858955461503917, 0.8589135925866443, 0.8589119387208893, 0.8589109812196627, 0.8589081957615489, 0.8589064548502278, 0.8589047139389067, 0.8589043657566424, 0.8589030600731516, 0.8589025377997553, 1.6081427071546714, 2.3740289688593954, 1.6082466732926168, 2.3740502162292407, 1.6081196756545337, 1.608168820334405, 0.8424010411004594, 0.8423858759929744, 0.8423900930282109, 0.8423155650400893, 0.8422893707635243, 0.8421446940161806, 0.8424157196269556, 0.8424148275618094, 0.8423985270986838, 0.8424137733030003, 0.8424025819402574, 0.8423981216145264, 0.8423656828819382, 0.8423147540717746, 0.8421713748737345, 0.8423682779805453, 0.8424137733030003, 0.8424196933716976, 0.8424126379473598, 0.8424044471673812, 0.8423648719136235, 0.8423988514860097, 0.8424114214948877, 0.8423873357359408, 1.6082283454087045, 3.9056772519230307, 2.3739636048132304, 2.3739292197566866, 1.6078501097867253, 1.6082784632505533, 1.6082718133103726, 1.6081920140282056, 0.8425440148143422, 0.8425117382754168, 0.8424480772627124, 0.8424439413243074, 0.8424422382908465, 0.8424348584791826, 0.8424336420267107, 0.842425613440395, 0.8424232616322824, 0.842418558016057, 1.5188982143419127, 1.518871347641125, 1.5188695885119068, 1.5188473595154217, 1.5187707574340088, 1.5189175647633135, 0.7955830606013241, 0.7955903369994541, 0.7955812215116869, 0.7955983330413553, 0.7955450794022937, 0.7953485366923639, 0.7953365426295123, 0.7956128058771963, 0.7955902570390351, 0.7955803419470777, 0.7955887377910739, 0.7955860990972465, 0.7956358344778716, 0.7955538750483849, 0.79561088682714, 0.7956012116164397, 0.795596893753813, 0.7955970536746511, 0.795624400137953, 0.7956235205733438, 0.7956164040960518, 0.7956053695582282, 0.7955830606013241, 0.7956224011274776, 1.5188991738669408, 1.5188739063745333, 1.5189162853966094, 2.2422326385434834, 1.518843041652795, 2.2422073710510757, 1.5189118076131447, 1.5189431520973973, 1.5186765640604134, 1.5189333969262777, 1.518905890542138, 0.7956925264149506, 0.795688928196095, 0.7956633408620114, 0.7956496676303605, 0.7956435906385156, 0.795632396179854, 0.795631756496502, 0.795631756496502, 0.795631596575664, 0.7956308769318928, 0.7956287180005795, 0.7956263991484283, 1.6769497838976113, 1.6769539907026871, 1.6769012144208253, 1.676821030166499, 2.475407506300971, 1.6768873192161806, 1.6769370360034417, 0.8784011052693519, 0.8783766293125463, 0.8783610131421887, 0.8783978545563386, 0.8783357085722622, 0.8784018064035312, 0.8783962610695675, 0.8783360910090873, 0.8784066506033156, 0.8783698729286366, 0.8783709564996409, 0.8783844692674606, 1.6769165118938287, 1.6768667951065677, 0.8783002056870001, 0.8783896959040701, 0.8783657936025022, 0.8782820399378085, 0.8784196534553685, 0.8784125146346335, 0.8782471107077839, 0.8784608291535361, 0.8783945401038545, 1.6768919084580816, 1.6769454496135936, 1.676898792320933, 0.8784957583835605, 0.8784802059526737, 0.8784616577666571, 0.878445786638416, 0.8784035911087149, 0.8784012964877643, 0.8783963248090383, 0.8783871463252362, 1.5306375762633073, 1.5305171484078646, 0.8017958818191206, 0.8017748932308366, 0.8017442965332493, 0.8017852476010567, 0.801782635687848, 0.801739072706832, 0.8017545576208548, 0.8017441099680201, 0.8017780648397329, 0.8017331959021124, 0.8017959751017352, 0.8017007335522333, 0.8018007325150796, 0.8018026914499861, 0.8017842214922962, 0.8015062393008019, 0.8017786245354205, 0.8018345941041777, 0.8018126726897478, 0.8017907512753178, 1.5307325379649654, 0.8017651918389187, 0.8018186427770819, 0.8018156577334148, 0.8017868334055048, 0.8018250792774889, 1.5307581906839791, 0.8018206017119884, 1.5307396274436746, 0.8019545555465474, 0.8018504521486589, 0.8018380455609178, 0.8018247061470306, 0.8018157510160294, 0.8018145383420396], \"Term\": [\"night\", \"need\", \"know\", \"girls\", \"life\", \"feel\", \"first\", \"fuck\", \"go\", \"alone\", \"even\", \"much\", \"one\", \"friends\", \"guys\", \"love\", \"talk\", \"anyone\", \"going\", \"drunk\", \"please\", \"fix\", \"sex\", \"shit\", \"people\", \"home\", \"try\", \"really\", \"trying\", \"think\", \"fun\", \"6\", \"weeks\", \"leave\", \"ur\", \"food\", \"pledges\", \"fucked\", \"bed\", \"see\", \"sick\", \"hate\", \"actually\", \"feeling\", \"already\", \"everyone\", \"next\", \"problem\", \"everyday\", \"wanted\", \"many\", \"family\", \"around\", \"probably\", \"attractive\", \"1\", \"studying\", \"realized\", \"cry\", \"cas\", \"much\", \"people\", \"long\", \"semester\", \"alone\", \"life\", \"someone\", \"feel\", \"love\", \"know\", \"girl\", \"want\", \"need\", \"period\", \"shits\", \"potatoes\", \"holy\", \"vodka\", \"waiting\", \"week\", \"sure\", \"bids\", \"know\", \"sleep\", \"sucks\", \"dick\", \"next\", \"night\", \"years\", \"learning\", \"beer\", \"old\", \"pull\", \"story\", \"ready\", \"face\", \"whole\", \"smoke\", \"hard\", \"order\", \"used\", \"favorite\", \"forever\", \"shower\", \"sunday\", \"guys\", \"still\", \"even\", \"drunk\", \"think\", \"day\", \"last\", \"anyone\", \"make\", \"long\", \"shit\", \"want\", \"girls\", \"away\", \"text\", \"eat\", \"better\", \"party\", \"weird\", \"little\", \"things\", \"relationship\", \"late\", \"alone\", \"even\", \"home\", \"give\", \"die\", \"tomorrow\", \"spend\", \"death\", \"congrats\", \"lonely\", \"well\", \"marks\", \"stretch\", \"way\", \"romantic\", \"human\", \"rn\", \"house\", \"creature\", \"wear\", \"mom\", \"sex\", \"guy\", \"feel\", \"go\", \"want\", \"time\", \"think\", \"day\", \"girls\", \"girl\", \"someone\", \"friends\", \"feeling\", \"know\", \"coming\", \"tight\", \"ten\", \"crust\", \"apo\", \"god\", \"south\", \"rush\", \"boys\", \"hot\", \"okay\", \"tell\", \"fuck\", \"good\", \"anyone\", \"thank\", \"paying\", \"self\", \"pretty\", \"dues\", \"jesus\", \"group\", \"yo\", \"alcohol\", \"senior\", \"classic\", \"thinks\", \"lesbian\", \"favorite\", \"order\", \"used\", \"much\", \"geneseo\", \"think\", \"girl\", \"want\", \"people\", \"go\", \"mom\", \"sex\", \"time\", \"lunch\", \"without\", \"wish\", \"im\", \"tired\", \"dunno\", \"perfect\", \"supposed\", \"taste\", \"statesmen\", \"person\", \"find\", \"little\", \"shit\", \"guy\", \"hockey\", \"friends\", \"classes\", \"bid\", \"fake\", \"high\", \"sober\", \"show\", \"cute\", \"looking\", \"petition\", \"old\", \"learning\", \"years\", \"beer\", \"pull\", \"1\", \"probably\", \"problem\", \"make\", \"go\", \"home\", \"one\", \"want\", \"love\", \"someone\", \"time\", \"think\", \"day\", \"life\", \"girls\", \"night\", \"last\", \"people\", \"still\", \"alone\", \"kiss\", \"accidentally\", \"plans\", \"help\", \"need\", \"fucking\", \"never\", \"girls\", \"trying\", \"one\", \"show\", \"sober\", \"high\", \"weight\", \"take\", \"felt\", \"honestly\", \"dream\", \"ok\", \"ate\", \"8\", \"smoke\", \"thinks\", \"senior\", \"classic\", \"pass\", \"human\", \"way\", \"romantic\", \"house\", \"sunday\", \"life\", \"want\", \"love\", \"last\", \"night\", \"girl\", \"still\", \"look\", \"long\", \"people\", \"okay\", \"home\", \"guy\", \"alone\", \"someone\", \"statesmen\", \"balls\", \"going\", \"saw\", \"guys\", \"lot\", \"end\", \"bid\", \"fake\", \"study\", \"daga\", \"hope\", \"freedom\", \"sports\", \"two\", \"conversation\", \"ok\", \"dream\", \"ate\", \"honestly\", \"alive\", \"new\", \"whole\", \"alcohol\", \"dues\", \"jesus\", \"group\", \"yo\", \"tonight\", \"well\", \"stretch\", \"semester\", \"night\", \"last\", \"go\", \"fuck\", \"friends\", \"girl\", \"people\", \"want\", \"life\", \"stop\", \"bad\", \"pledge\", \"still\", \"make\", \"great\", \"already\", \"greek\", \"anorexia\", \"watching\", \"horses\", \"dangerous\", \"horny\", \"sometimes\", \"hockey\", \"snuggle\", \"poop\", \"daga\", \"study\", \"hope\", \"freedom\", \"felt\", \"weight\", \"take\", \"crave\", \"buddy\", \"story\", \"ready\", \"pretty\", \"paying\", \"self\", \"thank\", \"cas\", \"realized\", \"cry\", \"studying\", \"fall\", \"death\", \"really\", \"bad\", \"shower\", \"love\", \"wish\", \"people\", \"need\", \"still\", \"day\", \"go\", \"night\", \"shit\", \"want\", \"someone\", \"girls\", \"much\", \"something\", \"cuddle\", \"look\", \"drunk\", \"last\", \"lot\", \"trying\", \"feelings\", \"chipotle\", \"times\", \"worst\", \"first\", \"today\", \"try\", \"looking\", \"cute\", \"petition\", \"buddy\", \"crave\", \"sit\", \"new\", \"alive\", \"8\", \"lesbian\", \"sad\", \"creature\", \"talk\", \"drunk\", \"nice\", \"hours\", \"butt\", \"party\", \"person\", \"end\", \"look\", \"things\", \"work\", \"sex\", \"time\", \"girl\", \"day\", \"love\", \"fuck\", \"need\", \"life\", \"valentine\", \"still\", \"already\", \"please\", \"fix\", \"classes\", \"snuggle\", \"poop\", \"sports\", \"two\", \"conversation\", \"sit\", \"face\", \"drama\", \"back\", \"lonely\", \"coming\", \"netflix\", \"hours\", \"greek\", \"hot\", \"come\", \"fucked\", \"watch\", \"better\", \"feel\", \"trying\", \"always\", \"sucks\", \"feeling\", \"really\", \"know\", \"talk\", \"life\", \"want\", \"day\", \"still\", \"friends\", \"people\", \"anyone\"], \"Total\": [15.0, 8.0, 8.0, 10.0, 11.0, 6.0, 4.0, 7.0, 13.0, 8.0, 8.0, 9.0, 7.0, 8.0, 4.0, 8.0, 4.0, 6.0, 3.0, 5.0, 2.0, 2.0, 8.0, 7.0, 12.0, 6.0, 4.0, 4.0, 3.0, 9.0, 3.2462616300634526, 2.4235375436264124, 2.423530474301831, 2.423533155300297, 2.4235394163609523, 2.4234716055046324, 3.1468360968071085, 3.1523751309677803, 3.2043283508027, 3.235024429907594, 3.234998542997458, 4.792911989262132, 3.958304963471113, 3.978423668223104, 3.987918103636864, 4.0151710897065405, 4.038671290033759, 2.3161285471397988, 2.3161238431326736, 2.3161011300389376, 2.316095311013186, 2.316100451968846, 2.3161076735963273, 2.316112802762534, 2.316073977575056, 2.316083915625323, 2.324116116949344, 2.324118489811173, 2.3241082395174764, 2.3241122263255245, 9.561107817944196, 12.437393397702508, 7.279639974404207, 4.76668895675037, 8.046270439184868, 11.671719207891362, 8.571321283410061, 6.248558192517654, 8.384217219889772, 8.745089287434094, 11.942316913188828, 16.455801734442655, 8.53092702565982, 3.2008167238055814, 2.3932448300265903, 2.393256317539085, 2.393245479309161, 2.393242798828996, 2.393234384140654, 4.023519933983208, 3.116536633100383, 4.742052808172991, 8.745089287434094, 5.519681367237478, 3.944859290056963, 4.014476736546917, 4.038671290033759, 15.614120239867832, 2.300970136844882, 2.300963020172079, 2.300966952370845, 2.3009445828237323, 2.300943726794593, 2.3089905624209073, 2.3089544079182334, 2.3145986970468657, 2.3515182592489854, 2.3664781660835996, 2.3971448681067216, 2.3971497537170965, 2.3971378122746216, 2.3971071798053782, 2.408386624457166, 4.665806890285307, 4.678158200543423, 4.690788924521668, 10.067090957449942, 8.138909852039072, 5.494469070365616, 9.540440280150934, 10.080096083628867, 10.14716999660843, 6.379293010185529, 6.911791771514699, 7.279639974404207, 7.57001655055418, 16.455801734442655, 10.17255083526357, 2.4300447991263163, 2.4300347174475605, 2.430047330832001, 3.158940469939716, 3.2284882902714434, 4.890198875847609, 3.8605826600931326, 3.9438264175403996, 3.9608992307080726, 3.964796132791614, 8.046270439184868, 8.138909852039072, 6.1907135591862295, 2.3193703311156937, 2.319356994574589, 2.3193326018617864, 2.3273551924395437, 2.3273550404797834, 2.3273412833328986, 2.332975368254134, 2.369907379829891, 2.369890033976013, 2.3698924008190723, 2.3848964141210405, 2.384862051189621, 2.3848901264053373, 2.384853127017673, 2.3848609640825362, 2.4026232847149336, 2.4116201895555003, 4.779523383087819, 8.018084163992702, 6.164296543414522, 6.248558192517654, 13.018356017442704, 16.455801734442655, 8.622732630106505, 9.540440280150934, 10.080096083628867, 10.17255083526357, 11.942316913188828, 8.571321283410061, 8.271887658886492, 3.978423668223104, 8.745089287434094, 3.0482599918915074, 3.2125678206223065, 2.4010875025865777, 2.4010447821584555, 2.401101089672107, 2.40107709213905, 2.4010746842216064, 2.40104864190502, 3.124373397136866, 3.1299558523892843, 3.1818552299262435, 3.2086479776191172, 7.161809555264591, 4.034621892052618, 6.379293010185529, 2.3128913183091977, 2.3128896382243265, 2.3128880026047143, 2.3128921868918657, 2.3554292880915373, 2.3554289297348463, 2.355425704997747, 2.355412844933208, 2.355403173420531, 2.3703851507963543, 2.3703601580132267, 2.370370715618529, 2.3881341687131368, 2.3971071798053782, 2.3971497537170965, 2.3971378122746216, 9.561107817944196, 4.829844501709416, 9.540440280150934, 11.942316913188828, 16.455801734442655, 12.437393397702508, 13.018356017442704, 4.779523383087819, 8.018084163992702, 8.622732630106505, 3.18137168188878, 3.835767735755162, 5.465684972431362, 2.4155584651958244, 2.2087127472972834, 2.2086960585621043, 2.2086999229901316, 2.2086985445675498, 2.2086760277492723, 5.282131867817922, 3.8299730608661005, 3.8428652419947196, 3.8605826600931326, 7.57001655055418, 6.164296543414522, 2.216699696048653, 8.271887658886492, 2.222322589928372, 2.2592313224849607, 2.2592229973957885, 2.2742021533321934, 2.2742175322167855, 2.2742128904847108, 2.2919492769870855, 2.29195514731094, 2.291942057061748, 2.3009445828237323, 2.300963020172079, 2.300970136844882, 2.300966952370845, 2.300943726794593, 2.316083915625323, 2.316112802762534, 2.3161285471397988, 6.911791771514699, 13.018356017442704, 6.1907135591862295, 7.728061667547233, 16.455801734442655, 8.384217219889772, 8.571321283410061, 8.622732630106505, 9.540440280150934, 10.080096083628867, 11.671719207891362, 10.17255083526357, 15.614120239867832, 10.14716999660843, 12.437393397702508, 10.067090957449942, 8.046270439184868, 2.339729496458908, 2.3397416752100337, 2.3397395758537565, 2.339730377194831, 8.53092702565982, 3.147320534276749, 3.162440857878738, 10.17255083526357, 3.7919688731022543, 7.728061667547233, 2.2742128904847108, 2.2742175322167855, 2.2742021533321934, 2.2822124004613, 2.282214010080421, 2.2822145483844842, 2.3247446332775508, 2.3247501378121553, 2.3247570019948096, 2.3247464130945215, 2.3574743014039234, 2.3664781660835996, 2.370370715618529, 2.3703851507963543, 2.3703601580132267, 2.381623213219951, 2.3848901264053373, 2.3848964141210405, 2.384862051189621, 2.3848609640825362, 4.678158200543423, 11.671719207891362, 16.455801734442655, 8.384217219889772, 10.14716999660843, 15.614120239867832, 11.942316913188828, 10.067090957449942, 3.8465706840666387, 7.279639974404207, 12.437393397702508, 3.1818552299262435, 6.1907135591862295, 6.164296543414522, 8.046270439184868, 8.571321283410061, 5.282131867817922, 2.309771760427482, 3.883179632692277, 3.1212801545260063, 4.690788924521668, 3.748376254027117, 3.8316390735121533, 2.2592313224849607, 2.2592229973957885, 2.267228389123597, 2.267228568464975, 2.2671904576686885, 2.267172532959956, 2.2728589273776483, 2.2728610203773574, 2.2728428065615427, 2.3247570019948096, 2.3247501378121553, 2.3247464130945215, 2.3247446332775508, 2.3424678848268643, 2.3424631988829545, 2.3515182592489854, 2.355403173420531, 2.3554292880915373, 2.3554289297348463, 2.355425704997747, 2.355412844933208, 2.3666513911499587, 2.369907379829891, 2.3698924008190723, 4.76668895675037, 15.614120239867832, 10.14716999660843, 13.018356017442704, 7.161809555264591, 8.271887658886492, 11.942316913188828, 12.437393397702508, 16.455801734442655, 11.671719207891362, 3.0400173843957377, 4.5973407524414815, 3.1926172473701784, 10.067090957449942, 6.911791771514699, 3.958269515418533, 3.987918103636864, 3.09557354914671, 2.224715760014635, 2.2247016951703786, 2.2247038886714807, 2.2246866479699414, 2.224699810927235, 3.8170139485270687, 2.216699696048653, 2.230304982871857, 2.2303016791638335, 2.267228568464975, 2.267228389123597, 2.2671904576686885, 2.267172532959956, 2.2822145483844842, 2.2822124004613, 2.282214010080421, 2.299947630160726, 2.2999608921680146, 2.3089905624209073, 2.3089544079182334, 2.3128921868918657, 2.3128896382243265, 2.3128880026047143, 2.3128913183091977, 2.3241122263255245, 2.324118489811173, 2.3241082395174764, 2.324116116949344, 2.324114444706318, 2.3273550404797834, 4.500267919649956, 4.5973407524414815, 4.665806890285307, 8.384217219889772, 5.465684972431362, 12.437393397702508, 8.53092702565982, 10.067090957449942, 10.080096083628867, 13.018356017442704, 15.614120239867832, 7.57001655055418, 16.455801734442655, 8.571321283410061, 10.17255083526357, 9.561107817944196, 2.997528963794647, 2.9975139621871008, 3.8465706840666387, 5.494469070365616, 10.14716999660843, 3.748376254027117, 3.7919688731022543, 2.3752381137585994, 2.3752448776954487, 2.3752239068935377, 2.3752083255557905, 4.711793351895189, 4.005504947583904, 4.009431629047424, 2.29195514731094, 2.2919492769870855, 2.291942057061748, 2.2999608921680146, 2.299947630160726, 2.3055785330496485, 2.3424631988829545, 2.3424678848268643, 2.3574743014039234, 2.3881341687131368, 2.399374538054184, 2.4026232847149336, 4.677536309264957, 5.494469070365616, 3.0657598974979794, 3.0713945772550275, 3.210828775940359, 3.2284882902714434, 3.8299730608661005, 3.8316390735121533, 3.8465706840666387, 3.9438264175403996, 3.9877455392067267, 8.018084163992702, 8.622732630106505, 11.942316913188828, 10.080096083628867, 8.384217219889772, 7.161809555264591, 8.53092702565982, 11.671719207891362, 4.706286933422471, 10.067090957449942, 3.987918103636864, 2.235942551300724, 2.2359199391171165, 2.222322589928372, 2.230304982871857, 2.2303016791638335, 2.2728589273776483, 2.2728610203773574, 2.2728428065615427, 2.3055785330496485, 2.3145986970468657, 2.329735637686088, 2.329727238974957, 2.332975368254134, 3.0482599918915074, 3.0530294564794564, 3.0713945772550275, 3.09557354914671, 3.1299558523892843, 3.137274592562549, 3.1523751309677803, 3.1556699205694634, 3.158940469939716, 6.248558192517654, 3.7919688731022543, 3.8258095095262945, 3.944859290056963, 3.978423668223104, 4.500267919649956, 8.745089287434094, 4.677536309264957, 11.671719207891362, 16.455801734442655, 10.080096083628867, 10.067090957449942, 8.271887658886492, 12.437393397702508, 6.379293010185529], \"loglift\": [30.0, 29.0, 28.0, 27.0, 26.0, 25.0, 24.0, 23.0, 22.0, 21.0, 20.0, 19.0, 18.0, 17.0, 16.0, 15.0, 14.0, 13.0, 12.0, 11.0, 10.0, 9.0, 8.0, 7.0, 6.0, 5.0, 4.0, 3.0, 2.0, 1.0, 1.7309, 1.6337, 1.6337, 1.6337, 1.6337, 1.6335, 1.3725, 1.3706, 1.3543, 1.3449, 1.3449, 1.3413, 1.1431, 1.138, 1.1356, 1.1287, 1.123, 1.0324, 1.0324, 1.0324, 1.0324, 1.0324, 1.0324, 1.0324, 1.0323, 1.0323, 1.029, 1.029, 1.029, 1.0289, 0.9303, 0.8855, 0.9233, 0.9573, 0.8232, 0.7308, 0.76, 0.6866, 0.3926, 0.3505, 0.0389, -0.2817, -0.2713, 1.7892, 1.6905, 1.6905, 1.6905, 1.6905, 1.6905, 1.5605, 1.4264, 1.3962, 1.2819, 1.2444, 1.1907, 1.1733, 1.1673, 1.1649, 1.0832, 1.0832, 1.0832, 1.0832, 1.0832, 1.0797, 1.0797, 1.0773, 1.0615, 1.0551, 1.0423, 1.0423, 1.0423, 1.0419, 1.0376, 1.0229, 1.0203, 1.0176, 0.9229, 0.856, 0.8595, 0.6971, 0.6421, 0.6355, 0.7101, 0.63, 0.5781, 0.539, -0.2374, -0.403, 1.8515, 1.8515, 1.8515, 1.5892, 1.5672, 1.5417, 1.3886, 1.3672, 1.363, 1.362, 1.3233, 1.3118, 1.3059, 1.2515, 1.2515, 1.2515, 1.2481, 1.248, 1.248, 1.2457, 1.23, 1.23, 1.2299, 1.2237, 1.2237, 1.2236, 1.2236, 1.2236, 1.2162, 1.2126, 1.1751, 1.0472, 0.9206, 0.9071, 0.5626, 0.3282, 0.585, 0.4839, 0.4289, 0.4198, 0.2593, -0.0555, -0.02, 0.712, -0.0756, 0.9783, 1.9541, 1.8558, 1.8558, 1.8558, 1.8558, 1.8558, 1.8558, 1.5925, 1.5907, 1.5741, 1.5659, 1.432, 1.3369, 1.2681, 1.2467, 1.2466, 1.2466, 1.2466, 1.2284, 1.2284, 1.2284, 1.2284, 1.2283, 1.222, 1.222, 1.2219, 1.2146, 1.2109, 1.2108, 1.2108, 1.1431, 1.1569, 0.8657, 0.6412, 0.3205, -0.4355, -0.4811, 0.5209, 0.0035, -0.0692, 0.9279, 0.7408, 0.3867, 1.2032, 1.8728, 1.8728, 1.8728, 1.8727, 1.8726, 1.3903, 1.3223, 1.3189, 1.3143, 1.3101, 1.2358, 1.2225, 1.2213, 1.22, 1.2035, 1.2035, 1.1969, 1.1969, 1.1968, 1.1891, 1.1891, 1.1891, 1.1852, 1.1852, 1.1852, 1.1852, 1.1852, 1.1787, 1.1787, 1.1787, 1.1214, 0.9861, 0.8421, 0.6203, 0.2539, 0.5387, 0.5168, 0.5107, 0.4097, 0.3546, 0.208, -0.301, -0.7295, -0.2986, -0.5021, -0.2907, -0.0666, 1.9696, 1.9696, 1.9696, 1.9696, 1.7423, 1.6731, 1.6683, 1.5662, 1.4868, 1.4439, 1.3514, 1.3514, 1.3513, 1.3479, 1.3479, 1.3479, 1.3295, 1.3294, 1.3294, 1.3294, 1.3154, 1.3116, 1.31, 1.31, 1.3099, 1.3052, 1.3039, 1.3039, 1.3039, 1.3039, 1.2767, 0.7519, 0.4085, 0.6932, 0.5025, 0.0715, -0.3069, -0.1361, 0.8259, 0.188, -0.3476, 1.0156, 0.35, 0.3543, 0.0879, 0.0247, 0.5087, 2.0339, 1.9039, 1.7329, 1.715, 1.5497, 1.5278, 1.4094, 1.4094, 1.4059, 1.4058, 1.4058, 1.4056, 1.4034, 1.4034, 1.4034, 1.3809, 1.3809, 1.3809, 1.3808, 1.3732, 1.373, 1.3694, 1.3678, 1.3678, 1.3678, 1.3677, 1.3677, 1.363, 1.3616, 1.3616, 1.3094, 1.0102, 0.9433, 0.6942, 0.9021, 0.7583, 0.391, 0.3504, -0.576, -0.2326, 1.1127, 0.699, 1.0637, -0.0848, 0.2913, 0.8487, 0.8412, 1.0945, 2.0284, 2.0284, 2.0284, 2.0284, 2.0284, 1.4886, 1.3854, 1.3793, 1.3793, 1.3629, 1.3628, 1.3626, 1.3626, 1.3563, 1.3563, 1.3562, 1.3485, 1.3485, 1.3447, 1.3446, 1.3429, 1.3429, 1.3429, 1.3429, 1.3381, 1.3381, 1.3381, 1.3381, 1.3381, 1.3367, 1.3239, 1.3026, 1.2878, 1.0912, 1.1295, 0.6968, 0.6844, 0.5188, 0.5174, 0.2617, 0.0799, 0.1573, -0.6191, 0.0331, -0.1382, -0.0762, 1.0837, 1.0837, 0.8343, 0.4777, -0.1357, 0.8601, 0.8486, 2.2887, 2.2887, 2.2887, 2.2886, 1.9931, 1.7661, 1.7651, 1.6777, 1.6777, 1.6777, 1.6743, 1.6742, 1.6718, 1.6559, 1.6559, 1.6496, 1.6366, 1.6319, 1.6306, 1.611, 1.45, 1.3867, 1.385, 1.3406, 1.335, 1.1643, 1.1639, 1.1598, 1.1351, 1.1239, 1.072, 0.9994, 0.6737, 0.1967, 0.3809, 0.5385, 0.3635, 0.05, 0.9583, 0.1979, 1.1239, 2.5701, 2.5701, 1.9297, 1.9261, 1.926, 1.9072, 1.9072, 1.9071, 1.8928, 1.8889, 1.8824, 1.8824, 1.8811, 1.6135, 1.6121, 1.6061, 1.5982, 1.5868, 1.5848, 1.5801, 1.579, 1.578, 1.5425, 1.3953, 1.3865, 1.3558, 1.3473, 1.2241, 1.2064, 1.1855, 0.9177, -0.0723, 0.4177, 0.419, 0.6154, 0.2075, 0.8752], \"logprob\": [30.0, 29.0, 28.0, 27.0, 26.0, 25.0, 24.0, 23.0, 22.0, 21.0, 20.0, 19.0, 18.0, 17.0, 16.0, 15.0, 14.0, 13.0, 12.0, 11.0, 10.0, 9.0, 8.0, 7.0, 6.0, 5.0, 4.0, 3.0, 2.0, 1.0, -3.954400062561035, -4.343800067901611, -4.343800067901611, -4.343800067901611, -4.343800067901611, -4.344099998474121, -4.343800067901611, -4.343999862670898, -4.343900203704834, -4.343800067901611, -4.343900203704834, -3.954400062561035, -4.343900203704834, -4.343800067901611, -4.343900203704834, -4.343999862670898, -4.343900203704834, -4.9903998374938965, -4.9903998374938965, -4.990499973297119, -4.990499973297119, -4.990499973297119, -4.990499973297119, -4.990499973297119, -4.990499973297119, -4.990600109100342, -4.9903998374938965, -4.990499973297119, -4.990499973297119, -4.990499973297119, -3.674799919128418, -3.4565000534057617, -3.954400062561035, -4.343800067901611, -3.954400062561035, -3.674799919128418, -3.9542999267578125, -4.343800067901611, -4.343800067901611, -4.343800067901611, -4.343800067901611, -4.343800067901611, -4.9903998374938965, -3.910099983215332, -4.299600124359131, -4.299600124359131, -4.299600124359131, -4.299600124359131, -4.299600124359131, -3.910099983215332, -4.299600124359131, -3.910099983215332, -3.412400007247925, -3.910099983215332, -4.299600124359131, -4.299600124359131, -4.299600124359131, -2.949700117111206, -4.946199893951416, -4.946199893951416, -4.946199893951416, -4.946199893951416, -4.946300029754639, -4.946199893951416, -4.946199893951416, -4.946199893951416, -4.946199893951416, -4.946199893951416, -4.946199893951416, -4.946199893951416, -4.946199893951416, -4.946599960327148, -4.946199893951416, -4.299600124359131, -4.299600124359131, -4.299600124359131, -3.6305999755859375, -3.910099983215332, -4.299600124359131, -3.9102001190185547, -3.910099983215332, -3.910099983215332, -4.299600124359131, -4.299499988555908, -4.299600124359131, -4.299600124359131, -4.299499988555908, -4.946100234985352, -4.123300075531006, -4.123300075531006, -4.123300075531006, -4.123300075531006, -4.123499870300293, -3.733799934387207, -4.123300075531006, -4.123499870300293, -4.123300075531006, -4.123300075531006, -3.4542999267578125, -3.4542999267578125, -3.7339000701904297, -4.769899845123291, -4.769899845123291, -4.769999980926514, -4.769999980926514, -4.769999980926514, -4.769999980926514, -4.769899845123291, -4.769899845123291, -4.769899845123291, -4.769999980926514, -4.769899845123291, -4.769999980926514, -4.769999980926514, -4.769999980926514, -4.769999980926514, -4.769999980926514, -4.769899845123291, -4.123300075531006, -3.7339000701904297, -4.1234002113342285, -4.1234002113342285, -3.733799934387207, -3.733799934387207, -4.123300075531006, -4.123300075531006, -4.123300075531006, -4.123300075531006, -4.1234002113342285, -4.769899845123291, -4.769899845123291, -4.769899845123291, -4.769899845123291, -4.769899845123291, -3.7416000366210938, -4.13100004196167, -4.13100004196167, -4.13100004196167, -4.13100004196167, -4.13100004196167, -4.131100177764893, -4.13100004196167, -4.13100004196167, -4.131199836730957, -4.13100004196167, -3.4619998931884766, -4.13100004196167, -3.7416000366210938, -4.777599811553955, -4.777599811553955, -4.777599811553955, -4.777599811553955, -4.777599811553955, -4.777599811553955, -4.777599811553955, -4.777699947357178, -4.777699947357178, -4.777699947357178, -4.777699947357178, -4.7778000831604, -4.777599811553955, -4.777599811553955, -4.777599811553955, -4.777599811553955, -3.461899995803833, -4.131100177764893, -3.7416000366210938, -3.741499900817871, -3.741499900817871, -4.777500152587891, -4.777500152587891, -4.777599811553955, -4.777599811553955, -4.777599811553955, -4.777599811553955, -4.777599811553955, -4.777599811553955, -4.777599811553955, -4.1975998878479, -4.1975998878479, -4.1975998878479, -4.1975998878479, -4.197800159454346, -3.8080999851226807, -4.1975998878479, -4.1975998878479, -4.1975998878479, -3.5285000801086426, -3.8080999851226807, -4.844200134277344, -3.528599977493286, -4.844200134277344, -4.844200134277344, -4.844299793243408, -4.844200134277344, -4.844200134277344, -4.844299793243408, -4.844200134277344, -4.844200134277344, -4.844299793243408, -4.844200134277344, -4.844200134277344, -4.844200134277344, -4.844200134277344, -4.844299793243408, -4.844200134277344, -4.844200134277344, -4.844200134277344, -3.8080999851226807, -3.31030011177063, -4.1975998878479, -4.1975998878479, -3.808199882507324, -4.197700023651123, -4.1975998878479, -4.1975998878479, -4.1975998878479, -4.1975998878479, -4.1975998878479, -4.844099998474121, -4.844099998474121, -4.844099998474121, -4.844200134277344, -4.844200134277344, -4.844200134277344, -4.043099880218506, -4.043099880218506, -4.043099880218506, -4.043099880218506, -2.976799964904785, -4.043099880218506, -4.043099880218506, -2.976799964904785, -4.043099880218506, -3.374000072479248, -4.689700126647949, -4.689700126647949, -4.689799785614014, -4.689700126647949, -4.689700126647949, -4.689799785614014, -4.689700126647949, -4.689700126647949, -4.689700126647949, -4.689799785614014, -4.689799785614014, -4.689700126647949, -4.689700126647949, -4.689700126647949, -4.689799785614014, -4.689799785614014, -4.689700126647949, -4.689700126647949, -4.689700126647949, -4.689700126647949, -4.043099880218506, -3.653700113296509, -3.653599977493286, -4.0432000160217285, -4.043099880218506, -4.043000221252441, -4.689599990844727, -4.689599990844727, -4.689700126647949, -4.689700126647949, -4.689700126647949, -4.689700126647949, -4.689700126647949, -4.689700126647949, -4.689700126647949, -4.689700126647949, -4.689700126647949, -3.9916999340057373, -3.6022000312805176, -3.9916000366210938, -3.6022000312805176, -3.9916999340057373, -3.9916999340057373, -4.638299942016602, -4.638299942016602, -4.638299942016602, -4.638400077819824, -4.638400077819824, -4.638599872589111, -4.638299942016602, -4.638299942016602, -4.638299942016602, -4.638299942016602, -4.638299942016602, -4.638299942016602, -4.638299942016602, -4.638400077819824, -4.638599872589111, -4.638299942016602, -4.638299942016602, -4.638299942016602, -4.638299942016602, -4.638299942016602, -4.638299942016602, -4.638299942016602, -4.638299942016602, -4.638299942016602, -3.9916999340057373, -3.1043999195098877, -3.6022000312805176, -3.6022000312805176, -3.9918999671936035, -3.9916000366210938, -3.9916000366210938, -3.9916999340057373, -4.6381001472473145, -4.638199806213379, -4.638199806213379, -4.638199806213379, -4.638199806213379, -4.638299942016602, -4.638299942016602, -4.638299942016602, -4.638299942016602, -4.638299942016602, -4.0346999168396, -4.0346999168396, -4.0346999168396, -4.0346999168396, -4.034800052642822, -4.0346999168396, -4.681399822235107, -4.681399822235107, -4.681399822235107, -4.681300163269043, -4.681399822235107, -4.681700229644775, -4.681700229644775, -4.681300163269043, -4.681399822235107, -4.681399822235107, -4.681399822235107, -4.681399822235107, -4.681300163269043, -4.681399822235107, -4.681300163269043, -4.681300163269043, -4.681300163269043, -4.681300163269043, -4.681300163269043, -4.681300163269043, -4.681300163269043, -4.681300163269043, -4.681399822235107, -4.681300163269043, -4.0346999168396, -4.0346999168396, -4.0346999168396, -3.64520001411438, -4.0346999168396, -3.64520001411438, -4.0346999168396, -4.0346999168396, -4.034800052642822, -4.0346999168396, -4.0346999168396, -4.68120002746582, -4.68120002746582, -4.681300163269043, -4.681300163269043, -4.681300163269043, -4.681300163269043, -4.681300163269043, -4.681300163269043, -4.681300163269043, -4.681300163269043, -4.681300163269043, -4.681300163269043, -3.7090001106262207, -3.7090001106262207, -3.7090001106262207, -3.7091000080108643, -3.319499969482422, -3.7090001106262207, -3.7090001106262207, -4.355599880218506, -4.355599880218506, -4.3557000160217285, -4.355599880218506, -4.3557000160217285, -4.355599880218506, -4.355599880218506, -4.3557000160217285, -4.355599880218506, -4.355599880218506, -4.355599880218506, -4.355599880218506, -3.7090001106262207, -3.7090001106262207, -4.3557000160217285, -4.355599880218506, -4.355599880218506, -4.3557000160217285, -4.355599880218506, -4.355599880218506, -4.355800151824951, -4.355500221252441, -4.355599880218506, -3.7090001106262207, -3.7090001106262207, -3.7090001106262207, -4.355500221252441, -4.355500221252441, -4.355500221252441, -4.355599880218506, -4.355599880218506, -4.355599880218506, -4.355599880218506, -4.355599880218506, -3.48799991607666, -3.48799991607666, -4.134500026702881, -4.1346001625061035, -4.1346001625061035, -4.1346001625061035, -4.1346001625061035, -4.1346001625061035, -4.1346001625061035, -4.1346001625061035, -4.1346001625061035, -4.1346001625061035, -4.134500026702881, -4.134699821472168, -4.134500026702881, -4.134500026702881, -4.1346001625061035, -4.134900093078613, -4.1346001625061035, -4.134500026702881, -4.134500026702881, -4.134500026702881, -3.4879000186920166, -4.1346001625061035, -4.134500026702881, -4.134500026702881, -4.134500026702881, -4.134500026702881, -3.4879000186920166, -4.134500026702881, -3.4879000186920166, -4.134300231933594, -4.134500026702881, -4.134500026702881, -4.134500026702881, -4.134500026702881, -4.134500026702881]}, \"token.table\": {\"Topic\": [1, 5, 1, 6, 9, 6, 1, 4, 8, 4, 7, 7, 9, 1, 3, 5, 6, 1, 7, 9, 1, 5, 6, 10, 8, 1, 2, 4, 10, 4, 1, 5, 6, 7, 1, 5, 3, 1, 10, 3, 6, 7, 8, 7, 1, 6, 2, 5, 3, 10, 5, 7, 2, 3, 5, 4, 8, 8, 9, 1, 4, 9, 1, 8, 9, 5, 10, 4, 6, 1, 2, 10, 3, 5, 10, 3, 8, 7, 10, 8, 9, 3, 9, 4, 1, 8, 5, 6, 8, 5, 9, 7, 8, 8, 1, 2, 3, 5, 8, 9, 10, 3, 8, 1, 2, 9, 3, 5, 1, 10, 6, 7, 2, 6, 8, 9, 4, 7, 5, 3, 7, 8, 9, 1, 2, 3, 4, 1, 5, 1, 3, 7, 2, 10, 5, 7, 1, 8, 1, 5, 2, 4, 1, 3, 5, 10, 1, 3, 10, 9, 6, 8, 1, 4, 5, 1, 5, 9, 10, 1, 1, 2, 7, 8, 1, 3, 5, 7, 8, 10, 2, 4, 7, 9, 1, 10, 2, 6, 1, 1, 2, 4, 9, 1, 2, 3, 4, 5, 6, 7, 9, 2, 3, 4, 5, 6, 8, 3, 5, 1, 2, 3, 4, 5, 7, 8, 4, 2, 7, 2, 3, 4, 2, 3, 6, 7, 1, 7, 10, 4, 7, 2, 3, 5, 6, 2, 7, 2, 4, 1, 6, 7, 6, 5, 6, 5, 8, 2, 3, 5, 6, 8, 6, 7, 7, 8, 8, 8, 4, 10, 7, 9, 10, 3, 6, 3, 6, 3, 4, 4, 7, 6, 1, 2, 3, 10, 1, 2, 3, 5, 6, 7, 8, 3, 4, 8, 2, 5, 1, 4, 9, 1, 2, 5, 6, 7, 9, 10, 3, 5, 3, 10, 1, 2, 3, 4, 6, 6, 7, 8, 9, 5, 9, 5, 7, 8, 1, 5, 6, 8, 9, 3, 4, 7, 2, 3, 5, 6, 7, 1, 5, 3, 7, 1, 3, 4, 5, 1, 2, 4, 5, 8, 1, 6, 8, 9, 1, 8, 10, 1, 6, 7, 9, 1, 2, 7, 8, 9, 1, 2, 5, 6, 7, 8, 6, 7, 4, 6, 2, 5, 1, 2, 5, 6, 7, 2, 4, 3, 9, 1, 6, 4, 8, 1, 2, 4, 5, 6, 7, 8, 10, 5, 2, 1, 5, 9, 5, 9, 6, 10, 1, 3, 7, 1, 8, 8, 10, 2, 4, 8, 1, 5, 1, 5, 2, 5, 2, 8, 1, 8, 6, 7, 8, 10, 2, 3, 8, 3, 6, 3, 6, 4, 1, 9, 4, 7, 1, 4, 4, 8, 1, 4, 7, 4, 6, 1, 2, 3, 4, 8, 9, 2, 4, 5, 6, 8, 2, 5, 6, 2, 3, 8, 1, 4, 9, 10, 1, 2, 5, 6, 2, 6, 8, 10, 5, 6, 1, 3, 5, 6, 7, 8, 9, 5, 6, 8, 4, 6, 8, 4, 3, 8, 7, 10, 4, 5, 6, 7, 1, 2, 5, 6, 7, 8, 9, 10, 5, 6, 7, 2, 8, 3, 7, 7, 8, 1, 8, 1, 2, 10, 2, 6, 8, 5, 2, 8, 6, 8, 2, 7, 9, 10, 5, 2, 4, 4, 3, 4, 8, 3, 5, 9, 1, 2, 3, 4, 5, 4, 6, 4, 1, 2, 3, 4, 5, 8, 9, 9, 5, 1, 2, 9, 3, 5, 1, 7, 1, 4, 9, 6, 8, 10, 7, 10, 1, 2, 4, 2, 3, 5, 6, 9, 2, 2, 1, 2, 3, 4, 5, 6, 7, 8, 9, 10, 1, 5, 1, 3, 10, 8, 3, 6, 2, 3, 1, 2, 1, 6, 8, 1, 3, 4, 3, 7, 2, 7, 1, 3, 4, 6, 8, 2, 4, 5, 8, 1, 2, 6, 9, 9, 2, 5, 4, 7], \"Freq\": [0.4317632851096453, 0.4317632851096453, 0.8252399494531203, 0.42418277874947774, 0.42418277874947774, 0.8547952199981497, 0.5052667792039353, 0.25263338960196763, 0.25263338960196763, 0.42455576662393374, 0.42455576662393374, 0.42690019636017834, 0.42690019636017834, 0.37284354567430084, 0.37284354567430084, 0.12428118189143361, 0.12428118189143361, 0.5015148124972925, 0.25075740624864623, 0.25075740624864623, 0.26138259040602846, 0.26138259040602846, 0.26138259040602846, 0.26138259040602846, 0.8989912491053883, 0.15675718271654007, 0.31351436543308014, 0.47027154814962024, 0.15675718271654007, 0.8329511858549525, 0.43175885620518406, 0.43175885620518406, 0.4301544436706444, 0.4301544436706444, 0.43176513776429815, 0.43176513776429815, 0.8230300942266858, 0.42923479764952405, 0.42923479764952405, 0.21751705036633104, 0.21751705036633104, 0.21751705036633104, 0.4350341007326621, 0.8658864197170066, 0.6241557609097677, 0.3120778804548838, 0.434599896782364, 0.434599896782364, 0.6331236751790283, 0.3165618375895142, 0.4426284241226285, 0.4426284241226285, 0.632637408598542, 0.210879136199514, 0.210879136199514, 0.6401283540030053, 0.32006417700150264, 0.4347900016062312, 0.4347900016062312, 0.3114460688446798, 0.3114460688446798, 0.3114460688446798, 0.4302718210733839, 0.4302718210733839, 0.8420184456688419, 0.449979676457427, 0.449979676457427, 0.4218768175879962, 0.4218768175879962, 0.31874799941665055, 0.31874799941665055, 0.31874799941665055, 0.32805600659393874, 0.32805600659393874, 0.32805600659393874, 0.42967484277507306, 0.42967484277507306, 0.43997763378666926, 0.43997763378666926, 0.4347925087016514, 0.4347925087016514, 0.4162117325515922, 0.4162117325515922, 0.8329707196056834, 0.4302725591677334, 0.4302725591677334, 0.33360978884994474, 0.33360978884994474, 0.33360978884994474, 0.43630983025704834, 0.43630983025704834, 0.4410671309937882, 0.4410671309937882, 0.8990030132221222, 0.0992054035699228, 0.2976162107097684, 0.1984108071398456, 0.1984108071398456, 0.1984108071398456, 0.0992054035699228, 0.0992054035699228, 0.4296723029391555, 0.4296723029391555, 0.2490984667805443, 0.4981969335610886, 0.2490984667805443, 0.4311539803226444, 0.4311539803226444, 0.4292332502554702, 0.4292332502554702, 0.4301537544766465, 0.4301537544766465, 0.3640024130424152, 0.1820012065212076, 0.1820012065212076, 0.3640024130424152, 0.42455105956937467, 0.42455105956937467, 0.9055116444143207, 0.823029236766034, 0.5219698310902655, 0.26098491554513276, 0.26098491554513276, 0.12286657773331476, 0.36859973319994427, 0.36859973319994427, 0.12286657773331476, 0.4317558419706305, 0.4317558419706305, 0.49811077917134916, 0.24905538958567458, 0.24905538958567458, 0.43204033652826, 0.43204033652826, 0.44263005517945875, 0.44263005517945875, 0.4302714103764211, 0.4302714103764211, 0.4317602024341952, 0.4317602024341952, 0.4171694984790752, 0.4171694984790752, 0.3200738375766274, 0.3200738375766274, 0.1600369187883137, 0.3200738375766274, 0.5027116684365761, 0.25135583421828805, 0.25135583421828805, 0.8420208434745858, 0.43817089883502497, 0.43817089883502497, 0.2602224998868108, 0.2602224998868108, 0.5204449997736216, 0.21223341630586953, 0.21223341630586953, 0.42446683261173906, 0.894486410273584, 0.8252624026859791, 0.41521572568332676, 0.41521572568332676, 0.44107803242236193, 0.44107803242236193, 0.1208913903618722, 0.1208913903618722, 0.3626741710856166, 0.2417827807237444, 0.1208913903618722, 0.1208913903618722, 0.13962951573669083, 0.4188885472100725, 0.27925903147338166, 0.13962951573669083, 0.634442259219955, 0.3172211296099775, 0.3177305867353606, 0.6354611734707212, 0.924139931365101, 0.20704600316761176, 0.20704600316761176, 0.41409200633522353, 0.20704600316761176, 0.1674716903376802, 0.0837358451688401, 0.1674716903376802, 0.25120753550652025, 0.0837358451688401, 0.0837358451688401, 0.1674716903376802, 0.1674716903376802, 0.09830376040328631, 0.19660752080657262, 0.09830376040328631, 0.09830376040328631, 0.49151880201643156, 0.09830376040328631, 0.4311515011571986, 0.4311515011571986, 0.07681461458421827, 0.07681461458421827, 0.2304438437526548, 0.07681461458421827, 0.3072584583368731, 0.15362922916843655, 0.15362922916843655, 0.832959510774499, 0.2575209221796114, 0.5150418443592228, 0.24785470033010926, 0.24785470033010926, 0.4957094006602185, 0.2526356520456045, 0.2526356520456045, 0.2526356520456045, 0.2526356520456045, 0.32304191262896936, 0.32304191262896936, 0.32304191262896936, 0.4245517054000888, 0.4245517054000888, 0.16222451223056847, 0.32444902446113694, 0.32444902446113694, 0.16222451223056847, 0.42636751134649387, 0.42636751134649387, 0.41716293967239687, 0.41716293967239687, 0.6259242829246797, 0.2086414276415599, 0.2086414276415599, 0.8547993476059651, 0.4397146482931545, 0.4397146482931545, 0.45112109763110264, 0.45112109763110264, 0.8356852722760909, 0.4845968031501607, 0.3230645354334405, 0.16153226771672025, 0.16153226771672025, 0.4301547729954949, 0.4301547729954949, 0.4410745452008836, 0.4410745452008836, 0.8989976940603137, 0.8989960462532988, 0.6389866484772554, 0.3194933242386277, 0.3255849988814273, 0.3255849988814273, 0.3255849988814273, 0.41931165592485736, 0.41931165592485736, 0.41930652860191325, 0.41930652860191325, 0.4139829420021643, 0.4139829420021643, 0.42455112416088536, 0.42455112416088536, 0.8547996693749959, 0.22869978044407388, 0.45739956088814776, 0.11434989022203694, 0.22869978044407388, 0.09854964490929373, 0.2956489347278812, 0.09854964490929373, 0.09854964490929373, 0.19709928981858746, 0.19709928981858746, 0.09854964490929373, 0.5044395557841204, 0.2522197778920602, 0.2522197778920602, 0.43460063948581595, 0.43460063948581595, 0.8252414437268891, 0.4187369424636879, 0.4187369424636879, 0.2570315432170156, 0.08567718107233854, 0.17135436214467709, 0.17135436214467709, 0.08567718107233854, 0.08567718107233854, 0.17135436214467709, 0.5180565153219001, 0.5180565153219001, 0.4286371873477357, 0.4286371873477357, 0.41210829251834413, 0.2747388616788961, 0.13736943083944805, 0.13736943083944805, 0.13736943083944805, 0.2599718248106619, 0.2599718248106619, 0.2599718248106619, 0.2599718248106619, 0.4363087127482666, 0.4363087127482666, 0.26678218306543716, 0.5335643661308743, 0.26678218306543716, 0.2385434379318591, 0.2385434379318591, 0.2385434379318591, 0.2385434379318591, 0.11927171896592954, 0.3143298237338619, 0.3143298237338619, 0.3143298237338619, 0.2893605690267642, 0.1446802845133821, 0.2893605690267642, 0.1446802845133821, 0.1446802845133821, 0.4317611607971978, 0.4317611607971978, 0.4219605068857476, 0.4219605068857476, 0.20922588296951655, 0.4184517659390331, 0.20922588296951655, 0.20922588296951655, 0.31377117140857136, 0.10459039046952379, 0.31377117140857136, 0.10459039046952379, 0.10459039046952379, 0.11722055492822078, 0.5861027746411039, 0.23444110985644157, 0.11722055492822078, 0.3275435151395923, 0.3275435151395923, 0.3275435151395923, 0.3162114470879836, 0.6324228941759672, 0.42690105034600667, 0.42690105034600667, 0.4952123746578252, 0.4952123746578252, 0.32618340425684267, 0.32618340425684267, 0.32618340425684267, 0.06404459454889305, 0.44831216184225137, 0.06404459454889305, 0.1280891890977861, 0.2561783781955722, 0.1280891890977861, 0.43015248438521864, 0.43015248438521864, 0.6285641097650947, 0.31428205488254735, 0.4346041219179622, 0.4346041219179622, 0.129398553352562, 0.129398553352562, 0.258797106705124, 0.3881956600576861, 0.129398553352562, 0.41716208945618366, 0.41716208945618366, 0.6194849787830096, 0.3097424893915048, 0.4198816985193899, 0.4198816985193899, 0.43235958321285467, 0.43235958321285467, 0.3216107967396849, 0.08040269918492123, 0.08040269918492123, 0.08040269918492123, 0.08040269918492123, 0.16080539836984245, 0.16080539836984245, 0.08040269918492123, 0.9055100600956266, 0.9372607865011333, 0.26109844223652645, 0.5221968844730529, 0.26109844223652645, 0.4363112046916196, 0.4363112046916196, 0.8547959869722733, 0.8944773642938778, 0.31322263914464527, 0.31322263914464527, 0.31322263914464527, 0.6355589990941285, 0.31777949954706425, 0.4483698368441851, 0.4483698368441851, 0.8356814877465951, 0.43235910677869954, 0.43235910677869954, 0.4317579000501418, 0.4317579000501418, 0.43175496508382755, 0.43175496508382755, 0.434604283605442, 0.434604283605442, 0.43309646850134464, 0.43309646850134464, 0.4302706614933591, 0.4302706614933591, 0.22220899240989697, 0.22220899240989697, 0.44441798481979394, 0.22220899240989697, 0.25246792249779965, 0.5049358449955993, 0.25246792249779965, 0.41931303385987906, 0.41931303385987906, 0.41931146478731474, 0.41931146478731474, 0.8329693805841337, 0.4167752821162168, 0.4167752821162168, 0.32038136613592727, 0.6407627322718545, 0.6182333528953067, 0.30911667644765334, 0.43235988896731103, 0.43235988896731103, 0.41957845753029266, 0.20978922876514633, 0.41957845753029266, 0.42187236941812606, 0.42187236941812606, 0.1247180722410923, 0.1247180722410923, 0.3741542167232769, 0.1247180722410923, 0.1247180722410923, 0.2494361444821846, 0.2642002149722626, 0.1321001074861313, 0.39630032245839386, 0.1321001074861313, 0.1321001074861313, 0.8356854989958461, 0.43971257228555527, 0.43971257228555527, 0.4286504021767826, 0.2143252010883913, 0.4286504021767826, 0.6182383000849381, 0.30911915004246904, 0.43373061713810895, 0.43373061713810895, 0.1811698780178838, 0.5435096340536514, 0.1811698780178838, 0.1811698780178838, 0.42256886808930455, 0.42256886808930455, 0.4483691726825395, 0.4483691726825395, 0.43971167482173684, 0.43971167482173684, 0.350004380982259, 0.11666812699408632, 0.23333625398817265, 0.11666812699408632, 0.11666812699408632, 0.11666812699408632, 0.11666812699408632, 0.33360811924701966, 0.33360811924701966, 0.33360811924701966, 0.26198489538815695, 0.26198489538815695, 0.5239697907763139, 0.8329603461078392, 0.4296722748846066, 0.4296722748846066, 0.43997451313609154, 0.43997451313609154, 0.18931750002165423, 0.37863500004330847, 0.18931750002165423, 0.18931750002165423, 0.09933356162437082, 0.29800068487311243, 0.09933356162437082, 0.09933356162437082, 0.09933356162437082, 0.19866712324874164, 0.09933356162437082, 0.09933356162437082, 0.32894548732943163, 0.32894548732943163, 0.32894548732943163, 0.43308968701523404, 0.43308968701523404, 0.4219600854681775, 0.4219600854681775, 0.44106716588290096, 0.44106716588290096, 0.4302711007884619, 0.4302711007884619, 0.25349446620833976, 0.5069889324166795, 0.25349446620833976, 0.42751867599682214, 0.42751867599682214, 0.21375933799841107, 0.905510625213722, 0.6417380045394706, 0.3208690022697353, 0.4381710021860578, 0.4381710021860578, 0.21378775788854182, 0.21378775788854182, 0.42757551577708364, 0.21378775788854182, 0.905519856634691, 0.3116577471181555, 0.623315494236311, 0.8329558992937554, 0.8230335087972501, 0.43235926914673795, 0.43235926914673795, 0.5071217108098071, 0.25356085540490353, 0.25356085540490353, 0.10481696553150895, 0.31445089659452685, 0.2096339310630179, 0.31445089659452685, 0.2096339310630179, 0.42187493855325414, 0.42187493855325414, 0.9338324254953378, 0.11597251624252768, 0.11597251624252768, 0.23194503248505535, 0.11597251624252768, 0.23194503248505535, 0.11597251624252768, 0.23194503248505535, 0.8420258798319867, 0.9055048024906466, 0.24965641363224225, 0.24965641363224225, 0.4993128272644845, 0.4311585148233052, 0.4311585148233052, 0.4225379385149322, 0.4225379385149322, 0.24941190984657938, 0.24941190984657938, 0.49882381969315875, 0.5274304897876908, 0.2637152448938454, 0.2637152448938454, 0.4399741079786623, 0.4399741079786623, 0.8252393117678627, 0.41716416756661534, 0.41716416756661534, 0.21248173223318267, 0.21248173223318267, 0.21248173223318267, 0.21248173223318267, 0.21248173223318267, 0.8356862082604372, 0.83568914655977, 0.12153768210599666, 0.12153768210599666, 0.182306523158995, 0.182306523158995, 0.12153768210599666, 0.12153768210599666, 0.06076884105299833, 0.06076884105299833, 0.06076884105299833, 0.06076884105299833, 0.43176007603052646, 0.43176007603052646, 0.3168899235885681, 0.3168899235885681, 0.3168899235885681, 0.8989969326412681, 0.41930542311144886, 0.41930542311144886, 0.4146589932904467, 0.4146589932904467, 0.24853859715068416, 0.7456157914520525, 0.8252423566392986, 0.4381713112232111, 0.4381713112232111, 0.20449066088885226, 0.6134719826665568, 0.20449066088885226, 0.4219574184674587, 0.4219574184674587, 0.4252571699440575, 0.4252571699440575, 0.18295968484168945, 0.18295968484168945, 0.18295968484168945, 0.18295968484168945, 0.3659193696833789, 0.2607040021423837, 0.2607040021423837, 0.2607040021423837, 0.2607040021423837, 0.25076825744476355, 0.25076825744476355, 0.25076825744476355, 0.25076825744476355, 0.8420314035115244, 0.43459929530906993, 0.43459929530906993, 0.42455402336415327, 0.42455402336415327], \"Term\": [\"1\", \"1\", \"6\", \"8\", \"8\", \"accidentally\", \"actually\", \"actually\", \"actually\", \"alcohol\", \"alcohol\", \"alive\", \"alive\", \"alone\", \"alone\", \"alone\", \"alone\", \"already\", \"already\", \"already\", \"always\", \"always\", \"always\", \"always\", \"anorexia\", \"anyone\", \"anyone\", \"anyone\", \"anyone\", \"apo\", \"around\", \"around\", \"ate\", \"ate\", \"attractive\", \"attractive\", \"away\", \"back\", \"back\", \"bad\", \"bad\", \"bad\", \"bad\", \"balls\", \"bed\", \"bed\", \"beer\", \"beer\", \"better\", \"better\", \"bid\", \"bid\", \"bids\", \"bids\", \"bids\", \"boys\", \"boys\", \"buddy\", \"buddy\", \"butt\", \"butt\", \"butt\", \"cas\", \"cas\", \"chipotle\", \"classes\", \"classes\", \"classic\", \"classic\", \"come\", \"come\", \"come\", \"coming\", \"coming\", \"coming\", \"congrats\", \"congrats\", \"conversation\", \"conversation\", \"crave\", \"crave\", \"creature\", \"creature\", \"crust\", \"cry\", \"cry\", \"cuddle\", \"cuddle\", \"cuddle\", \"cute\", \"cute\", \"daga\", \"daga\", \"dangerous\", \"day\", \"day\", \"day\", \"day\", \"day\", \"day\", \"day\", \"death\", \"death\", \"dick\", \"dick\", \"dick\", \"die\", \"die\", \"drama\", \"drama\", \"dream\", \"dream\", \"drunk\", \"drunk\", \"drunk\", \"drunk\", \"dues\", \"dues\", \"dunno\", \"eat\", \"end\", \"end\", \"end\", \"even\", \"even\", \"even\", \"even\", \"everyday\", \"everyday\", \"everyone\", \"everyone\", \"everyone\", \"face\", \"face\", \"fake\", \"fake\", \"fall\", \"fall\", \"family\", \"family\", \"favorite\", \"favorite\", \"feel\", \"feel\", \"feel\", \"feel\", \"feeling\", \"feeling\", \"feeling\", \"feelings\", \"felt\", \"felt\", \"find\", \"find\", \"find\", \"first\", \"first\", \"first\", \"fix\", \"food\", \"forever\", \"forever\", \"freedom\", \"freedom\", \"friends\", \"friends\", \"friends\", \"friends\", \"friends\", \"friends\", \"fuck\", \"fuck\", \"fuck\", \"fuck\", \"fucked\", \"fucked\", \"fucking\", \"fucking\", \"fun\", \"geneseo\", \"geneseo\", \"geneseo\", \"geneseo\", \"girl\", \"girl\", \"girl\", \"girl\", \"girl\", \"girl\", \"girl\", \"girl\", \"girls\", \"girls\", \"girls\", \"girls\", \"girls\", \"girls\", \"give\", \"give\", \"go\", \"go\", \"go\", \"go\", \"go\", \"go\", \"go\", \"god\", \"going\", \"going\", \"good\", \"good\", \"good\", \"great\", \"great\", \"great\", \"great\", \"greek\", \"greek\", \"greek\", \"group\", \"group\", \"guy\", \"guy\", \"guy\", \"guy\", \"guys\", \"guys\", \"hard\", \"hard\", \"hate\", \"hate\", \"hate\", \"help\", \"high\", \"high\", \"hockey\", \"hockey\", \"holy\", \"home\", \"home\", \"home\", \"home\", \"honestly\", \"honestly\", \"hope\", \"hope\", \"horny\", \"horses\", \"hot\", \"hot\", \"hours\", \"hours\", \"hours\", \"house\", \"house\", \"human\", \"human\", \"im\", \"im\", \"jesus\", \"jesus\", \"kiss\", \"know\", \"know\", \"know\", \"know\", \"last\", \"last\", \"last\", \"last\", \"last\", \"last\", \"last\", \"late\", \"late\", \"late\", \"learning\", \"learning\", \"leave\", \"lesbian\", \"lesbian\", \"life\", \"life\", \"life\", \"life\", \"life\", \"life\", \"life\", \"little\", \"little\", \"lonely\", \"lonely\", \"long\", \"long\", \"long\", \"long\", \"long\", \"look\", \"look\", \"look\", \"look\", \"looking\", \"looking\", \"lot\", \"lot\", \"lot\", \"love\", \"love\", \"love\", \"love\", \"love\", \"lunch\", \"lunch\", \"lunch\", \"make\", \"make\", \"make\", \"make\", \"make\", \"many\", \"many\", \"marks\", \"marks\", \"mom\", \"mom\", \"mom\", \"mom\", \"much\", \"much\", \"much\", \"much\", \"much\", \"need\", \"need\", \"need\", \"need\", \"netflix\", \"netflix\", \"netflix\", \"never\", \"never\", \"new\", \"new\", \"next\", \"next\", \"nice\", \"nice\", \"nice\", \"night\", \"night\", \"night\", \"night\", \"night\", \"night\", \"ok\", \"ok\", \"okay\", \"okay\", \"old\", \"old\", \"one\", \"one\", \"one\", \"one\", \"one\", \"order\", \"order\", \"party\", \"party\", \"pass\", \"pass\", \"paying\", \"paying\", \"people\", \"people\", \"people\", \"people\", \"people\", \"people\", \"people\", \"people\", \"perfect\", \"period\", \"person\", \"person\", \"person\", \"petition\", \"petition\", \"plans\", \"please\", \"pledge\", \"pledge\", \"pledge\", \"pledges\", \"pledges\", \"poop\", \"poop\", \"potatoes\", \"pretty\", \"pretty\", \"probably\", \"probably\", \"problem\", \"problem\", \"pull\", \"pull\", \"ready\", \"ready\", \"realized\", \"realized\", \"really\", \"really\", \"really\", \"really\", \"relationship\", \"relationship\", \"relationship\", \"rn\", \"rn\", \"romantic\", \"romantic\", \"rush\", \"sad\", \"sad\", \"saw\", \"saw\", \"see\", \"see\", \"self\", \"self\", \"semester\", \"semester\", \"semester\", \"senior\", \"senior\", \"sex\", \"sex\", \"sex\", \"sex\", \"sex\", \"sex\", \"shit\", \"shit\", \"shit\", \"shit\", \"shit\", \"shits\", \"show\", \"show\", \"shower\", \"shower\", \"shower\", \"sick\", \"sick\", \"sit\", \"sit\", \"sleep\", \"sleep\", \"sleep\", \"sleep\", \"smoke\", \"smoke\", \"snuggle\", \"snuggle\", \"sober\", \"sober\", \"someone\", \"someone\", \"someone\", \"someone\", \"someone\", \"someone\", \"someone\", \"something\", \"something\", \"something\", \"sometimes\", \"sometimes\", \"sometimes\", \"south\", \"spend\", \"spend\", \"sports\", \"sports\", \"statesmen\", \"statesmen\", \"statesmen\", \"statesmen\", \"still\", \"still\", \"still\", \"still\", \"still\", \"still\", \"still\", \"still\", \"stop\", \"stop\", \"stop\", \"story\", \"story\", \"stretch\", \"stretch\", \"study\", \"study\", \"studying\", \"studying\", \"sucks\", \"sucks\", \"sucks\", \"sunday\", \"sunday\", \"sunday\", \"supposed\", \"sure\", \"sure\", \"take\", \"take\", \"talk\", \"talk\", \"talk\", \"talk\", \"taste\", \"tell\", \"tell\", \"ten\", \"text\", \"thank\", \"thank\", \"things\", \"things\", \"things\", \"think\", \"think\", \"think\", \"think\", \"think\", \"thinks\", \"thinks\", \"tight\", \"time\", \"time\", \"time\", \"time\", \"time\", \"time\", \"time\", \"times\", \"tired\", \"today\", \"today\", \"today\", \"tomorrow\", \"tomorrow\", \"tonight\", \"tonight\", \"try\", \"try\", \"try\", \"trying\", \"trying\", \"trying\", \"two\", \"two\", \"ur\", \"used\", \"used\", \"valentine\", \"valentine\", \"valentine\", \"valentine\", \"valentine\", \"vodka\", \"waiting\", \"want\", \"want\", \"want\", \"want\", \"want\", \"want\", \"want\", \"want\", \"want\", \"want\", \"wanted\", \"wanted\", \"watch\", \"watch\", \"watch\", \"watching\", \"way\", \"way\", \"wear\", \"wear\", \"week\", \"week\", \"weeks\", \"weight\", \"weight\", \"weird\", \"weird\", \"weird\", \"well\", \"well\", \"whole\", \"whole\", \"wish\", \"wish\", \"wish\", \"wish\", \"wish\", \"without\", \"without\", \"without\", \"without\", \"work\", \"work\", \"work\", \"work\", \"worst\", \"years\", \"years\", \"yo\", \"yo\"]}, \"R\": 30, \"lambda.step\": 0.01, \"plot.opts\": {\"xlab\": \"PC1\", \"ylab\": \"PC2\"}, \"topic.order\": [10, 4, 7, 1, 8, 2, 6, 9, 5, 3]};\n",
       "\n",
       "function LDAvis_load_lib(url, callback){\n",
       "  var s = document.createElement('script');\n",
       "  s.src = url;\n",
       "  s.async = true;\n",
       "  s.onreadystatechange = s.onload = callback;\n",
       "  s.onerror = function(){console.warn(\"failed to load library \" + url);};\n",
       "  document.getElementsByTagName(\"head\")[0].appendChild(s);\n",
       "}\n",
       "\n",
       "if(typeof(LDAvis) !== \"undefined\"){\n",
       "   // already loaded: just create the visualization\n",
       "   !function(LDAvis){\n",
       "       new LDAvis(\"#\" + \"ldavis_el852161123880343764747618596\", ldavis_el852161123880343764747618596_data);\n",
       "   }(LDAvis);\n",
       "}else if(typeof define === \"function\" && define.amd){\n",
       "   // require.js is available: use it to load d3/LDAvis\n",
       "   require.config({paths: {d3: \"https://cdnjs.cloudflare.com/ajax/libs/d3/3.5.5/d3.min\"}});\n",
       "   require([\"d3\"], function(d3){\n",
       "      window.d3 = d3;\n",
       "      LDAvis_load_lib(\"https://cdn.rawgit.com/bmabey/pyLDAvis/files/ldavis.v1.0.0.js\", function(){\n",
       "        new LDAvis(\"#\" + \"ldavis_el852161123880343764747618596\", ldavis_el852161123880343764747618596_data);\n",
       "      });\n",
       "    });\n",
       "}else{\n",
       "    // require.js not available: dynamically load d3 & LDAvis\n",
       "    LDAvis_load_lib(\"https://cdnjs.cloudflare.com/ajax/libs/d3/3.5.5/d3.min.js\", function(){\n",
       "         LDAvis_load_lib(\"https://cdn.rawgit.com/bmabey/pyLDAvis/files/ldavis.v1.0.0.js\", function(){\n",
       "                 new LDAvis(\"#\" + \"ldavis_el852161123880343764747618596\", ldavis_el852161123880343764747618596_data);\n",
       "            })\n",
       "         });\n",
       "}\n",
       "</script>"
      ],
      "text/plain": [
       "<IPython.core.display.HTML object>"
      ]
     },
     "execution_count": 31,
     "metadata": {},
     "output_type": "execute_result"
    }
   ],
   "source": [
    "# Setup gensim dictionary\n",
    "dictionary = corpora.Dictionary(texts)\n",
    "corpus = [dictionary.doc2bow(text) for text in texts]\n",
    "#corpora.MmCorpus.serialize('reddit.mm', corpus)\n",
    "#print(corpus)\n",
    "\n",
    "lda = gensim.models.LdaModel(corpus, id2word=dictionary, alpha='auto', num_topics=10, random_state=12345)\n",
    "\n",
    "for topic in lda.show_topics():\n",
    "    #print(topic)\n",
    "    print(get_terms_only(topic[1]))\n",
    "    \n",
    "topic_vis = pyLDAvis.gensim.prepare(lda, corpus, dictionary)\n",
    "pyLDAvis.display(topic_vis)"
   ]
  },
  {
   "cell_type": "markdown",
   "metadata": {},
   "source": [
    "### TF-IDF"
   ]
  },
  {
   "cell_type": "code",
   "execution_count": 32,
   "metadata": {},
   "outputs": [
    {
     "name": "stdout",
     "output_type": "stream",
     "text": [
      "['fuck', 'geneseo', 'think', 'much', 'apo', 'rush', 'girl', 'anyone', 'tight', 'okay']\n",
      "['girls', 'need', 'life', 'one', 'love', 'never', 'want', 'help', 'shit', 'fucking']\n",
      "['please', 'everyone', 'fix', 'hot', 'feel', 'daga', 'back', 'coming', 'sit', 'face']\n",
      "['know', 'still', 'night', 'bids', 'anyone', 'waiting', 'week', 'day', 'period', 'think']\n",
      "['worst', 'times', 'first', 'today', 'want', 'drunk', 'sex', 'wear', 'feelings', 'chipotle']\n",
      "['night', 'balls', 'go', 'last', 'new', 'fuck', 'freedom', 'look', 'girl', 'going']\n",
      "['party', 'mom', 'even', 'things', 'everyone', 'found', 'college', 'guy', 'alone', 'sex']\n",
      "['taste', 'friends', 'go', 'want', 'guy', 'mom', 'love', 'supposed', 'statesmen', 'make']\n",
      "['day', 'sunday', 'hope', 'freedom', 'love', 'go', 'watching', 'want', 'wish', 'shit']\n",
      "['food', 'fucked', 'long', 'bed', 'hate', 'much', 'already', 'everyone', 'actually', 'dick']\n"
     ]
    },
    {
     "data": {
      "text/html": [
       "\n",
       "<link rel=\"stylesheet\" type=\"text/css\" href=\"https://cdn.rawgit.com/bmabey/pyLDAvis/files/ldavis.v1.0.0.css\">\n",
       "\n",
       "\n",
       "<div id=\"ldavis_el852161122526959208155897203\"></div>\n",
       "<script type=\"text/javascript\">\n",
       "\n",
       "var ldavis_el852161122526959208155897203_data = {\"mdsDat\": {\"Freq\": [13.45383622729318, 12.379922025563904, 11.696188981110138, 10.694732968602974, 10.582676466836409, 9.493080559157718, 8.755368151850233, 8.741083909545228, 7.759270279053244, 6.443840430986968], \"cluster\": [1, 1, 1, 1, 1, 1, 1, 1, 1, 1], \"topics\": [1, 2, 3, 4, 5, 6, 7, 8, 9, 10], \"x\": [0.05339826336002242, -0.06487131575792605, -0.05100791341692065, -0.08606047066128272, 0.08954737953605106, 0.05357007659661133, 0.04670118001334926, -0.034078920922602216, 0.01720717938339223, -0.024405458130694422], \"y\": [8.632803072579142e-05, -0.06496787786802896, 0.03136496462415078, 0.07518900047522241, 0.09344980866913405, -0.033245567065752234, -0.05245440917345882, -0.01673952510832228, -0.03975081347224773, 0.007068090888576794]}, \"tinfo\": {\"Category\": [\"Default\", \"Default\", \"Default\", \"Default\", \"Default\", \"Default\", \"Default\", \"Default\", \"Default\", \"Default\", \"Default\", \"Default\", \"Default\", \"Default\", \"Default\", \"Default\", \"Default\", \"Default\", \"Default\", \"Default\", \"Default\", \"Default\", \"Default\", \"Default\", \"Default\", \"Default\", \"Default\", \"Default\", \"Default\", \"Default\", \"Topic1\", \"Topic1\", \"Topic1\", \"Topic1\", \"Topic1\", \"Topic1\", \"Topic1\", \"Topic1\", \"Topic1\", \"Topic1\", \"Topic1\", \"Topic1\", \"Topic1\", \"Topic1\", \"Topic1\", \"Topic1\", \"Topic1\", \"Topic1\", \"Topic1\", \"Topic1\", \"Topic1\", \"Topic1\", \"Topic1\", \"Topic1\", \"Topic1\", \"Topic1\", \"Topic1\", \"Topic1\", \"Topic1\", \"Topic1\", \"Topic1\", \"Topic1\", \"Topic1\", \"Topic1\", \"Topic1\", \"Topic1\", \"Topic1\", \"Topic1\", \"Topic1\", \"Topic1\", \"Topic1\", \"Topic1\", \"Topic1\", \"Topic2\", \"Topic2\", \"Topic2\", \"Topic2\", \"Topic2\", \"Topic2\", \"Topic2\", \"Topic2\", \"Topic2\", \"Topic2\", \"Topic2\", \"Topic2\", \"Topic2\", \"Topic2\", \"Topic2\", \"Topic2\", \"Topic2\", \"Topic2\", \"Topic2\", \"Topic2\", \"Topic2\", \"Topic2\", \"Topic2\", \"Topic2\", \"Topic2\", \"Topic2\", \"Topic2\", \"Topic2\", \"Topic2\", \"Topic2\", \"Topic2\", \"Topic2\", \"Topic2\", \"Topic2\", \"Topic2\", \"Topic2\", \"Topic2\", \"Topic2\", \"Topic2\", \"Topic2\", \"Topic3\", \"Topic3\", \"Topic3\", \"Topic3\", \"Topic3\", \"Topic3\", \"Topic3\", \"Topic3\", \"Topic3\", \"Topic3\", \"Topic3\", \"Topic3\", \"Topic3\", \"Topic3\", \"Topic3\", \"Topic3\", \"Topic3\", \"Topic3\", \"Topic3\", \"Topic3\", \"Topic3\", \"Topic3\", \"Topic3\", \"Topic3\", \"Topic3\", \"Topic3\", \"Topic3\", \"Topic3\", \"Topic3\", \"Topic3\", \"Topic3\", \"Topic3\", \"Topic3\", \"Topic3\", \"Topic3\", \"Topic3\", \"Topic3\", \"Topic3\", \"Topic3\", \"Topic3\", \"Topic3\", \"Topic3\", \"Topic4\", \"Topic4\", \"Topic4\", \"Topic4\", \"Topic4\", \"Topic4\", \"Topic4\", \"Topic4\", \"Topic4\", \"Topic4\", \"Topic4\", \"Topic4\", \"Topic4\", \"Topic4\", \"Topic4\", \"Topic4\", \"Topic4\", \"Topic4\", \"Topic4\", \"Topic4\", \"Topic4\", \"Topic4\", \"Topic4\", \"Topic4\", \"Topic4\", \"Topic4\", \"Topic4\", \"Topic4\", \"Topic4\", \"Topic4\", \"Topic4\", \"Topic4\", \"Topic4\", \"Topic4\", \"Topic4\", \"Topic4\", \"Topic4\", \"Topic4\", \"Topic4\", \"Topic4\", \"Topic4\", \"Topic5\", \"Topic5\", \"Topic5\", \"Topic5\", \"Topic5\", \"Topic5\", \"Topic5\", \"Topic5\", \"Topic5\", \"Topic5\", \"Topic5\", \"Topic5\", \"Topic5\", \"Topic5\", \"Topic5\", \"Topic5\", \"Topic5\", \"Topic5\", \"Topic5\", \"Topic5\", \"Topic5\", \"Topic5\", \"Topic5\", \"Topic5\", \"Topic5\", \"Topic5\", \"Topic5\", \"Topic5\", \"Topic5\", \"Topic5\", \"Topic5\", \"Topic5\", \"Topic5\", \"Topic5\", \"Topic5\", \"Topic5\", \"Topic5\", \"Topic6\", \"Topic6\", \"Topic6\", \"Topic6\", \"Topic6\", \"Topic6\", \"Topic6\", \"Topic6\", \"Topic6\", \"Topic6\", \"Topic6\", \"Topic6\", \"Topic6\", \"Topic6\", \"Topic6\", \"Topic6\", \"Topic6\", \"Topic6\", \"Topic6\", \"Topic6\", \"Topic6\", \"Topic6\", \"Topic6\", \"Topic6\", \"Topic6\", \"Topic6\", \"Topic6\", \"Topic6\", \"Topic6\", \"Topic6\", \"Topic6\", \"Topic6\", \"Topic6\", \"Topic6\", \"Topic6\", \"Topic6\", \"Topic6\", \"Topic6\", \"Topic6\", \"Topic6\", \"Topic6\", \"Topic6\", \"Topic6\", \"Topic6\", \"Topic7\", \"Topic7\", \"Topic7\", \"Topic7\", \"Topic7\", \"Topic7\", \"Topic7\", \"Topic7\", \"Topic7\", \"Topic7\", \"Topic7\", \"Topic7\", \"Topic7\", \"Topic7\", \"Topic7\", \"Topic7\", \"Topic7\", \"Topic7\", \"Topic7\", \"Topic7\", \"Topic7\", \"Topic7\", \"Topic7\", \"Topic7\", \"Topic7\", \"Topic7\", \"Topic7\", \"Topic7\", \"Topic7\", \"Topic7\", \"Topic7\", \"Topic7\", \"Topic7\", \"Topic7\", \"Topic7\", \"Topic7\", \"Topic7\", \"Topic7\", \"Topic8\", \"Topic8\", \"Topic8\", \"Topic8\", \"Topic8\", \"Topic8\", \"Topic8\", \"Topic8\", \"Topic8\", \"Topic8\", \"Topic8\", \"Topic8\", \"Topic8\", \"Topic8\", \"Topic8\", \"Topic8\", \"Topic8\", \"Topic8\", \"Topic8\", \"Topic8\", \"Topic8\", \"Topic8\", \"Topic8\", \"Topic8\", \"Topic8\", \"Topic8\", \"Topic8\", \"Topic8\", \"Topic8\", \"Topic8\", \"Topic8\", \"Topic8\", \"Topic8\", \"Topic8\", \"Topic8\", \"Topic8\", \"Topic8\", \"Topic8\", \"Topic8\", \"Topic8\", \"Topic9\", \"Topic9\", \"Topic9\", \"Topic9\", \"Topic9\", \"Topic9\", \"Topic9\", \"Topic9\", \"Topic9\", \"Topic9\", \"Topic9\", \"Topic9\", \"Topic9\", \"Topic9\", \"Topic9\", \"Topic9\", \"Topic9\", \"Topic9\", \"Topic9\", \"Topic9\", \"Topic9\", \"Topic9\", \"Topic9\", \"Topic9\", \"Topic9\", \"Topic9\", \"Topic9\", \"Topic9\", \"Topic9\", \"Topic9\", \"Topic9\", \"Topic9\", \"Topic9\", \"Topic9\", \"Topic9\", \"Topic9\", \"Topic10\", \"Topic10\", \"Topic10\", \"Topic10\", \"Topic10\", \"Topic10\", \"Topic10\", \"Topic10\", \"Topic10\", \"Topic10\", \"Topic10\", \"Topic10\", \"Topic10\", \"Topic10\", \"Topic10\", \"Topic10\", \"Topic10\", \"Topic10\", \"Topic10\", \"Topic10\", \"Topic10\", \"Topic10\", \"Topic10\", \"Topic10\", \"Topic10\", \"Topic10\", \"Topic10\", \"Topic10\", \"Topic10\", \"Topic10\", \"Topic10\"], \"Freq\": [4.0, 3.0, 3.0, 2.0, 2.0, 3.0, 1.0, 1.0, 1.0, 1.0, 1.0, 1.0, 1.0, 2.0, 2.0, 1.0, 3.0, 1.0, 1.0, 1.0, 2.0, 2.0, 1.0, 3.0, 1.0, 1.0, 3.0, 2.0, 4.0, 3.0, 1.304748594893467, 0.8692709332280295, 0.6029528431212886, 0.5745634554095228, 0.5022829705636563, 0.491454092190303, 0.6226438399159924, 1.2197023860460294, 0.6915355660613548, 0.9428853832409724, 0.8448556100126855, 0.5644299248088682, 0.7213779886325489, 0.5007779595666514, 0.5496423130300331, 0.573746420441141, 0.9673250652628272, 0.7112480370670614, 0.5542165870658297, 0.4293557754304596, 0.4770857617103779, 0.43721741997650276, 0.40790108886566234, 0.8282391646818711, 0.43724407577573277, 0.42069549856700594, 0.4259274603785932, 0.4293665659543964, 0.3888119041633934, 0.47709222534105294, 1.197870485200145, 0.8871966109903622, 0.567121145580825, 0.7781371594903141, 0.6418861218539189, 1.0683193479782225, 0.6149153141107931, 0.5081917973693179, 0.5427769223029061, 0.5944940338866844, 0.5325259779813948, 0.5221959743755942, 0.5174596822254397, 0.9362861061132305, 0.7590695289456179, 1.9389356496197412, 0.9049936882681183, 0.5560162366806285, 1.0371351334277226, 0.6749531224441092, 0.4953427230403269, 0.49532492912555287, 0.4688805174305219, 0.4688701949937745, 0.5782599573185583, 1.0343075722303217, 0.6149355750818709, 0.5036395044621562, 0.6006948888086174, 1.2689567128263342, 0.4036584957691942, 0.6835113072879498, 0.41796873560434045, 0.5993602960461073, 0.47092357343512475, 0.46560948468867075, 0.44460249028199417, 0.5629185552068131, 0.43054215172505506, 0.4592519942049031, 0.34196463383364795, 0.36820026195684874, 0.3683164139474867, 0.5766676968730502, 1.0469560963669884, 0.4885426457924017, 0.7703951099269607, 0.7398361749444384, 0.618906616498574, 0.5395213759940587, 0.5201057572525977, 0.5086617631754246, 0.4755436503509323, 1.1325564435952333, 1.128238201675517, 0.5349713626171203, 0.7941667912676345, 0.46695680005614915, 0.743643045016994, 0.7731196227514677, 0.5163897706393742, 0.5299000080867738, 0.6751831721752476, 0.6305072057948513, 0.5263280057021263, 0.4079826074032209, 0.45246654562520594, 0.5756430194480202, 0.4079878086495914, 0.42037016510948594, 0.37601238033183565, 0.35622224160814175, 0.41193792306949506, 0.3573187757983246, 0.47748639825534844, 0.4230688689405848, 0.3554225964183756, 0.3554199957951903, 0.82576306265689, 0.3133300705343317, 0.4815806615032348, 0.3562381936450013, 0.2877484368564744, 0.6777887179686747, 0.7520904728387987, 0.4119975980836567, 0.564413900051687, 0.611846991405451, 0.41899373884899, 0.5733673812815226, 0.5503178722318086, 0.4525975984578629, 0.44274801678190806, 0.43183371211009, 0.4411801196393977, 0.7668814712065739, 0.7668024043181005, 0.6866374117975772, 0.5727869523480095, 1.007787579602837, 0.5882169702848097, 0.5038722608473605, 1.2554700005998358, 0.5653476583671804, 0.5925909573493002, 0.6866172416729667, 0.5270912165671859, 0.5230991879676886, 0.501329041682783, 0.44660643202889005, 0.6047943073728774, 0.44435756929336573, 0.4362840416679409, 0.4089625675291727, 0.503852642747213, 0.40896282230969405, 0.39612145939712035, 0.3610949127302865, 0.3251143191693742, 0.3307546078886244, 0.30412685864619793, 0.9607043940293298, 0.33077197542749953, 0.33483207288962985, 0.33109021753043355, 0.8064378456901523, 0.4692354859148427, 0.7148886649857609, 0.45859270904823773, 0.4837399711442507, 0.7298710335464679, 0.41167636225282495, 0.6178193670413779, 0.652124460198458, 0.5614558859028526, 0.41370148522714306, 0.7686250932845146, 1.7936689236208883, 2.137332016961684, 0.5800915289839872, 0.5780235044660043, 0.5232204135452052, 0.810486360128017, 0.6335901555700894, 0.5264410895571294, 0.46359553166728523, 0.5264145758835848, 0.5517955567218313, 0.39559976622376714, 0.5070558125309809, 0.5070557705124807, 0.40858579376313814, 0.4168774304376029, 0.413890335267572, 0.43587378422709644, 1.1905395754551007, 0.850830843155965, 0.3979816689372787, 0.4138978565790847, 0.33115653890573216, 0.39928831823397937, 0.3992944949534898, 0.408597012702657, 0.48673738865526067, 0.2930336580135258, 0.33116424930049515, 0.8330562612930291, 0.6908973390026059, 0.7790684553291032, 0.5544664626788296, 0.5233072657848514, 0.45721905620754605, 0.45793513548575204, 0.5878797910827485, 0.5295654906216434, 0.4991703003779661, 0.5569967875939315, 0.6546290919206765, 0.654616804243508, 0.4829367711478428, 0.45440595322253574, 0.4979531418775757, 0.4489601376244029, 0.4359753043916984, 0.6828625555969565, 0.3941444328528258, 0.4031952493940046, 0.40316584943022704, 0.3619917655436926, 0.39413493440298997, 0.43121529948706866, 0.4031745186503153, 0.5605759316457577, 0.4359586444122244, 0.4206215879237487, 0.4607689346137443, 0.4340895228689363, 0.26759249607981567, 0.2854296425649591, 0.3011189709271078, 0.28852266952340194, 0.24499052008060204, 0.2676107202881316, 0.38692338713418667, 0.47125963322705905, 0.8427025448187013, 0.4156121356341449, 0.39935825258294483, 0.6497701825225182, 0.5585929794734847, 0.6187111938659098, 0.4704515488380503, 0.5660969056128295, 0.4636321895475872, 0.44269771918621803, 0.43163089435964713, 0.41478716511209474, 0.9351116172011874, 0.6886200548986992, 0.5568704015126152, 0.5357188865455053, 0.5483114991712533, 0.6885964159394856, 0.4127675494891708, 0.3989415741664569, 0.3989523159876289, 0.46786381033387586, 0.561284003776833, 0.5387575009365279, 0.400967398207881, 0.400959646019786, 0.5820368198862664, 0.36375397524503517, 0.381623151198996, 0.38160045084551597, 0.45661083143202863, 0.5470878006370248, 0.3989577738061532, 0.557629385919246, 0.36377796183600186, 0.3827673115881061, 0.48461656691262717, 0.357325360286916, 0.3379947752059294, 0.35731002972660253, 0.278887313232854, 0.30843460434116476, 0.45810898523536137, 1.0269520329051745, 0.8750673397981623, 0.6886044114698079, 0.7005769881006552, 0.46911201690670085, 0.5646179661053233, 0.4591794476928057, 1.1367903759296396, 0.5212401458151396, 0.42107709473016897, 0.6465105440143883, 0.6464753516641991, 0.4251179678391726, 0.3845512182378824, 0.6465433763253143, 0.4198487637066024, 0.34405992048009454, 0.40238357079110415, 0.40236729346148015, 0.358307408099003, 0.3582972043998357, 0.45251601071004666, 0.419859626828505, 0.692425038466669, 0.3806193581189619, 0.5432269310136757, 0.3336672446394556, 0.38061436038875757, 0.3741839128193227, 0.3336714094146259, 0.6595328241911079, 0.30140641027971515, 0.646532617322791, 0.4460343364060168, 0.35832007595681276, 0.6451281163095198, 0.4761699207028024, 0.5955374442273166, 0.5608207460690173, 0.4470521727511835, 0.39490189926222063, 0.45031308759016525, 0.4410734644618894, 0.4433567330360982, 0.4003081939108139, 0.39714945488934394, 0.3952196716077161, 0.8536475704616674, 0.7358722485668868, 0.5475465863940985, 0.533345005749452, 0.5652721904061339, 0.636563713645104, 0.6666911466094798, 0.42492828174525005, 0.5110403217700976, 0.4936585061303866, 0.424901663486115, 0.6267770054201031, 0.3714306950400301, 0.3714351006083823, 0.4629695942623805, 0.3160080906220837, 0.31600060423670195, 0.4527037265647779, 0.28891917506941445, 0.35946569513430565, 0.4297505922170498, 0.4323807781396635, 0.34141001238572727, 0.4629529270422508, 0.5836803802392301, 0.34454006087138095, 0.2690934705128649, 0.26495374586212606, 0.3421244846630437, 0.2781585897732113, 0.48837031450738255, 0.6309447963139808, 0.4083160541995136, 0.44247920343171154, 0.4984882721793978, 0.34859235193482196, 0.7205322966273152, 0.6629928931263054, 0.5051688976293568, 0.6629671543565795, 0.5187379369623842, 0.40833642217817967, 0.3475042727055916, 0.4670575064133427, 0.34749897655714895, 0.40832826048082127, 0.3479098758034682, 0.3724639457347, 0.37246883251901175, 0.6159174508554713, 0.34792018666251345, 0.6754844348964754, 0.3224429238604886, 0.32292141935891094, 0.29091177960970466, 0.3229166860861482, 0.30000319407972853, 0.3267975603874363, 0.2571562274277725, 0.3233316022180012, 0.3000391925379833, 0.25717656770802305, 0.2923017243454169, 0.2571808660313967, 0.392816199886074, 0.39664429179974336, 0.2718645527221541], \"Term\": [\"girls\", \"need\", \"know\", \"party\", \"everyone\", \"fuck\", \"hot\", \"please\", \"worst\", \"fucked\", \"balls\", \"fix\", \"freedom\", \"anyone\", \"mom\", \"times\", \"go\", \"daga\", \"college\", \"food\", \"feel\", \"sex\", \"taste\", \"love\", \"new\", \"hope\", \"life\", \"geneseo\", \"night\", \"girl\", \"taste\", \"supposed\", \"perfect\", \"family\", \"dunno\", \"tired\", \"petition\", \"friends\", \"little\", \"mom\", \"statesmen\", \"show\", \"stop\", \"beer\", \"die\", \"boys\", \"guy\", \"lot\", \"person\", \"birthday\", \"fake\", \"take\", \"tomorrow\", \"make\", \"paying\", \"wanted\", \"many\", \"forever\", \"sober\", \"pull\", \"go\", \"love\", \"school\", \"shit\", \"sleep\", \"want\", \"time\", \"getting\", \"home\", \"day\", \"someone\", \"one\", \"life\", \"waiting\", \"period\", \"know\", \"week\", \"shits\", \"bids\", \"favorite\", \"potatoes\", \"vodka\", \"dangerous\", \"anorexia\", \"alcoholic\", \"anyone\", \"sucks\", \"holy\", \"next\", \"still\", \"used\", \"shower\", \"story\", \"dick\", \"ready\", \"smoke\", \"yo\", \"good\", \"face\", \"pull\", \"learning\", \"years\", \"giving\", \"guys\", \"night\", \"going\", \"day\", \"think\", \"time\", \"make\", \"even\", \"sleep\", \"relationship\", \"food\", \"fucked\", \"ten\", \"bed\", \"crust\", \"already\", \"hate\", \"1\", \"see\", \"actually\", \"dick\", \"pay\", \"probably\", \"ur\", \"sick\", \"leave\", \"around\", \"studying\", \"cas\", \"attractive\", \"jesus\", \"pledge\", \"fall\", \"6\", \"weeks\", \"long\", \"realized\", \"semester\", \"picked\", \"everyday\", \"everyone\", \"much\", \"found\", \"sex\", \"girl\", \"butt\", \"life\", \"people\", \"geneseo\", \"think\", \"last\", \"want\", \"apo\", \"rush\", \"tight\", \"tonight\", \"geneseo\", \"alcohol\", \"god\", \"fuck\", \"south\", \"hard\", \"okay\", \"dad\", \"thinks\", \"great\", \"group\", \"hot\", \"hungover\", \"pretty\", \"wrong\", \"classic\", \"picked\", \"senior\", \"random\", \"dues\", \"calling\", \"well\", \"think\", \"lesbian\", \"honestly\", \"6\", \"much\", \"semester\", \"anyone\", \"butt\", \"college\", \"girl\", \"tell\", \"people\", \"want\", \"girls\", \"put\", \"help\", \"need\", \"girls\", \"accidentally\", \"plans\", \"kiss\", \"never\", \"fucking\", \"pass\", \"felt\", \"horny\", \"classic\", \"weight\", \"high\", \"rn\", \"ok\", \"way\", \"dream\", \"ate\", \"life\", \"one\", \"8\", \"senior\", \"problem\", \"house\", \"smoke\", \"thinks\", \"put\", \"cry\", \"wrong\", \"love\", \"shit\", \"want\", \"someone\", \"people\", \"sunday\", \"sleep\", \"watching\", \"spend\", \"horses\", \"netflix\", \"hope\", \"freedom\", \"fall\", \"congrats\", \"sometimes\", \"crave\", \"hockey\", \"sunday\", \"looking\", \"poop\", \"study\", \"self\", \"attractive\", \"horny\", \"ready\", \"wish\", \"boys\", \"pledges\", \"late\", \"without\", \"thank\", \"cry\", \"snuggle\", \"death\", \"im\", \"realized\", \"bad\", \"really\", \"day\", \"relationship\", \"nice\", \"love\", \"shit\", \"go\", \"home\", \"want\", \"people\", \"friends\", \"someone\", \"shower\", \"balls\", \"new\", \"saw\", \"best\", \"whole\", \"freedom\", \"bid\", \"snuggle\", \"buddy\", \"alive\", \"going\", \"hope\", \"conversation\", \"study\", \"look\", \"honestly\", \"stretch\", \"marks\", \"end\", \"really\", \"daga\", \"guys\", \"ate\", \"hours\", \"getting\", \"group\", \"lunch\", \"fake\", \"romantic\", \"jesus\", \"relationship\", \"night\", \"go\", \"fuck\", \"last\", \"lot\", \"girl\", \"someone\", \"party\", \"eat\", \"text\", \"found\", \"college\", \"better\", \"excited\", \"things\", \"house\", \"away\", \"marks\", \"stretch\", \"human\", \"death\", \"rn\", \"congrats\", \"mom\", \"creature\", \"valentine\", \"give\", \"hungover\", \"pretty\", \"random\", \"even\", \"calling\", \"everyone\", \"good\", \"die\", \"guy\", \"weird\", \"alone\", \"sex\", \"home\", \"shower\", \"think\", \"last\", \"girls\", \"know\", \"want\", \"night\", \"worst\", \"times\", \"feelings\", \"chipotle\", \"wear\", \"today\", \"first\", \"sad\", \"watch\", \"alive\", \"crave\", \"drunk\", \"cute\", \"creature\", \"nice\", \"8\", \"buddy\", \"talk\", \"sit\", \"new\", \"look\", \"right\", \"sometimes\", \"party\", \"sex\", \"butt\", \"hours\", \"petition\", \"already\", \"try\", \"girl\", \"want\", \"long\", \"need\", \"night\", \"life\", \"please\", \"fix\", \"back\", \"hot\", \"daga\", \"sit\", \"sports\", \"coming\", \"drama\", \"face\", \"two\", \"conversation\", \"poop\", \"feel\", \"classes\", \"everyone\", \"forever\", \"better\", \"lonely\", \"greek\", \"fun\", \"trying\", \"feeling\", \"fucked\", \"college\", \"sucks\", \"really\", \"always\", \"people\", \"know\", \"anyone\"], \"Total\": [4.0, 3.0, 3.0, 2.0, 2.0, 3.0, 1.0, 1.0, 1.0, 1.0, 1.0, 1.0, 1.0, 2.0, 2.0, 1.0, 3.0, 1.0, 1.0, 1.0, 2.0, 2.0, 1.0, 3.0, 1.0, 1.0, 3.0, 2.0, 4.0, 3.0, 1.8520103141965212, 1.4163284119396093, 1.1499613146546035, 1.1215709373114349, 1.0492601738237926, 1.0384371603395588, 1.3772898425759408, 2.8256700452345904, 1.6303050997796262, 2.2663446825191795, 2.0676930311487474, 1.389956962482662, 1.7975958070834699, 1.2635444138714256, 1.3962208935309701, 1.4972626552844008, 2.527451526191963, 1.9077597041549743, 1.4987594340343668, 1.1618062656178116, 1.318808340519673, 1.2089547558403628, 1.1565949064720484, 2.3577193390923874, 1.2469230746759445, 1.2018431992254892, 1.2187319379617327, 1.238529131887745, 1.1366197179419475, 1.4220226905528752, 3.9711010987920843, 3.364827929058306, 1.8221910494776583, 2.8761659393124885, 2.204991015402822, 5.116900663939997, 2.628934852247719, 1.7338993685928927, 2.3502963151746914, 3.571715507363538, 2.881883344652285, 2.5535183588350594, 3.5169553605554436, 1.4875956438830187, 1.3103390113278035, 3.505109093560486, 1.7016728887207033, 1.107252313316362, 2.0806493462441247, 1.4031599516843367, 1.0465867816445806, 1.046580751224389, 1.0201128604880445, 1.0201105375683885, 1.404152646625913, 2.6305032926907326, 1.6591807877976188, 1.3625764154058444, 1.632080857017204, 3.537053795265333, 1.1316732612544549, 1.9261970364894094, 1.1950935946291865, 1.7195263871417417, 1.365844058683412, 1.3533258657767702, 1.2945112310095193, 1.7256770441805296, 1.329837406062794, 1.4220226905528752, 1.0789109013798885, 1.1685622472252102, 1.1712350138827343, 1.972267735851785, 4.504614550979501, 1.7448174544501305, 3.571715507363538, 3.356979005081061, 2.628934852247719, 2.3577193390923874, 2.4158028195854544, 2.204991015402822, 1.7784114373066968, 1.6837729558557706, 1.942456092728028, 1.085935245125448, 1.6863726426983316, 1.017911438140959, 1.785771896279174, 1.8931523543206288, 1.3165874941628442, 1.3753543007521487, 1.8055129234902707, 1.7195263871417417, 1.4752176850539058, 1.1494197372712958, 1.2780465829406378, 1.6863834076354305, 1.2335688616888834, 1.2761696180002902, 1.152859506078222, 1.1152569841148212, 1.2975646324330807, 1.1540896417155349, 1.5438128863028044, 1.3974844448369619, 1.1750315309548867, 1.1750251446483329, 2.742343633597219, 1.072354210196356, 1.682277866959561, 1.253738678623854, 1.0244278620308722, 2.4320323484949715, 2.878145580341234, 1.550852808543724, 2.705214457861085, 3.429996567749667, 1.653359953998248, 3.5169553605554436, 3.3801652001949165, 2.2164528780359296, 3.356979005081061, 3.2320255771533555, 5.116900663939997, 1.3170583323087823, 1.3170310102780645, 1.2369183373265995, 1.122937839484537, 2.2164528780359296, 1.3509322198217848, 1.2308646452607124, 3.0790497464349964, 1.4225117027981276, 1.5119987572802844, 1.7619453967406578, 1.3625731219566617, 1.419111131291995, 1.4344694723718137, 1.2914811590119148, 1.7578319046292545, 1.3163790271011835, 1.3018552816178557, 1.2274692765250697, 1.5431115827539574, 1.253738678623854, 1.2973738792087144, 1.186130784596111, 1.0877514729977793, 1.1235252998266014, 1.0397239146312294, 3.356979005081061, 1.168865096361137, 1.1861375513694652, 1.1750315309548867, 2.878145580341234, 1.682277866959561, 2.6305032926907326, 1.653359953998248, 1.8615323228070089, 3.429996567749667, 1.5251319374027656, 3.3801652001949165, 5.116900663939997, 4.111333776450502, 1.7008474876137372, 1.318437547550307, 3.152557576892161, 4.111333776450502, 1.1298737981654814, 1.127806236442504, 1.0729854802336667, 1.6774769894654162, 1.4503277246083766, 1.3023659752950227, 1.2214560666688667, 1.4479579726434892, 1.5431115827539574, 1.123105909419719, 1.4434226337649314, 1.450628732725883, 1.1708456294962215, 1.2092587189866586, 1.209472085829815, 1.286827220801743, 3.5169553605554436, 2.5535183588350594, 1.206413347765059, 1.2973738792087144, 1.0713787832164405, 1.3101690336666627, 1.3533258657767702, 1.419111131291995, 1.7008474876137372, 1.0686727108413683, 1.2274692765250697, 3.364827929058306, 2.8761659393124885, 5.116900663939997, 2.881883344652285, 3.3801652001949165, 2.134285170573518, 2.204991015402822, 1.1409583924040665, 1.082627901619331, 1.052272321674567, 1.3168246481959054, 1.684087560885199, 1.8340034091901896, 1.3974844448369619, 1.3686197811021625, 1.5113273738460116, 1.3696186872326004, 1.3441862384774792, 2.134285170573518, 1.2351616956269633, 1.268476789981508, 1.2946254968796993, 1.1833966286836868, 1.2975646324330807, 1.4479579726434892, 1.365844058683412, 1.9090967753470007, 1.4972626552844008, 1.488021439017224, 1.6418538367703328, 1.6135791001996738, 0.9974448526677852, 1.0686727108413683, 1.1905114320160952, 1.1410985473625317, 0.9748222078483362, 1.072354210196356, 1.566242073183193, 1.9228391794558364, 3.571715507363538, 1.7784114373066968, 1.7085652572185008, 3.364827929058306, 2.8761659393124885, 3.9711010987920843, 2.3502963151746914, 5.116900663939997, 3.3801652001949165, 2.8256700452345904, 2.881883344652285, 1.9261970364894094, 1.4851668557712419, 1.5408407615675233, 1.3772294134692202, 1.3512676473542333, 1.4137845846024704, 1.8340034091901896, 1.2119009056468957, 1.1905114320160952, 1.2075656339464487, 1.4542344875835993, 1.7448174544501305, 1.684087560885199, 1.2631493413882033, 1.2946254968796993, 1.8892047866451371, 1.1861375513694652, 1.2752035899454155, 1.2752008999620075, 1.5633259973082512, 1.9228391794558364, 1.4074612002660345, 1.972267735851785, 1.286827220801743, 1.365388767256099, 1.7338993685928927, 1.2914811590119148, 1.234068478900607, 1.318808340519673, 1.029651482704305, 1.1540896417155349, 1.7784114373066968, 4.504614550979501, 3.9711010987920843, 3.0790497464349964, 3.2320255771533555, 1.9077597041549743, 3.429996567749667, 2.881883344652285, 2.0965026001843152, 1.0750449761665235, 0.9748702846989132, 1.550852808543724, 1.8615323228070089, 1.2415594147889149, 1.1238144885396006, 2.008657959488633, 1.3101690336666627, 1.0833061390390049, 1.2752008999620075, 1.2752035899454155, 1.137740691648586, 1.1410985473625317, 1.450628732725883, 1.3686197811021625, 2.2663446825191795, 1.2485235079765034, 1.8479090428187814, 1.1366223380952076, 1.3163790271011835, 1.3018552816178557, 1.186130784596111, 2.4158028195854544, 1.1235252998266014, 2.4320323484949715, 1.7256770441805296, 1.3962208935309701, 2.527451526191963, 1.8691111545141845, 2.507931165475452, 2.705214457861085, 2.3502963151746914, 1.9261970364894094, 3.356979005081061, 3.2320255771533555, 4.111333776450502, 3.505109093560486, 5.116900663939997, 4.504614550979501, 1.4089849084782615, 1.2911363203156592, 1.1027707281052521, 1.088576716645958, 1.2786198925849377, 1.7464084037032557, 1.8534367783732604, 1.2259729674980226, 1.4940238384360585, 1.4542344875835993, 1.3696186872326004, 2.0360973959821607, 1.2314819056910902, 1.2485235079765034, 1.7085652572185008, 1.206413347765059, 1.2075656339464487, 1.76130068267057, 1.1922069960692374, 1.5408407615675233, 1.8892047866451371, 1.9106550688046717, 1.5113273738460116, 2.0965026001843152, 2.705214457861085, 1.653359953998248, 1.365388767256099, 1.3772898425759408, 1.785771896279174, 1.5235777334052933, 3.429996567749667, 5.116900663939997, 2.742343633597219, 3.152557576892161, 4.504614550979501, 3.5169553605554436, 1.2728768164019195, 1.2154415341774785, 1.3092066524217008, 1.7578319046292545, 1.4074612002660345, 1.1922069960692374, 1.112291833484103, 1.5020015133402276, 1.129990244061107, 1.329837406062794, 1.1419089179104747, 1.2631493413882033, 1.268476789981508, 2.1175926543356294, 1.2425315239222368, 2.4320323484949715, 1.238529131887745, 1.2415594147889149, 1.1192807642667104, 1.3148891444459228, 1.366604324911604, 1.5885681598712842, 1.5000067799776065, 1.942456092728028, 1.8615323228070089, 1.6591807877976188, 1.9228391794558364, 1.7784408245793617, 3.3801652001949165, 3.505109093560486, 2.6305032926907326], \"loglift\": [30.0, 29.0, 28.0, 27.0, 26.0, 25.0, 24.0, 23.0, 22.0, 21.0, 20.0, 19.0, 18.0, 17.0, 16.0, 15.0, 14.0, 13.0, 12.0, 11.0, 10.0, 9.0, 8.0, 7.0, 6.0, 5.0, 4.0, 3.0, 2.0, 1.0, 1.6556, 1.5177, 1.3603, 1.337, 1.2692, 1.2578, 1.212, 1.1658, 1.1483, 1.1289, 1.1109, 1.1047, 1.0929, 1.0804, 1.0736, 1.0467, 1.0455, 1.0192, 1.0111, 1.0105, 0.9891, 0.9888, 0.9637, 0.9598, 0.958, 0.9562, 0.9546, 0.9465, 0.9332, 0.9138, 0.8074, 0.6728, 0.8387, 0.6986, 0.7718, 0.4394, 0.5531, 0.7786, 0.5403, 0.2128, 0.3173, 0.4187, 0.0895, 1.6261, 1.5431, 1.497, 1.4577, 1.4003, 1.3929, 1.3573, 1.3411, 1.341, 1.3118, 1.3118, 1.2019, 1.1557, 1.0965, 1.0938, 1.0896, 1.064, 1.0582, 1.053, 1.0385, 1.0352, 1.0243, 1.0221, 1.0204, 0.9689, 0.9613, 0.9589, 0.9401, 0.9342, 0.9322, 0.8594, 0.6299, 0.8161, 0.5552, 0.5767, 0.6427, 0.6143, 0.5533, 0.6224, 0.7701, 1.7493, 1.6026, 1.4379, 1.3929, 1.3666, 1.2699, 1.2503, 1.21, 1.1921, 1.1623, 1.1426, 1.1153, 1.1101, 1.1075, 1.0711, 1.0395, 1.0354, 1.0255, 1.0046, 0.9985, 0.9735, 0.9724, 0.951, 0.9502, 0.9502, 0.9456, 0.9156, 0.8951, 0.8876, 0.8761, 0.8683, 0.8039, 0.8204, 0.5788, 0.4221, 0.7732, 0.3321, 0.3307, 0.5572, 0.1201, 0.1331, -0.3049, 1.6946, 1.6945, 1.6468, 1.5622, 1.4473, 1.404, 1.3423, 1.3383, 1.3127, 1.2987, 1.293, 1.2857, 1.2374, 1.1841, 1.1736, 1.1685, 1.1494, 1.1422, 1.1363, 1.1161, 1.1152, 1.049, 1.0461, 1.0277, 1.0126, 1.0062, 0.9843, 0.9731, 0.9706, 0.9688, 0.9631, 0.9586, 0.9326, 0.953, 0.8878, 0.688, 0.9258, 0.5359, 0.1754, 0.2444, 0.8217, 1.7064, 1.682, 1.5918, 1.5793, 1.5775, 1.5278, 1.5185, 1.4178, 1.3402, 1.2772, 1.2341, 1.2176, 1.2025, 1.1998, 1.1948, 1.1932, 1.181, 1.1736, 1.1634, 1.1628, 1.1469, 1.137, 1.1035, 1.0718, 1.0577, 1.0253, 1.0009, 0.9948, 0.9521, 0.9359, 0.8499, 0.8197, 0.3637, 0.5978, 0.3804, 0.7052, 0.6742, 1.6915, 1.6395, 1.6088, 1.4942, 1.4097, 1.3244, 1.2921, 1.252, 1.2444, 1.2393, 1.2286, 1.215, 1.2124, 1.2085, 1.188, 1.1701, 1.1631, 1.1433, 1.1344, 1.1292, 1.1208, 1.0911, 1.0839, 1.0416, 1.0389, 1.0344, 0.98, 0.9796, 0.9736, 0.9665, 0.9564, 0.9485, 0.9104, 0.9009, 0.9011, 0.7101, 0.7158, 0.4954, 0.746, 0.1531, 0.368, 0.501, 0.456, 0.8191, 1.9729, 1.6301, 1.53, 1.5103, 1.4883, 1.4559, 1.3584, 1.3422, 1.328, 1.3014, 1.3013, 1.2958, 1.288, 1.2634, 1.2581, 1.2535, 1.2291, 1.229, 1.2048, 1.1786, 1.1748, 1.1723, 1.1721, 1.1637, 1.1607, 1.1506, 1.1405, 1.1296, 1.1293, 1.1159, 1.0791, 0.957, 0.923, 0.9378, 0.9065, 1.0327, 0.6313, 0.5987, 1.8251, 1.7132, 1.5976, 1.5622, 1.3795, 1.3654, 1.3647, 1.3036, 1.2991, 1.2902, 1.2837, 1.2836, 1.2817, 1.2788, 1.2722, 1.2555, 1.2514, 1.2492, 1.2129, 1.2115, 1.1963, 1.1903, 1.1688, 1.1389, 1.1214, 1.1123, 1.0842, 1.077, 1.0716, 1.0697, 0.9994, 0.8636, 0.7775, 0.8525, 0.4283, 0.4455, 0.21, 0.2674, -0.1189, 0.0037, 2.0552, 1.9941, 1.8561, 1.8428, 1.7401, 1.547, 1.5338, 1.4967, 1.4835, 1.4759, 1.3859, 1.3781, 1.3577, 1.3439, 1.2505, 1.2166, 1.2157, 1.1977, 1.1389, 1.1008, 1.0756, 1.0704, 1.0686, 1.0459, 1.0227, 0.9879, 0.9321, 0.908, 0.9039, 0.8557, 0.607, 0.4632, 0.6518, 0.5927, 0.355, 0.2448, 2.173, 2.1359, 1.7898, 1.7669, 1.7439, 1.6706, 1.5786, 1.5739, 1.5628, 1.5613, 1.5535, 1.5208, 1.5166, 1.5071, 1.4691, 1.461, 1.3963, 1.3953, 1.3946, 1.3379, 1.2258, 1.1608, 0.9785, 0.949, 0.9168, 0.8777, 0.8583, 0.8083, 0.5897, 0.5631, 0.4724], \"logprob\": [30.0, 29.0, 28.0, 27.0, 26.0, 25.0, 24.0, 23.0, 22.0, 21.0, 20.0, 19.0, 18.0, 17.0, 16.0, 15.0, 14.0, 13.0, 12.0, 11.0, 10.0, 9.0, 8.0, 7.0, 6.0, 5.0, 4.0, 3.0, 2.0, 1.0, -3.7832999229431152, -4.1894001960754395, -4.555200099945068, -4.603499889373779, -4.7378997802734375, -4.759699821472168, -4.523099899291992, -3.8506999015808105, -4.418099880218506, -4.108099937438965, -4.217899799346924, -4.621200084686279, -4.375899791717529, -4.740900039672852, -4.647799968719482, -4.604899883270264, -4.082499980926514, -4.389999866485596, -4.639500141143799, -4.894800186157227, -4.789400100708008, -4.8765997886657715, -4.946000099182129, -4.237800121307373, -4.8765997886657715, -4.915200233459473, -4.9028000831604, -4.894700050354004, -4.99399995803833, -4.789400100708008, -3.868799924850464, -4.169000148773193, -4.616499900817871, -4.30019998550415, -4.492599964141846, -3.9832000732421875, -4.535600185394287, -4.726200103759766, -4.660399913787842, -4.569399833679199, -4.6793999671936035, -4.698999881744385, -4.708099842071533, -4.0320000648498535, -4.241799831390381, -3.303999900817871, -4.065899848937988, -4.553100109100342, -3.9296998977661133, -4.3592000007629395, -4.668600082397461, -4.668700218200684, -4.723499774932861, -4.723499774932861, -4.513800144195557, -3.9323999881744385, -4.452400207519531, -4.6519999504089355, -4.475800037384033, -3.7279000282287598, -4.873300075531006, -4.34660005569458, -4.838500022888184, -4.478000164031982, -4.719200134277344, -4.730500221252441, -4.776700019836426, -4.5406999588012695, -4.808800220489502, -4.74429988861084, -5.0391998291015625, -4.965199947357178, -4.964900016784668, -4.516600131988525, -3.9202001094818115, -4.682400226593018, -4.2270002365112305, -4.267399787902832, -4.445899963378906, -4.583199977874756, -4.619800090789795, -4.642099857330322, -4.709400177001953, -3.7848000526428223, -3.788599967956543, -4.534800052642822, -4.139800071716309, -4.67080020904541, -4.20550012588501, -4.166600227355957, -4.570199966430664, -4.544400215148926, -4.30210018157959, -4.370500087738037, -4.55109977722168, -4.805799961090088, -4.702300071716309, -4.461599826812744, -4.805799961090088, -4.775899887084961, -4.887400150299072, -4.941500186920166, -4.796199798583984, -4.938399791717529, -4.648499965667725, -4.769499778747559, -4.94379997253418, -4.94379997253418, -4.100800037384033, -5.069799900054932, -4.639999866485596, -4.941500186920166, -5.15500020980835, -4.2982001304626465, -4.194200038909912, -4.796000003814697, -4.481299877166748, -4.400599956512451, -4.779200077056885, -4.4654998779296875, -4.5065999031066895, -4.702099800109863, -4.724100112915039, -4.749000072479248, -4.72760009765625, -4.08519983291626, -4.085299968719482, -4.195700168609619, -4.376999855041504, -3.812000036239624, -4.350500106811523, -4.505199909210205, -3.5922999382019043, -4.390100002288818, -4.3429999351501465, -4.195799827575684, -4.46019983291626, -4.467800140380859, -4.510300159454346, -4.625899791717529, -4.322700023651123, -4.630899906158447, -4.6493000984191895, -4.713900089263916, -4.505300045013428, -4.713900089263916, -4.745800018310547, -4.838399887084961, -4.943399906158447, -4.926199913024902, -5.0100998878479, -3.8598999977111816, -4.92609977722168, -4.913899898529053, -4.92519998550415, -4.034900188446045, -4.576399803161621, -4.155399799346924, -4.599400043487549, -4.546000003814697, -4.134699821472168, -4.707300186157227, -4.301400184631348, -4.247300148010254, -4.396999835968018, -4.702400207519531, -4.072400093078613, -3.2249999046325684, -3.0497000217437744, -4.353799819946289, -4.357399940490723, -4.456999778747559, -4.019400119781494, -4.265600204467773, -4.450900077819824, -4.578000068664551, -4.450900077819824, -4.403800010681152, -4.736599922180176, -4.488399982452393, -4.488399982452393, -4.7042999267578125, -4.684199810028076, -4.691400051116943, -4.639699935913086, -3.6349000930786133, -3.9707999229431152, -4.730599880218506, -4.691400051116943, -4.914400100708008, -4.72730016708374, -4.72730016708374, -4.7042999267578125, -4.529300212860107, -5.0366997718811035, -4.914400100708008, -3.9918999671936035, -4.178999900817871, -4.058899879455566, -4.39900016784668, -4.4567999839782715, -4.591899871826172, -4.5903000831604, -4.231800079345703, -4.336299896240234, -4.395400047302246, -4.285799980163574, -4.124300003051758, -4.124300003051758, -4.428500175476074, -4.4893999099731445, -4.397900104522705, -4.501399993896484, -4.530799865722656, -4.082099914550781, -4.6315999031066895, -4.60890007019043, -4.609000205993652, -4.716700077056885, -4.631700038909912, -4.541800022125244, -4.609000205993652, -4.279399871826172, -4.530799865722656, -4.5665998458862305, -4.475500106811523, -4.535099983215332, -5.018899917602539, -4.954400062561035, -4.900899887084961, -4.943600177764893, -5.107100009918213, -5.018799781799316, -4.650100231170654, -4.453000068664551, -3.8717000484466553, -4.57859992980957, -4.618500232696533, -4.131700038909912, -4.282899856567383, -4.180699825286865, -4.454699993133545, -4.269599914550781, -4.469299793243408, -4.515500068664551, -4.540800094604492, -4.580599784851074, -3.686800003051758, -3.992799997329712, -4.205100059509277, -4.243899822235107, -4.220600128173828, -3.992799997329712, -4.5046000480651855, -4.538599967956543, -4.538599967956543, -4.379300117492676, -4.197199821472168, -4.2382001876831055, -4.533599853515625, -4.533599853515625, -4.160900115966797, -4.63100004196167, -4.583000183105469, -4.583099842071533, -4.403600215911865, -4.222899913787842, -4.538599967956543, -4.203800201416016, -4.630899906158447, -4.579999923706055, -4.344099998474121, -4.648799896240234, -4.704400062561035, -4.648900032043457, -4.896699905395508, -4.796000003814697, -4.400400161743164, -3.593100070953369, -3.753200054168701, -3.992799997329712, -3.975600004196167, -4.3765997886657715, -4.191299915313721, -4.3979997634887695, -3.4899001121520996, -4.269599914550781, -4.482999801635742, -4.054200172424316, -4.054299831390381, -4.473499774932861, -4.573800086975098, -4.054200172424316, -4.485899925231934, -4.684999942779541, -4.52839994430542, -4.528500080108643, -4.644400119781494, -4.644499778747559, -4.410999774932861, -4.485899925231934, -3.985599994659424, -4.584000110626221, -4.228300094604492, -4.715700149536133, -4.584000110626221, -4.601099967956543, -4.715700149536133, -4.034299850463867, -4.817399978637695, -4.054200172424316, -4.4253997802734375, -4.644400119781494, -4.056399822235107, -4.360099792480469, -4.13640022277832, -4.196400165557861, -4.4232001304626465, -4.5472002029418945, -4.415900230407715, -4.436600208282471, -4.43149995803833, -4.533599853515625, -4.541500091552734, -4.54640007019043, -3.6572000980377197, -3.8055999279022217, -4.101200103759766, -4.127500057220459, -4.069399833679199, -3.9505999088287354, -3.904400110244751, -4.354800224304199, -4.170199871063232, -4.204800128936768, -4.354800224304199, -3.966099977493286, -4.489299774169922, -4.489299774169922, -4.269000053405762, -4.650899887084961, -4.650899887084961, -4.291399955749512, -4.740499973297119, -4.52209997177124, -4.343500137329102, -4.337399959564209, -4.573599815368652, -4.269100189208984, -4.037300109863281, -4.564499855041504, -4.811600208282471, -4.827099800109863, -4.571499824523926, -4.778500080108643, -4.21560001373291, -3.9595000743865967, -4.394599914550781, -4.314300060272217, -4.195099830627441, -4.552800178527832, -3.640899896621704, -3.7242000102996826, -3.996000051498413, -3.7242000102996826, -3.9695000648498535, -4.208799839019775, -4.370100021362305, -4.07450008392334, -4.370200157165527, -4.208799839019775, -4.36899995803833, -4.30079984664917, -4.30079984664917, -3.797800064086914, -4.368899822235107, -3.7054998874664307, -4.445000171661377, -4.44350004196167, -4.547900199890137, -4.44350004196167, -4.517099857330322, -4.431600093841553, -4.671199798583984, -4.442200183868408, -4.517000198364258, -4.671199798583984, -4.543099880218506, -4.67110013961792, -4.247600078582764, -4.2378997802734375, -4.615600109100342]}, \"token.table\": {\"Topic\": [3, 5, 3, 4, 2, 8, 3, 2, 4, 4, 10, 7, 3, 1, 7, 2, 1, 9, 4, 5, 8, 4, 10, 1, 2, 6, 2, 3, 1, 9, 1, 8, 2, 8, 3, 8, 10, 1, 2, 10, 9, 9, 10, 3, 8, 6, 7, 1, 4, 7, 3, 5, 4, 1, 3, 4, 7, 4, 5, 1, 6, 7, 4, 7, 2, 4, 1, 8, 2, 7, 4, 3, 5, 5, 2, 1, 6, 7, 5, 4, 10, 5, 2, 7, 1, 3, 5, 1, 3, 7, 1, 1, 5, 6, 1, 2, 1, 8, 3, 4, 5, 6, 5, 7, 2, 2, 7, 4, 1, 5, 8, 5, 3, 3, 4, 5, 1, 2, 1, 1, 5, 10, 7, 5, 4, 7, 1, 3, 3, 8, 9, 1, 5, 6, 2, 1, 2, 3, 1, 2, 1, 5, 4, 6, 1, 2, 1, 2, 6, 1, 1, 3, 8, 2, 4, 4, 4, 1, 2, 9, 9, 4, 8, 2, 1, 4, 5, 6, 9, 9, 6, 9, 2, 7, 6, 9], \"Freq\": [0.7595393427581149, 0.8850545977999039, 0.5538592313517653, 0.7402295876338786, 0.7121732828712993, 0.3987350266092413, 0.5599819339096977, 0.38015538805013377, 0.38015538805013377, 0.7592678133298895, 0.7638213555898553, 0.6733250180705814, 0.5929887467813281, 0.7914244952704582, 0.7400458391481426, 0.48061918833423123, 0.6678854885417902, 0.9186307080690886, 0.6480412765843685, 0.6480412765843685, 0.5371918541237564, 0.7339055672579209, 0.710499159629397, 0.27997750602991056, 0.27997750602991056, 0.27997750602991056, 0.5815554838110021, 0.5815554838110021, 0.7162190485998615, 0.4911356411404013, 0.9530524696803512, 0.9301936404241201, 0.4139410683242755, 0.4139410683242755, 0.41117874135960225, 0.41117874135960225, 0.41117874135960225, 0.8916065553527468, 0.7126771247993586, 0.4722343543988816, 0.9068068044553289, 0.5395382306364332, 0.8227462793401465, 0.5939043007682435, 0.6448065183819838, 0.5452552568817489, 0.5452552568817489, 0.35389836180146744, 0.3247755256821771, 0.3247755256821771, 0.514812151349881, 0.6894993338626442, 0.45117133321874736, 0.576734739116681, 0.2915454812411298, 0.2915454812411298, 0.2915454812411298, 0.2432300694553057, 0.4864601389106114, 0.2518193254521212, 0.2518193254521212, 0.2518193254521212, 0.812437016409865, 0.5731258576360038, 0.5794827041202654, 0.6971218413916868, 0.3956554614943182, 0.3956554614943182, 0.5070305526080712, 0.5070305526080712, 0.6613762049637892, 0.5282195052700115, 0.7584735445816355, 0.692797782581297, 0.7339037933532332, 0.4254782656737785, 0.5937933532828749, 0.5937933532828749, 0.6906277798756361, 0.5688826089494096, 0.5688826089494096, 0.9319790606879671, 0.570595649554634, 0.3094034920604687, 0.28433684749472254, 0.28433684749472254, 0.28433684749472254, 0.6133821210123022, 0.3646516022823399, 0.5293232406931421, 0.5241750299170626, 0.2971920172690269, 0.2971920172690269, 0.2971920172690269, 0.42413869344811567, 0.42413869344811567, 0.4412391494167778, 0.4412391494167778, 0.3474459411748865, 0.3474459411748865, 0.6344055425536844, 0.7594025532329107, 0.596133363545382, 0.6489963304077464, 0.6127147412460943, 0.2219945766020216, 0.2219945766020216, 0.5675544780501451, 0.3916165304001221, 0.3916165304001221, 0.47698486036319937, 0.7678333271670981, 0.6778660601289219, 0.2958435285773415, 0.2958435285773415, 0.2958435285773415, 0.869594470054286, 0.7631612821987738, 0.6672184856966644, 0.7260635845028112, 0.8866771327265845, 0.7856219762307645, 0.520064293823574, 0.6893562614886963, 0.759283564468896, 0.7260954422117772, 0.5487898759499756, 0.7270853768029981, 0.3696564599875249, 0.3696564599875249, 0.3696564599875249, 0.34768508531849085, 0.34768508531849085, 0.34768508531849085, 0.9031365190873906, 0.7194467361161002, 0.5191576879500085, 0.5929849614697966, 0.45351658714913795, 0.45351658714913795, 0.346995308417196, 0.346995308417196, 0.7029819143371312, 0.9236783926446557, 0.4836307831653475, 0.28272117357632237, 0.556298582840189, 0.6027070752955082, 0.4685409493480589, 0.706050935341004, 0.5399537963339267, 0.9208652214658336, 0.497844839772811, 0.29788687938959957, 0.29788687938959957, 0.7046664478556901, 0.8084608092732617, 0.38038219134453166, 0.38038219134453166, 0.774511555646981, 0.5726037494319782, 0.8905212424394129, 0.5411521762319049, 0.6722256845211882, 0.1954308019006965, 0.1954308019006965, 0.1954308019006965, 0.1954308019006965, 0.1954308019006965, 0.669333362877796, 0.8764561500730461, 0.7820932599275753, 0.587657008951813, 0.7073213351531776, 0.5238079142521407, 0.7097308097359429], \"Term\": [\"1\", \"accidentally\", \"actually\", \"alcohol\", \"alcoholic\", \"alone\", \"already\", \"anyone\", \"anyone\", \"apo\", \"back\", \"balls\", \"bed\", \"beer\", \"best\", \"bids\", \"boys\", \"chipotle\", \"classic\", \"classic\", \"college\", \"dad\", \"daga\", \"day\", \"day\", \"day\", \"dick\", \"dick\", \"die\", \"drunk\", \"dunno\", \"eat\", \"even\", \"even\", \"everyone\", \"everyone\", \"everyone\", \"family\", \"favorite\", \"feel\", \"feelings\", \"first\", \"fix\", \"food\", \"found\", \"freedom\", \"freedom\", \"friends\", \"fuck\", \"fuck\", \"fucked\", \"fucking\", \"geneseo\", \"getting\", \"girl\", \"girl\", \"girl\", \"girls\", \"girls\", \"go\", \"go\", \"go\", \"god\", \"going\", \"good\", \"great\", \"guy\", \"guy\", \"guys\", \"guys\", \"hard\", \"hate\", \"help\", \"high\", \"holy\", \"home\", \"hope\", \"hope\", \"horny\", \"hot\", \"hot\", \"kiss\", \"know\", \"last\", \"life\", \"life\", \"life\", \"little\", \"long\", \"look\", \"lot\", \"love\", \"love\", \"love\", \"make\", \"make\", \"mom\", \"mom\", \"much\", \"much\", \"need\", \"netflix\", \"never\", \"new\", \"next\", \"night\", \"night\", \"okay\", \"one\", \"one\", \"party\", \"pass\", \"pay\", \"people\", \"people\", \"people\", \"perfect\", \"period\", \"person\", \"petition\", \"plans\", \"please\", \"really\", \"rn\", \"rush\", \"saw\", \"school\", \"see\", \"sex\", \"sex\", \"sex\", \"shit\", \"shit\", \"shit\", \"shits\", \"show\", \"shower\", \"sick\", \"sleep\", \"sleep\", \"someone\", \"someone\", \"south\", \"spend\", \"statesmen\", \"still\", \"stop\", \"sucks\", \"sunday\", \"supposed\", \"taste\", \"ten\", \"things\", \"think\", \"think\", \"thinks\", \"tight\", \"time\", \"time\", \"times\", \"today\", \"tonight\", \"valentine\", \"waiting\", \"want\", \"want\", \"want\", \"want\", \"want\", \"watch\", \"watching\", \"wear\", \"week\", \"whole\", \"wish\", \"worst\"]}, \"R\": 30, \"lambda.step\": 0.01, \"plot.opts\": {\"xlab\": \"PC1\", \"ylab\": \"PC2\"}, \"topic.order\": [8, 4, 10, 1, 2, 9, 6, 7, 5, 3]};\n",
       "\n",
       "function LDAvis_load_lib(url, callback){\n",
       "  var s = document.createElement('script');\n",
       "  s.src = url;\n",
       "  s.async = true;\n",
       "  s.onreadystatechange = s.onload = callback;\n",
       "  s.onerror = function(){console.warn(\"failed to load library \" + url);};\n",
       "  document.getElementsByTagName(\"head\")[0].appendChild(s);\n",
       "}\n",
       "\n",
       "if(typeof(LDAvis) !== \"undefined\"){\n",
       "   // already loaded: just create the visualization\n",
       "   !function(LDAvis){\n",
       "       new LDAvis(\"#\" + \"ldavis_el852161122526959208155897203\", ldavis_el852161122526959208155897203_data);\n",
       "   }(LDAvis);\n",
       "}else if(typeof define === \"function\" && define.amd){\n",
       "   // require.js is available: use it to load d3/LDAvis\n",
       "   require.config({paths: {d3: \"https://cdnjs.cloudflare.com/ajax/libs/d3/3.5.5/d3.min\"}});\n",
       "   require([\"d3\"], function(d3){\n",
       "      window.d3 = d3;\n",
       "      LDAvis_load_lib(\"https://cdn.rawgit.com/bmabey/pyLDAvis/files/ldavis.v1.0.0.js\", function(){\n",
       "        new LDAvis(\"#\" + \"ldavis_el852161122526959208155897203\", ldavis_el852161122526959208155897203_data);\n",
       "      });\n",
       "    });\n",
       "}else{\n",
       "    // require.js not available: dynamically load d3 & LDAvis\n",
       "    LDAvis_load_lib(\"https://cdnjs.cloudflare.com/ajax/libs/d3/3.5.5/d3.min.js\", function(){\n",
       "         LDAvis_load_lib(\"https://cdn.rawgit.com/bmabey/pyLDAvis/files/ldavis.v1.0.0.js\", function(){\n",
       "                 new LDAvis(\"#\" + \"ldavis_el852161122526959208155897203\", ldavis_el852161122526959208155897203_data);\n",
       "            })\n",
       "         });\n",
       "}\n",
       "</script>"
      ],
      "text/plain": [
       "<IPython.core.display.HTML object>"
      ]
     },
     "execution_count": 32,
     "metadata": {},
     "output_type": "execute_result"
    }
   ],
   "source": [
    "from gensim.models import TfidfModel\n",
    "\n",
    "# Setup gensim dictionary\n",
    "dictionary = corpora.Dictionary(texts)\n",
    "corpus = [dictionary.doc2bow(text) for text in texts]\n",
    "#corpora.MmCorpus.serialize('reddit.mm', corpus)\n",
    "#print(corpus)\n",
    "\n",
    "#tfidf = TfidfModel(corpus)\n",
    "tfidf = TfidfModel(corpus, normalize=True)\n",
    "corpus_tfidf = tfidf[corpus]\n",
    "#print(corpus_tfidf)\n",
    "\n",
    "lda = gensim.models.LdaModel(corpus_tfidf, id2word=dictionary, alpha='auto', num_topics=10, random_state=12345)\n",
    "for topic in lda.show_topics():\n",
    "    #print(topic)\n",
    "    print(get_terms_only(topic[1]))\n",
    "    \n",
    "topic_vis = pyLDAvis.gensim.prepare(lda, corpus_tfidf, dictionary)\n",
    "pyLDAvis.display(topic_vis)"
   ]
  },
  {
   "cell_type": "markdown",
   "metadata": {},
   "source": [
    "# Classifying Bullying Trace"
   ]
  },
  {
   "cell_type": "markdown",
   "metadata": {},
   "source": [
    "Classifier: http://research.cs.wisc.edu/bullying/data.html\n",
    "\n",
    "```Learning from bullying traces in social media\n",
    "Jun-Ming Xu, Kwang-Sung Jun, Xiaojin Zhu, and Amy Bellmore\n",
    "In North American Chapter of the Association for Computational Linguistics - Human Language Technologies (NAACL HLT)\n",
    "Montreal, Canada, 2012```"
   ]
  },
  {
   "cell_type": "code",
   "execution_count": 15,
   "metadata": {
    "collapsed": true
   },
   "outputs": [],
   "source": [
    "def build_path(relative_path):\n",
    "    path = os.getcwd() + '/' + relative_path\n",
    "    return os.path.abspath(path)"
   ]
  },
  {
   "cell_type": "markdown",
   "metadata": {},
   "source": [
    "Build the JAR files necessary to run the classifier"
   ]
  },
  {
   "cell_type": "code",
   "execution_count": 16,
   "metadata": {
    "collapsed": true
   },
   "outputs": [],
   "source": [
    "def build_jars():\n",
    "    make_path = build_path('./cyberbullying_classifier/bullyingtraceV2/Makefile')\n",
    "    cwd = build_path('./cyberbullying_classifier/bullyingtraceV2/')\n",
    "    p = subprocess.Popen(['sh', make_path], cwd=cwd)\n",
    "    p.wait()\n",
    "    \n",
    "build_jars()"
   ]
  },
  {
   "cell_type": "markdown",
   "metadata": {},
   "source": [
    "Write all the comments to file"
   ]
  },
  {
   "cell_type": "code",
   "execution_count": 17,
   "metadata": {
    "collapsed": true
   },
   "outputs": [],
   "source": [
    "COMMENTS_PATH = build_path('./data/only_comments.txt')\n",
    "\n",
    "def write_comments_to_textfile(df, filename):\n",
    "    comments = []\n",
    "    \n",
    "    # Read all comments from dataframe\n",
    "    for index, row in df.iterrows():\n",
    "        comments.append(row['post_contents'])\n",
    "        \n",
    "    # Write to file\n",
    "    with open(filename, 'w') as f:\n",
    "        for item in comments:\n",
    "            f.write(\"%s\\n\" % item)\n",
    "\n",
    "write_comments_to_textfile(df, COMMENTS_PATH)"
   ]
  },
  {
   "cell_type": "code",
   "execution_count": 18,
   "metadata": {},
   "outputs": [
    {
     "name": "stdout",
     "output_type": "stream",
     "text": [
      "Finished running classifier = trace\n",
      "Finished running classifier = teasing\n",
      "Finished running classifier = type\n",
      "Finished running classifier = form\n"
     ]
    }
   ],
   "source": [
    "def write_contents_to_file(contents, file_path):\n",
    "    with open(file_path, 'w') as f:\n",
    "        f.write(contents)\n",
    "    \n",
    "def run_classifier(clf_type, comments_path, save_location):\n",
    "    #cat test_filtered.txt | java -jar Classification.jar trace > bullying_trace.txt\n",
    "    jar_path = build_path('./cyberbullying_classifier/bullyingtraceV2/Classification.jar')\n",
    "    p1 = subprocess.Popen([\"cat\", comments_path], stdout=subprocess.PIPE)\n",
    "    p2 = subprocess.Popen([\"java\", \"-jar\", jar_path, clf_type], stdin=p1.stdout, stdout=subprocess.PIPE)\n",
    "    p1.stdout.close()\n",
    "    out, err = p2.communicate()\n",
    "    write_contents_to_file(out.decode(\"utf-8\") , build_path(save_location + '/bullying_' + clf_type + '_results.txt'))\n",
    "    if err:\n",
    "        print(err)\n",
    "    print('Finished running classifier =', clf_type)\n",
    "\n",
    "# Trace of bullying\n",
    "run_classifier('trace', COMMENTS_PATH, './data/')\n",
    "\n",
    "# Teasing\n",
    "run_classifier('teasing', COMMENTS_PATH, './data/')\n",
    "\n",
    "# Type\n",
    "run_classifier('type', COMMENTS_PATH, './data/')\n",
    "\n",
    "# Form of bullying\n",
    "run_classifier('form', COMMENTS_PATH, './data/')"
   ]
  },
  {
   "cell_type": "code",
   "execution_count": 33,
   "metadata": {
    "collapsed": true
   },
   "outputs": [],
   "source": [
    "def get_file_contents(fp):\n",
    "    with open(fp, 'r') as file:\n",
    "        data = file.read()\n",
    "    return data"
   ]
  },
  {
   "cell_type": "code",
   "execution_count": 44,
   "metadata": {},
   "outputs": [
    {
     "data": {
      "text/plain": [
       "(583, 6052)"
      ]
     },
     "execution_count": 44,
     "metadata": {},
     "output_type": "execute_result"
    }
   ],
   "source": [
    "teasing = get_file_contents('./data/bullying_teasing_results.txt').strip()\n",
    "teasing_yes = np.sum([1 for t in teasing.split('\\n') if t.lower() == 'yes'])\n",
    "teasing_no = np.sum([1 for t in teasing.split('\\n') if t.lower() != 'yes'])\n",
    "teasing_yes, teasing_no"
   ]
  },
  {
   "cell_type": "code",
   "execution_count": 58,
   "metadata": {},
   "outputs": [
    {
     "data": {
      "text/plain": [
       "0.08786737000753579"
      ]
     },
     "execution_count": 58,
     "metadata": {},
     "output_type": "execute_result"
    }
   ],
   "source": [
    "583/(6052+583)"
   ]
  },
  {
   "cell_type": "code",
   "execution_count": 45,
   "metadata": {},
   "outputs": [
    {
     "data": {
      "text/plain": [
       "(3081, 3554)"
      ]
     },
     "execution_count": 45,
     "metadata": {},
     "output_type": "execute_result"
    }
   ],
   "source": [
    "trace = get_file_contents('./data/bullying_trace_results.txt').strip()\n",
    "trace_yes = np.sum([1 for t in trace.split('\\n') if t.lower() == 'yes'])\n",
    "trace_no = np.sum([1 for t in trace.split('\\n') if t.lower() != 'yes'])\n",
    "trace_yes, trace_no"
   ]
  },
  {
   "cell_type": "code",
   "execution_count": 59,
   "metadata": {},
   "outputs": [
    {
     "data": {
      "text/plain": [
       "0.4643556895252449"
      ]
     },
     "execution_count": 59,
     "metadata": {},
     "output_type": "execute_result"
    }
   ],
   "source": [
    "3081/(3081+3554)"
   ]
  },
  {
   "cell_type": "code",
   "execution_count": 43,
   "metadata": {},
   "outputs": [
    {
     "data": {
      "text/plain": [
       "(1259, 5376)"
      ]
     },
     "execution_count": 43,
     "metadata": {},
     "output_type": "execute_result"
    }
   ],
   "source": [
    "bullying_from = get_file_contents('./data/bullying_form_results.txt').strip()\n",
    "bullying_from_yes = np.sum([1 for t in bullying_from.split('\\n') if t.lower() != 'general'])\n",
    "bullying_from_no = np.sum([1 for t in bullying_from.split('\\n') if t.lower() == 'general'])\n",
    "bullying_from_yes, bullying_from_no"
   ]
  },
  {
   "cell_type": "code",
   "execution_count": 60,
   "metadata": {},
   "outputs": [
    {
     "data": {
      "text/plain": [
       "0.18975131876412962"
      ]
     },
     "execution_count": 60,
     "metadata": {},
     "output_type": "execute_result"
    }
   ],
   "source": [
    "1259/(1259+5376)"
   ]
  },
  {
   "cell_type": "code",
   "execution_count": 61,
   "metadata": {},
   "outputs": [
    {
     "data": {
      "image/png": "[encoded data removed]",
      "text/plain": [
       "<matplotlib.figure.Figure at 0x1a22571b00>"
      ]
     },
     "metadata": {},
     "output_type": "display_data"
    }
   ],
   "source": [
    "N = 3\n",
    "men_means = (583, 3081, 1259)\n",
    "\n",
    "ind = np.arange(N)  # the x locations for the groups\n",
    "width = 0.35       # the width of the bars\n",
    "\n",
    "fig, ax = plt.subplots()\n",
    "rects1 = ax.bar(ind, men_means, width, color='red', alpha=0.9)\n",
    "\n",
    "women_means = (6052, 3554, 5376)\n",
    "rects2 = ax.bar(ind + width, women_means, width, color='#0504aa', alpha=0.7)\n",
    "\n",
    "# add some text for labels, title and axes ticks\n",
    "ax.set_ylabel('Counts')\n",
    "#ax.set_title('Scores by group and gender')\n",
    "ax.set_xticks(ind + width / 2)\n",
    "ax.set_xticklabels(('Teasing', 'Trace bullying', 'Bullying'))\n",
    "\n",
    "ax.legend((rects1[0], rects2[0]), ('Bullying=YES', 'Bullying=NO'))\n",
    "\n",
    "\n",
    "def autolabel(rects):\n",
    "    for rect in rects:\n",
    "        height = rect.get_height()\n",
    "        ax.text(rect.get_x() + rect.get_width()/2., 1.05*height, '%d' % int(height), ha='center', va='bottom')\n",
    "\n",
    "autolabel(rects1)\n",
    "autolabel(rects2)\n",
    "\n",
    "plt.show()\n",
    "plt.close()"
   ]
  },
  {
   "cell_type": "markdown",
   "metadata": {},
   "source": [
    "# Sentiment Analysis"
   ]
  },
  {
   "cell_type": "code",
   "execution_count": 19,
   "metadata": {
    "collapsed": true
   },
   "outputs": [],
   "source": [
    "from sklearn.linear_model import LogisticRegression\n",
    "import pickle \n",
    "\n",
    "with open('./sentiment_classifier/sent140.pkl', 'rb') as fid:\n",
    "    sent_clf = pickle.load(fid)\n",
    "    \n",
    "with open('./sentiment_classifier/vectorizer.pkl', 'rb') as fid:\n",
    "    vectorizer = pickle.load(fid)"
   ]
  },
  {
   "cell_type": "code",
   "execution_count": 20,
   "metadata": {},
   "outputs": [
    {
     "name": "stdout",
     "output_type": "stream",
     "text": [
      "Positive 3111\n",
      "Negative 3396\n"
     ]
    }
   ],
   "source": [
    "texts2 = []\n",
    "for t in texts:\n",
    "    texts2.append(' '.join(t))\n",
    "\n",
    "d = vectorizer.transform(texts2)\n",
    "preds = sent_clf.predict(d)\n",
    "print(\"Positive\", np.sum(preds))\n",
    "print(\"Negative\", len(preds) - np.sum(preds))"
   ]
  },
  {
   "cell_type": "code",
   "execution_count": 46,
   "metadata": {},
   "outputs": [
    {
     "data": {
      "image/png": "[encoded data removed]",
      "text/plain": [
       "<matplotlib.figure.Figure at 0x1a223bc898>"
      ]
     },
     "metadata": {},
     "output_type": "display_data"
    }
   ],
   "source": [
    "objects = ('Positive', 'Negative')\n",
    "y_pos = np.arange(len(objects))\n",
    "performance = [3111, 3396]\n",
    "\n",
    "plt.bar(y_pos, performance, align='center', color='red', alpha=0.9)\n",
    "plt.xticks(y_pos, objects)\n",
    "plt.ylabel('Count')\n",
    "plt.title('Sentiment Analysis')\n",
    "\n",
    "plt.show()\n",
    "plt.close()"
   ]
  },
  {
   "cell_type": "markdown",
   "metadata": {},
   "source": [
    "# Word Cloud"
   ]
  },
  {
   "cell_type": "code",
   "execution_count": 26,
   "metadata": {
    "collapsed": true
   },
   "outputs": [],
   "source": [
    "from PIL import Image\n",
    "from wordcloud import WordCloud, STOPWORDS, ImageColorGenerator"
   ]
  },
  {
   "cell_type": "code",
   "execution_count": 28,
   "metadata": {},
   "outputs": [
    {
     "data": {
      "image/png": "[encoded data removed]",
      "text/plain": [
       "<matplotlib.figure.Figure at 0x1a2adc9390>"
      ]
     },
     "metadata": {},
     "output_type": "display_data"
    }
   ],
   "source": [
    "wordcloud = WordCloud(background_color=\"white\").generate(' '.join(texts2))\n",
    "\n",
    "# Display the generated image:\n",
    "# the matplotlib way:\n",
    "plt.imshow(wordcloud, interpolation='bilinear')\n",
    "plt.axis(\"off\")\n",
    "plt.show()"
   ]
  },
  {
   "cell_type": "code",
   "execution_count": null,
   "metadata": {
    "collapsed": true
   },
   "outputs": [],
   "source": []
  }
 ],
 "metadata": {
  "anaconda-cloud": {},
  "kernelspec": {
   "display_name": "Python 3",
   "language": "python",
   "name": "python3"
  },
  "language_info": {
   "codemirror_mode": {
    "name": "ipython",
    "version": 3
   },
   "file_extension": ".py",
   "mimetype": "text/x-python",
   "name": "python",
   "nbconvert_exporter": "python",
   "pygments_lexer": "ipython3",
   "version": "3.6.3"
  }
 },
 "nbformat": 4,
 "nbformat_minor": 1
}
