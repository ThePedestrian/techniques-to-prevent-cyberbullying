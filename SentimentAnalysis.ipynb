{
 "cells": [
  {
   "cell_type": "markdown",
   "metadata": {},
   "source": [
    "# Read and build classifier"
   ]
  },
  {
   "cell_type": "code",
   "execution_count": 1,
   "metadata": {
    "collapsed": true
   },
   "outputs": [],
   "source": [
    "%matplotlib inline"
   ]
  },
  {
   "cell_type": "code",
   "execution_count": 2,
   "metadata": {
    "_cell_guid": "a70cb00f-b9ee-437a-811c-876b7aec9e24",
    "_uuid": "a046cf9c6e6afa2fbb5920e2d9b3342e337c18c7"
   },
   "outputs": [],
   "source": [
    "import numpy as np # linear algebra\n",
    "import pandas as pd # data processing, CSV file I/O (e.g. pd.read_csv)\n",
    "from subprocess import check_output\n",
    "import chardet\n",
    "import pandas as pd\n",
    "import csv\n",
    "import matplotlib.pyplot as plt\n",
    "\n",
    "from scipy import stats"
   ]
  },
  {
   "cell_type": "code",
   "execution_count": 3,
   "metadata": {},
   "outputs": [
    {
     "name": "stdout",
     "output_type": "stream",
     "text": [
      "row: 0 label: 0 text: @switchfoot http://twitpic.com/2y1zl - Awww, that's a bummer.  You shoulda got David Carr of Third Day to do it. ;D\n",
      "row: 1 label: 0 text: is upset that he can't update his Facebook by texting it... and might cry as a result  School today also. Blah!\n",
      "row: 2 label: 0 text: @Kenichan I dived many times for the ball. Managed to save 50%  The rest go out of bounds\n",
      "row: 3 label: 0 text: my whole body feels itchy and like its on fire \n",
      "row: 4 label: 0 text: @nationwideclass no, it's not behaving at all. i'm mad. why am i here? because I can't see you all over there. \n",
      "row: 5 label: 0 text: @Kwesidei not the whole crew \n",
      "row: 6 label: 0 text: Need a hug \n",
      "row: 7 label: 0 text: @LOLTrish hey  long time no see! Yes.. Rains a bit ,only a bit  LOL , I'm fine thanks , how's you ?\n",
      "row: 8 label: 0 text: @Tatiana_K nope they didn't have it \n",
      "row: 9 label: 0 text: @twittera que me muera ? \n",
      "average target 0.500000 \n",
      "len of text data is 1600000  \n"
     ]
    }
   ],
   "source": [
    "data=[] #will hold text\n",
    "target=[] #will hold label\n",
    "with open(\"./data/sentiment140.csv\", encoding='latin1') as csvfile:\n",
    "    spamreader = csv.reader(csvfile, delimiter=',', quotechar='\"')\n",
    "    for row in spamreader:\n",
    "        data.append(row[5])\n",
    "        target.append(0 if row[0]==\"0\" else 1)    \n",
    "#print top rows            \n",
    "for i in range (10):\n",
    "    print (\"row: %d label: %d text: %s\" % (i,target[i],data[i]))    \n",
    "#print average target\n",
    "print (\"average target %f \" % (np.mean(target)))\n",
    "#print len of data\n",
    "print (\"len of text data is %d  \" % (len(data)))\n",
    "\n",
    "\n",
    "# Any results you write to the current directory are saved as output."
   ]
  },
  {
   "cell_type": "markdown",
   "metadata": {},
   "source": [
    "# EDA"
   ]
  },
  {
   "cell_type": "code",
   "execution_count": 4,
   "metadata": {},
   "outputs": [],
   "source": [
    "num_characters = np.array([len(msg) for msg in data])\n",
    "num_words = np.array([len(msg.split(' ')) for msg in data])"
   ]
  },
  {
   "cell_type": "code",
   "execution_count": 11,
   "metadata": {
    "scrolled": true
   },
   "outputs": [
    {
     "data": {
      "image/png": "[encoded data removed]",
      "text/plain": [
       "<matplotlib.figure.Figure at 0x1a173c4b38>"
      ]
     },
     "metadata": {},
     "output_type": "display_data"
    },
    {
     "data": {
      "text/plain": [
       "DescribeResult(nobs=1600000, minmax=(6, 374), mean=74.09011125, variance=1327.9565936854945, skewness=0.2710178511454374, kurtosis=-1.020061578256023)"
      ]
     },
     "execution_count": 11,
     "metadata": {},
     "output_type": "execute_result"
    }
   ],
   "source": [
    "plt.hist(num_characters, bins='auto', color='#0504aa', alpha=0.7, rwidth=0.85)\n",
    "plt.title('Distribution of characters in Tweet')\n",
    "plt.ylabel('Frequency');\n",
    "plt.xlabel('Number of characters');\n",
    "plt.show()\n",
    "plt.close()\n",
    "\n",
    "stats.describe(num_characters)"
   ]
  },
  {
   "cell_type": "code",
   "execution_count": 21,
   "metadata": {},
   "outputs": [
    {
     "data": {
      "image/png": "[encoded data removed]",
      "text/plain": [
       "<matplotlib.figure.Figure at 0x1a48e73ef0>"
      ]
     },
     "metadata": {},
     "output_type": "display_data"
    },
    {
     "data": {
      "text/plain": [
       "DescribeResult(nobs=1600000, minmax=(2, 110), mean=14.382130625, variance=49.87381048156867, skewness=0.3884119788671588, kurtosis=-0.714251197371599)"
      ]
     },
     "execution_count": 21,
     "metadata": {},
     "output_type": "execute_result"
    }
   ],
   "source": [
    "plt.hist(num_words, bins=50, color='#0504aa', alpha=0.7, rwidth=0.85)\n",
    "plt.title('Distribution of words in Tweet')\n",
    "plt.ylabel('Frequency');\n",
    "plt.xlabel('Number of words');\n",
    "plt.show()\n",
    "plt.close()\n",
    "\n",
    "stats.describe(num_words)"
   ]
  },
  {
   "cell_type": "markdown",
   "metadata": {},
   "source": [
    "# Build Classifier"
   ]
  },
  {
   "cell_type": "code",
   "execution_count": 7,
   "metadata": {
    "_cell_guid": "bc2aa97c-54e6-40c0-b342-b814f9f0a63b",
    "_uuid": "3d32ddf7cca821d3951854721b0eb764398c571e"
   },
   "outputs": [
    {
     "name": "stdout",
     "output_type": "stream",
     "text": [
      " dataset trandformed\n",
      " dataset shape  (1600000, 681045)\n"
     ]
    }
   ],
   "source": [
    "#we transform text sentences into numbers using tfidf from sklearn\n",
    "#link : http://scikit-learn.org/stable/modules/generated/sklearn.feature_extraction.text.TfidfVectorizer.html\n",
    "\n",
    "from sklearn.feature_extraction.text import TfidfVectorizer\n",
    "\n",
    "tfv=TfidfVectorizer(min_df=0, max_features=None, strip_accents='unicode',lowercase =True,\n",
    "                            analyzer='word', token_pattern=r'\\w{3,}', ngram_range=(1,1),\n",
    "                            use_idf=True,smooth_idf=True, sublinear_tf=True, stop_words = \"english\")   \n",
    "\n",
    "#we fit the TfidfVectorizer tarnsform the dataset\n",
    "transformed_data=tfv.fit_transform(data)\n",
    "print (\" dataset trandformed\")\n",
    "print (\" dataset shape \", transformed_data.shape)"
   ]
  },
  {
   "cell_type": "code",
   "execution_count": 8,
   "metadata": {
    "_cell_guid": "edb21b16-87f0-4b04-810f-bbf57387961c",
    "_uuid": "3985584b171b5d648f7caf1f6cc2bfdfda5b2c42"
   },
   "outputs": [
    {
     "name": "stdout",
     "output_type": "stream",
     "text": [
      " auc  0.8950895721859373\n",
      "[0.11177562 0.04995308 0.56954191 0.08014799 0.40962314 0.55655022\n",
      " 0.14106204 0.96535143 0.09682061 0.34765325]\n"
     ]
    }
   ],
   "source": [
    "#fit a classifier (Logistic regression) to differentiate between tweets with negative and positive intent.\n",
    "from sklearn.linear_model import LogisticRegression\n",
    "from sklearn.metrics import roc_auc_score\n",
    "#specify model and parameters\n",
    "model=LogisticRegression(C=1.)\n",
    "#model=LogisticRegression(C=1e5, solver='lbfgs', multi_class='multinomial')\n",
    "#fit model\n",
    "model.fit(transformed_data,target)\n",
    "#make prediction on the same (train) data\n",
    "probability_to_be_positive=model.predict_proba(transformed_data)[:,1]\n",
    "#chcek AUC(Area Undet the Roc Curve) to see how well the score discriminates between negative and positive\n",
    "print (\" auc \" , roc_auc_score(target,probability_to_be_positive))\n",
    "#print top 10 scores as a sanity check\n",
    "print (probability_to_be_positive[:10])"
   ]
  },
  {
   "cell_type": "code",
   "execution_count": 9,
   "metadata": {
    "_cell_guid": "17a7de5f-d3e1-4b53-b749-13a9d4431d48",
    "_uuid": "0d9281d822f0552451b5ed5f243d7a4987b7d66c"
   },
   "outputs": [
    {
     "name": "stdout",
     "output_type": "stream",
     "text": [
      "===============Printing top negative comments===============\n",
      "probability: 0.000000 negative comment text: sad     .... and i miss u\n",
      "probability: 0.000000 negative comment text: now im sad i miss PJ \n",
      "probability: 0.000000 negative comment text: is sad. i miss u .. \n",
      "probability: 0.000001 negative comment text: sick.sad.miss.empty.cry.tears.headache... getting worse.. \n",
      "probability: 0.000001 negative comment text: I hate being sad. I wish there was i way to never be sad again. \n",
      "probability: 0.000002 negative comment text: sad    Missing you already!!!\n",
      "probability: 0.000002 negative comment text: Iï¿½m sad JL of Lost is really dead, poor him. \n",
      "probability: 0.000002 negative comment text: sad sad sad. . . Missed you already.. \n",
      "probability: 0.000002 negative comment text: Have a TERRIBLE headache.  Sad sad.\n",
      "probability: 0.000002 negative comment text: Sad, sad, sad. I don't know why but I hate this feeling  I wanna sleep and I still can't!\n",
      "===============Printing top positive comments===============\n",
      "probability: 0.999971 positive comment text: this is so nice! i love it! thanks!! thank you so much! \n",
      "probability: 0.999913 positive comment text: Thank you so much for all of the #FollowFriday Twitter Love! And Welcome to all of the new followers! \n",
      "probability: 0.999901 positive comment text: welcome 2 today....smile...enjoy it...tell someone thx &amp; u love them \n",
      "probability: 0.999849 positive comment text: Wow thanks for all the followfriday love!  I love you guys!  Welcome to all my new followers!  \n",
      "probability: 0.999834 positive comment text: Thanks everyone for #FollowFriday!  you all are awesome!!!\n",
      "probability: 0.999823 positive comment text: Thanks everyone for all of the #FollowFriday love. You guys rock! Welcome new followers, hope you all find my tweets fun or interesting \n",
      "probability: 0.999812 positive comment text: Thanks for the #FollowFriday #FF love!!! \n",
      "probability: 0.999812 positive comment text: Thanks everyone for all of the #FollowFriday love. You guys rock! Welcome new followers, hope you all find my tweets fun &amp; interesting \n",
      "probability: 0.999787 positive comment text: Welcome new followers and thanks for the love!! Very much appreciated \n",
      "probability: 0.999772 positive comment text: ...YT. It made me so happy. You guys are so amazing. I love you all... Thank you  Oh, and goodmorning, may your day be as good as mine \n"
     ]
    }
   ],
   "source": [
    "#sort results to show some positive ans some negative tweets\n",
    "import operator\n",
    "array_with_all_elements=[]\n",
    "#create a new 2dimensional array to add probability and original text\n",
    "for i in range (len(probability_to_be_positive)):\n",
    "    array_with_all_elements.append([data[i],probability_to_be_positive[i] ])\n",
    "\n",
    "#sort in ascending manner based on prediction\n",
    "array_with_all_elements=sorted(array_with_all_elements, key=operator.itemgetter(1)) \n",
    "\n",
    "print (\"===============Printing top negative comments===============\")\n",
    "#print top negative comments            \n",
    "for i in range (10):\n",
    "    print (\"probability: %f negative comment text: %s\" % (array_with_all_elements[i][1],array_with_all_elements[i][0]))  \n",
    "\n",
    "print (\"===============Printing top positive comments===============\")\n",
    "#print top positive comments            \n",
    "for i in range (len(array_with_all_elements)-1,len(array_with_all_elements)-11,-1 ):\n",
    "    print (\"probability: %f positive comment text: %s\" % (array_with_all_elements[i][1],array_with_all_elements[i][0]))  \n"
   ]
  },
  {
   "cell_type": "markdown",
   "metadata": {},
   "source": [
    "# Save the classifier"
   ]
  },
  {
   "cell_type": "code",
   "execution_count": 10,
   "metadata": {
    "collapsed": true
   },
   "outputs": [],
   "source": [
    "import pickle\n",
    "\n",
    "# save the classifier\n",
    "with open('./sentiment_classifier/sent140.pkl', 'wb') as fid:\n",
    "    pickle.dump(model, fid)\n",
    "    \n",
    "# save the vectorizer\n",
    "with open('./sentiment_classifier/vectorizer.pkl', 'wb') as fid:\n",
    "    pickle.dump(tfv, fid)"
   ]
  },
  {
   "cell_type": "code",
   "execution_count": null,
   "metadata": {
    "collapsed": true
   },
   "outputs": [],
   "source": []
  }
 ],
 "metadata": {
  "kernelspec": {
   "display_name": "Python 3",
   "language": "python",
   "name": "python3"
  },
  "language_info": {
   "codemirror_mode": {
    "name": "ipython",
    "version": 3
   },
   "file_extension": ".py",
   "mimetype": "text/x-python",
   "name": "python",
   "nbconvert_exporter": "python",
   "pygments_lexer": "ipython3",
   "version": "3.6.3"
  }
 },
 "nbformat": 4,
 "nbformat_minor": 1
}
